{
  "cells": [
    {
      "cell_type": "markdown",
      "id": "9aafc571",
      "metadata": {
        "id": "9aafc571"
      },
      "source": [
        "#### Importing Important Libraries"
      ]
    },
    {
      "cell_type": "code",
      "execution_count": null,
      "id": "d7fcae7e",
      "metadata": {
        "id": "d7fcae7e"
      },
      "outputs": [],
      "source": [
        "import pandas as pd\n",
        "import numpy as np\n",
        "import matplotlib.pyplot as plt\n",
        "data = pd.read_csv('president_heights.csv')"
      ]
    },
    {
      "cell_type": "code",
      "execution_count": null,
      "id": "1483f3c1",
      "metadata": {
        "id": "1483f3c1",
        "outputId": "b0d6eb48-232b-4e21-ddd6-80697195e1f1"
      },
      "outputs": [
        {
          "data": {
            "text/html": [
              "<div>\n",
              "<style scoped>\n",
              "    .dataframe tbody tr th:only-of-type {\n",
              "        vertical-align: middle;\n",
              "    }\n",
              "\n",
              "    .dataframe tbody tr th {\n",
              "        vertical-align: top;\n",
              "    }\n",
              "\n",
              "    .dataframe thead th {\n",
              "        text-align: right;\n",
              "    }\n",
              "</style>\n",
              "<table border=\"1\" class=\"dataframe\">\n",
              "  <thead>\n",
              "    <tr style=\"text-align: right;\">\n",
              "      <th></th>\n",
              "      <th>order</th>\n",
              "      <th>name</th>\n",
              "      <th>height(cm)</th>\n",
              "    </tr>\n",
              "  </thead>\n",
              "  <tbody>\n",
              "    <tr>\n",
              "      <th>0</th>\n",
              "      <td>1</td>\n",
              "      <td>George Washington</td>\n",
              "      <td>189</td>\n",
              "    </tr>\n",
              "    <tr>\n",
              "      <th>1</th>\n",
              "      <td>2</td>\n",
              "      <td>John Adams</td>\n",
              "      <td>170</td>\n",
              "    </tr>\n",
              "    <tr>\n",
              "      <th>2</th>\n",
              "      <td>3</td>\n",
              "      <td>Thomas Jefferson</td>\n",
              "      <td>189</td>\n",
              "    </tr>\n",
              "    <tr>\n",
              "      <th>3</th>\n",
              "      <td>4</td>\n",
              "      <td>James Madison</td>\n",
              "      <td>163</td>\n",
              "    </tr>\n",
              "    <tr>\n",
              "      <th>4</th>\n",
              "      <td>5</td>\n",
              "      <td>James Monroe</td>\n",
              "      <td>183</td>\n",
              "    </tr>\n",
              "  </tbody>\n",
              "</table>\n",
              "</div>"
            ],
            "text/plain": [
              "   order               name  height(cm)\n",
              "0      1  George Washington         189\n",
              "1      2         John Adams         170\n",
              "2      3   Thomas Jefferson         189\n",
              "3      4      James Madison         163\n",
              "4      5       James Monroe         183"
            ]
          },
          "execution_count": 2,
          "metadata": {},
          "output_type": "execute_result"
        }
      ],
      "source": [
        "data.head()"
      ]
    },
    {
      "cell_type": "code",
      "execution_count": null,
      "id": "1ba7c8a0",
      "metadata": {
        "id": "1ba7c8a0",
        "outputId": "93586aab-fec0-41e9-d18c-2613fe0daf1d"
      },
      "outputs": [
        {
          "data": {
            "text/plain": [
              "pandas.core.frame.DataFrame"
            ]
          },
          "execution_count": 3,
          "metadata": {},
          "output_type": "execute_result"
        }
      ],
      "source": [
        "type(data)"
      ]
    },
    {
      "cell_type": "code",
      "execution_count": null,
      "id": "ea7bdae1",
      "metadata": {
        "id": "ea7bdae1",
        "outputId": "080e9be5-c657-404b-e3cb-cc986cac6617"
      },
      "outputs": [
        {
          "data": {
            "text/plain": [
              "(42, 3)"
            ]
          },
          "execution_count": 4,
          "metadata": {},
          "output_type": "execute_result"
        }
      ],
      "source": [
        "data.shape"
      ]
    },
    {
      "cell_type": "markdown",
      "id": "ab2650fd",
      "metadata": {
        "id": "ab2650fd"
      },
      "source": [
        "####  lets do some analysis"
      ]
    },
    {
      "cell_type": "code",
      "execution_count": null,
      "id": "b02d84e8",
      "metadata": {
        "id": "b02d84e8"
      },
      "outputs": [],
      "source": [
        "heights = data ['height(cm)']"
      ]
    },
    {
      "cell_type": "code",
      "execution_count": null,
      "id": "67cf4d46",
      "metadata": {
        "id": "67cf4d46",
        "outputId": "56542c11-ad01-435f-e53c-0a4f6b72f0fb"
      },
      "outputs": [
        {
          "data": {
            "text/plain": [
              "0    189\n",
              "1    170\n",
              "2    189\n",
              "3    163\n",
              "4    183\n",
              "5    171\n",
              "6    185\n",
              "7    168\n",
              "8    173\n",
              "9    183\n",
              "Name: height(cm), dtype: int64"
            ]
          },
          "execution_count": 6,
          "metadata": {},
          "output_type": "execute_result"
        }
      ],
      "source": [
        "heights[:10]"
      ]
    },
    {
      "cell_type": "code",
      "execution_count": null,
      "id": "c428166a",
      "metadata": {
        "id": "c428166a"
      },
      "outputs": [],
      "source": [
        "heights = heights.values"
      ]
    },
    {
      "cell_type": "code",
      "execution_count": null,
      "id": "204cf5ea",
      "metadata": {
        "id": "204cf5ea",
        "outputId": "5d33c968-33bc-40ab-8ab6-98f24a0a8884"
      },
      "outputs": [
        {
          "data": {
            "text/plain": [
              "array([189, 170, 189, 163, 183, 171, 185, 168, 173, 183, 173, 173, 175,\n",
              "       178, 183, 193, 178, 173, 174, 183, 183, 168, 170, 178, 182, 180,\n",
              "       183, 178, 182, 188, 175, 179, 183, 193, 182, 183, 177, 185, 188,\n",
              "       188, 182, 185], dtype=int64)"
            ]
          },
          "execution_count": 8,
          "metadata": {},
          "output_type": "execute_result"
        }
      ],
      "source": [
        "heights"
      ]
    },
    {
      "cell_type": "code",
      "execution_count": null,
      "id": "e6749c06",
      "metadata": {
        "id": "e6749c06",
        "outputId": "d88480a0-6dac-4344-a71e-a62db78f5e3c"
      },
      "outputs": [
        {
          "data": {
            "text/plain": [
              "193"
            ]
          },
          "execution_count": 9,
          "metadata": {},
          "output_type": "execute_result"
        }
      ],
      "source": [
        "# checking for maximum heights\n",
        "heights.max()"
      ]
    },
    {
      "cell_type": "code",
      "execution_count": null,
      "id": "2402461a",
      "metadata": {
        "id": "2402461a",
        "outputId": "d230f27e-7429-44fc-ccce-40916eee24b6"
      },
      "outputs": [
        {
          "data": {
            "text/plain": [
              "163"
            ]
          },
          "execution_count": 10,
          "metadata": {},
          "output_type": "execute_result"
        }
      ],
      "source": [
        "np.min(heights)"
      ]
    },
    {
      "cell_type": "code",
      "execution_count": null,
      "id": "0c37dc3c",
      "metadata": {
        "id": "0c37dc3c",
        "outputId": "c0588605-f921-4280-94e9-8795cc333c6b"
      },
      "outputs": [
        {
          "data": {
            "text/plain": [
              "179.73809523809524"
            ]
          },
          "execution_count": 11,
          "metadata": {},
          "output_type": "execute_result"
        }
      ],
      "source": [
        "np.mean(heights)"
      ]
    },
    {
      "cell_type": "code",
      "execution_count": null,
      "id": "f6bfa256",
      "metadata": {
        "id": "f6bfa256",
        "outputId": "72faf54f-ea59-4c81-b8bb-c2771b6a62b7"
      },
      "outputs": [
        {
          "data": {
            "text/plain": [
              "182.0"
            ]
          },
          "execution_count": 12,
          "metadata": {},
          "output_type": "execute_result"
        }
      ],
      "source": [
        "np.median(heights)"
      ]
    },
    {
      "cell_type": "markdown",
      "id": "0eacb623",
      "metadata": {
        "id": "0eacb623"
      },
      "source": [
        "#### Let's visualize:"
      ]
    },
    {
      "cell_type": "raw",
      "id": "ddf883f5",
      "metadata": {
        "id": "ddf883f5"
      },
      "source": [
        " Histogram:"
      ]
    },
    {
      "cell_type": "code",
      "execution_count": null,
      "id": "b1755861",
      "metadata": {
        "id": "b1755861",
        "outputId": "12af8ef8-81f2-4183-c095-61e85a33d701"
      },
      "outputs": [
        {
          "data": {
            "image/png": "[encoded data removed]",
            "text/plain": [
              "<Figure size 432x288 with 1 Axes>"
            ]
          },
          "metadata": {
            "needs_background": "light"
          },
          "output_type": "display_data"
        }
      ],
      "source": [
        "plt.hist(heights) # Plot the histogram\n",
        "plt.title('Height Distribution of US Presidents') # title the graph\n",
        "plt.xlabel('Heights (cm)') # label of the x-axis\n",
        "plt.ylabel('Numbers'); # label of the y-axis"
      ]
    },
    {
      "cell_type": "code",
      "execution_count": null,
      "id": "869a3393",
      "metadata": {
        "id": "869a3393"
      },
      "outputs": [],
      "source": [
        ""
      ]
    }
  ],
  "metadata": {
    "kernelspec": {
      "display_name": "Python 3",
      "language": "python",
      "name": "python3"
    },
    "language_info": {
      "codemirror_mode": {
        "name": "ipython",
        "version": 3
      },
      "file_extension": ".py",
      "mimetype": "text/x-python",
      "name": "python",
      "nbconvert_exporter": "python",
      "pygments_lexer": "ipython3",
      "version": "3.8.8"
    },
    "colab": {
      "name": "Average Height of US Presidents.ipynb",
      "provenance": []
    }
  },
  "nbformat": 4,
  "nbformat_minor": 5
}