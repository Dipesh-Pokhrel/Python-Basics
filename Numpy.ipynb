{
  "cells": [
    {
      "cell_type": "markdown",
      "id": "97c6ccfe",
      "metadata": {
        "id": "97c6ccfe"
      },
      "source": [
        "### NumPy\n",
        "NumPy is a powerful Python library, which is a short form of 'Numerial Python'. It provides an efficient and easy way to store and operate on dense data. Although NumPy arrays look very much like Python lists, they provide much more efficient storage and data operations as the arrays grow larger in size. NumPy arrays are the core of almost all data science tools in Python.\n",
        "\n",
        "Once you have installed NumPy on your system, you need to import the library as follows."
      ]
    },
    {
      "cell_type": "code",
      "execution_count": 1,
      "id": "c3dead0b",
      "metadata": {
        "colab": {
          "base_uri": "https://localhost:8080/",
          "height": 35
        },
        "id": "c3dead0b",
        "outputId": "36bf2e90-c5cc-49c9-9890-4d348ec96f64"
      },
      "outputs": [
        {
          "output_type": "execute_result",
          "data": {
            "text/plain": [
              "'1.21.5'"
            ],
            "application/vnd.google.colaboratory.intrinsic+json": {
              "type": "string"
            }
          },
          "metadata": {},
          "execution_count": 1
        }
      ],
      "source": [
        "import numpy \n",
        "numpy.__version__"
      ]
    },
    {
      "cell_type": "markdown",
      "id": "a77a5547",
      "metadata": {
        "id": "a77a5547"
      },
      "source": [
        "It is advisable to import `numpy` as an alias as follows."
      ]
    },
    {
      "cell_type": "code",
      "execution_count": 2,
      "id": "bd17371e",
      "metadata": {
        "id": "bd17371e"
      },
      "outputs": [],
      "source": [
        "import numpy as np"
      ]
    },
    {
      "cell_type": "markdown",
      "id": "e454df06",
      "metadata": {
        "id": "e454df06"
      },
      "source": [
        "#### NumPy Arrays\n",
        "NumPy arrays provide efficient storage as well as efficient operations on data. As opposed to Python lists (which can store items of different data types), numpy arrays can store only one type of items, meaning that all the items in the array need to be of the same type.\n",
        "\n",
        "##### Creating arrays from Python lists\n",
        "We can create `numpy` array from Python list as follows."
      ]
    },
    {
      "cell_type": "code",
      "execution_count": 3,
      "id": "d9254150",
      "metadata": {
        "id": "d9254150",
        "colab": {
          "base_uri": "https://localhost:8080/"
        },
        "outputId": "9318ed44-3f8e-4924-fd54-9176518b4c1f"
      },
      "outputs": [
        {
          "output_type": "stream",
          "name": "stdout",
          "text": [
            "[ 2  4  8 16]\n",
            "<class 'numpy.ndarray'>\n"
          ]
        }
      ],
      "source": [
        "my_arr = np.array([2, 4, 8, 16])\n",
        "print(my_arr)\n",
        "print(type(my_arr)) # data type is ndarray"
      ]
    },
    {
      "cell_type": "markdown",
      "id": "7999c5b5",
      "metadata": {
        "id": "7999c5b5"
      },
      "source": [
        "If you try to put different data types in the `numpy` array, `numpy` tries to upcast if it is possible. Examples follow."
      ]
    },
    {
      "cell_type": "code",
      "execution_count": 4,
      "id": "53a3182a",
      "metadata": {
        "id": "53a3182a"
      },
      "outputs": [],
      "source": [
        "arr1 = np.array([1,2,-3,4.9,0])"
      ]
    },
    {
      "cell_type": "code",
      "execution_count": 5,
      "id": "3e3f5195",
      "metadata": {
        "colab": {
          "base_uri": "https://localhost:8080/"
        },
        "id": "3e3f5195",
        "outputId": "62cfbd14-0c4a-45a7-a66c-403d69c4d3a1"
      },
      "outputs": [
        {
          "output_type": "execute_result",
          "data": {
            "text/plain": [
              "numpy.float64"
            ]
          },
          "metadata": {},
          "execution_count": 5
        }
      ],
      "source": [
        "type(arr1[3])"
      ]
    },
    {
      "cell_type": "code",
      "execution_count": 6,
      "id": "d56a4f2e",
      "metadata": {
        "colab": {
          "base_uri": "https://localhost:8080/"
        },
        "id": "d56a4f2e",
        "outputId": "27a3fcb7-6e1c-4ca5-f81c-a20430039dfb"
      },
      "outputs": [
        {
          "output_type": "execute_result",
          "data": {
            "text/plain": [
              "dtype('float64')"
            ]
          },
          "metadata": {},
          "execution_count": 6
        }
      ],
      "source": [
        "arr1.dtype"
      ]
    },
    {
      "cell_type": "code",
      "execution_count": 7,
      "id": "4e1d211a",
      "metadata": {
        "colab": {
          "base_uri": "https://localhost:8080/"
        },
        "id": "4e1d211a",
        "outputId": "94db0494-94f5-41c0-b1fd-97370c001aea"
      },
      "outputs": [
        {
          "output_type": "execute_result",
          "data": {
            "text/plain": [
              "array([ 1. ,  2. , -3. ,  4.9,  0. ])"
            ]
          },
          "metadata": {},
          "execution_count": 7
        }
      ],
      "source": [
        "arr1"
      ]
    },
    {
      "cell_type": "code",
      "execution_count": 8,
      "id": "e090c79b",
      "metadata": {
        "id": "e090c79b"
      },
      "outputs": [],
      "source": [
        "# Upcasting\n",
        "arr2 = np.array([3,4,5,9.2,5,10.8])"
      ]
    },
    {
      "cell_type": "code",
      "execution_count": 9,
      "id": "a59759bf",
      "metadata": {
        "colab": {
          "base_uri": "https://localhost:8080/"
        },
        "id": "a59759bf",
        "outputId": "140acd7d-de7b-457f-fe51-783d7dc6b398"
      },
      "outputs": [
        {
          "output_type": "execute_result",
          "data": {
            "text/plain": [
              "array([ 3. ,  4. ,  5. ,  9.2,  5. , 10.8])"
            ]
          },
          "metadata": {},
          "execution_count": 9
        }
      ],
      "source": [
        "arr2"
      ]
    },
    {
      "cell_type": "code",
      "execution_count": 10,
      "id": "d62a6c9b",
      "metadata": {
        "colab": {
          "base_uri": "https://localhost:8080/"
        },
        "id": "d62a6c9b",
        "outputId": "9cf800c1-b82f-4c56-dd88-85631bc94a58"
      },
      "outputs": [
        {
          "output_type": "execute_result",
          "data": {
            "text/plain": [
              "dtype('float64')"
            ]
          },
          "metadata": {},
          "execution_count": 10
        }
      ],
      "source": [
        "arr2.dtype"
      ]
    },
    {
      "cell_type": "code",
      "execution_count": 11,
      "id": "3992fa1c",
      "metadata": {
        "id": "3992fa1c"
      },
      "outputs": [],
      "source": [
        "arr3 = np.array([3,4,5,9.2,5,10.8, 'hi'])"
      ]
    },
    {
      "cell_type": "code",
      "execution_count": 12,
      "id": "0d1d018e",
      "metadata": {
        "colab": {
          "base_uri": "https://localhost:8080/"
        },
        "id": "0d1d018e",
        "outputId": "0d5fdd03-c97a-48d2-f3aa-9c855fda559e"
      },
      "outputs": [
        {
          "output_type": "execute_result",
          "data": {
            "text/plain": [
              "dtype('<U32')"
            ]
          },
          "metadata": {},
          "execution_count": 12
        }
      ],
      "source": [
        "arr3.dtype"
      ]
    },
    {
      "cell_type": "code",
      "execution_count": 13,
      "id": "f13934df",
      "metadata": {
        "colab": {
          "base_uri": "https://localhost:8080/"
        },
        "id": "f13934df",
        "outputId": "34c9536a-2097-4364-a592-24acbe843b99"
      },
      "outputs": [
        {
          "output_type": "execute_result",
          "data": {
            "text/plain": [
              "array(['3', '4', '5', '9.2', '5', '10.8', 'hi'], dtype='<U32')"
            ]
          },
          "metadata": {},
          "execution_count": 13
        }
      ],
      "source": [
        "arr3"
      ]
    },
    {
      "cell_type": "markdown",
      "id": "04cbec30",
      "metadata": {
        "id": "04cbec30"
      },
      "source": [
        "We can also explicitly set the data type of the array using the `dtype` keyword, as follows."
      ]
    },
    {
      "cell_type": "code",
      "execution_count": 14,
      "id": "28300120",
      "metadata": {
        "id": "28300120"
      },
      "outputs": [],
      "source": [
        "arr4 = np.array([3,4,5,9.2,5,10.8], dtype = 'int') # force upcasting"
      ]
    },
    {
      "cell_type": "code",
      "execution_count": 15,
      "id": "c6cb5495",
      "metadata": {
        "colab": {
          "base_uri": "https://localhost:8080/"
        },
        "id": "c6cb5495",
        "outputId": "73532a34-3786-42df-e349-e6d1f5f40ee0"
      },
      "outputs": [
        {
          "output_type": "execute_result",
          "data": {
            "text/plain": [
              "dtype('int64')"
            ]
          },
          "metadata": {},
          "execution_count": 15
        }
      ],
      "source": [
        "arr4.dtype"
      ]
    },
    {
      "cell_type": "code",
      "execution_count": 16,
      "id": "4361c707",
      "metadata": {
        "colab": {
          "base_uri": "https://localhost:8080/"
        },
        "id": "4361c707",
        "outputId": "4556c090-b82a-43ba-81ad-7e4c72fffd19"
      },
      "outputs": [
        {
          "output_type": "execute_result",
          "data": {
            "text/plain": [
              "array([ 3,  4,  5,  9,  5, 10])"
            ]
          },
          "metadata": {},
          "execution_count": 16
        }
      ],
      "source": [
        "arr4"
      ]
    },
    {
      "cell_type": "code",
      "execution_count": 17,
      "id": "82551169",
      "metadata": {
        "id": "82551169"
      },
      "outputs": [],
      "source": [
        "arr4 = np.array([3,4,5,9.2,5,10.8], dtype = 'str') # force upcasting"
      ]
    },
    {
      "cell_type": "code",
      "execution_count": 18,
      "id": "05c69f9f",
      "metadata": {
        "colab": {
          "base_uri": "https://localhost:8080/"
        },
        "id": "05c69f9f",
        "outputId": "3812a526-0f7e-4c93-9504-e31a1f5f5606"
      },
      "outputs": [
        {
          "output_type": "execute_result",
          "data": {
            "text/plain": [
              "array(['3', '4', '5', '9.2', '5', '10.8'], dtype='<U4')"
            ]
          },
          "metadata": {},
          "execution_count": 18
        }
      ],
      "source": [
        "arr4"
      ]
    },
    {
      "cell_type": "markdown",
      "id": "f636957e",
      "metadata": {
        "id": "f636957e"
      },
      "source": [
        "`numpy` array can be multi-dimensional. Let's create a 2-dimensional `numpy` array."
      ]
    },
    {
      "cell_type": "code",
      "execution_count": 19,
      "id": "f700fade",
      "metadata": {
        "colab": {
          "base_uri": "https://localhost:8080/"
        },
        "id": "f700fade",
        "outputId": "ffc85f3d-dc99-4532-faf7-20099994acb3"
      },
      "outputs": [
        {
          "output_type": "execute_result",
          "data": {
            "text/plain": [
              "array([[1, 2, 3],\n",
              "       [4, 5, 6],\n",
              "       [7, 8, 9]])"
            ]
          },
          "metadata": {},
          "execution_count": 19
        }
      ],
      "source": [
        "import numpy as np\n",
        "np.array([        # a 3 by 3 array\n",
        "          [1, 2, 3],\n",
        "          [4, 5, 6],\n",
        "          [7, 8, 9]\n",
        "        ])"
      ]
    },
    {
      "cell_type": "code",
      "execution_count": 20,
      "id": "370df895",
      "metadata": {
        "id": "370df895"
      },
      "outputs": [],
      "source": [
        "arr2d = np.array([[2,-3,0],[1,98,-56]])"
      ]
    },
    {
      "cell_type": "code",
      "execution_count": 21,
      "id": "8a3e9cd8",
      "metadata": {
        "colab": {
          "base_uri": "https://localhost:8080/"
        },
        "id": "8a3e9cd8",
        "outputId": "6f5b657f-5cd3-46e3-da90-31a487d904bd"
      },
      "outputs": [
        {
          "output_type": "execute_result",
          "data": {
            "text/plain": [
              "array([[  2,  -3,   0],\n",
              "       [  1,  98, -56]])"
            ]
          },
          "metadata": {},
          "execution_count": 21
        }
      ],
      "source": [
        "arr2d"
      ]
    },
    {
      "cell_type": "raw",
      "id": "88473e65",
      "metadata": {
        "id": "88473e65"
      },
      "source": [
        "Checking dimension, size and shape of array. \n",
        " "
      ]
    },
    {
      "cell_type": "code",
      "execution_count": 22,
      "id": "0b15f29b",
      "metadata": {
        "colab": {
          "base_uri": "https://localhost:8080/"
        },
        "id": "0b15f29b",
        "outputId": "55e27662-5b8f-43b3-a097-57a87c8ad7b3"
      },
      "outputs": [
        {
          "output_type": "execute_result",
          "data": {
            "text/plain": [
              "2"
            ]
          },
          "metadata": {},
          "execution_count": 22
        }
      ],
      "source": [
        "arr2d.ndim # dimension "
      ]
    },
    {
      "cell_type": "code",
      "execution_count": 23,
      "id": "66b7ce44",
      "metadata": {
        "colab": {
          "base_uri": "https://localhost:8080/"
        },
        "id": "66b7ce44",
        "outputId": "92c3a532-af47-4005-d499-30cbcd9ee87a"
      },
      "outputs": [
        {
          "output_type": "execute_result",
          "data": {
            "text/plain": [
              "6"
            ]
          },
          "metadata": {},
          "execution_count": 23
        }
      ],
      "source": [
        "arr2d.size # size "
      ]
    },
    {
      "cell_type": "code",
      "execution_count": 24,
      "id": "fefcf28f",
      "metadata": {
        "colab": {
          "base_uri": "https://localhost:8080/"
        },
        "id": "fefcf28f",
        "outputId": "6464b9df-67d7-4a6e-bce8-1a11fd74f5c7"
      },
      "outputs": [
        {
          "output_type": "execute_result",
          "data": {
            "text/plain": [
              "(2, 3)"
            ]
          },
          "metadata": {},
          "execution_count": 24
        }
      ],
      "source": [
        "arr2d.shape # shape "
      ]
    },
    {
      "cell_type": "markdown",
      "id": "4bf32df7",
      "metadata": {
        "id": "4bf32df7"
      },
      "source": [
        "#### Creating array with built-in method"
      ]
    },
    {
      "cell_type": "raw",
      "id": "84fccf9e",
      "metadata": {
        "id": "84fccf9e"
      },
      "source": [
        "Here are some ways we can create arrays with built-in methods."
      ]
    },
    {
      "cell_type": "code",
      "execution_count": 25,
      "id": "5ac730a7",
      "metadata": {
        "id": "5ac730a7"
      },
      "outputs": [],
      "source": [
        "arr = np.zeros(6) # create an array of 6 elements as zero."
      ]
    },
    {
      "cell_type": "code",
      "execution_count": 26,
      "id": "5f832946",
      "metadata": {
        "colab": {
          "base_uri": "https://localhost:8080/"
        },
        "id": "5f832946",
        "outputId": "41a4b9e7-20d1-4f5f-a918-39ee9271502e"
      },
      "outputs": [
        {
          "output_type": "execute_result",
          "data": {
            "text/plain": [
              "array([0., 0., 0., 0., 0., 0.])"
            ]
          },
          "metadata": {},
          "execution_count": 26
        }
      ],
      "source": [
        "arr"
      ]
    },
    {
      "cell_type": "code",
      "execution_count": 27,
      "id": "ae395012",
      "metadata": {
        "colab": {
          "base_uri": "https://localhost:8080/"
        },
        "id": "ae395012",
        "outputId": "cde6c755-ffe1-4981-816c-c789f4822cfb"
      },
      "outputs": [
        {
          "output_type": "execute_result",
          "data": {
            "text/plain": [
              "dtype('float64')"
            ]
          },
          "metadata": {},
          "execution_count": 27
        }
      ],
      "source": [
        "np.zeros(6).dtype"
      ]
    },
    {
      "cell_type": "code",
      "execution_count": 28,
      "id": "fbff8fcd",
      "metadata": {
        "colab": {
          "base_uri": "https://localhost:8080/"
        },
        "id": "fbff8fcd",
        "outputId": "0c2ea80b-122c-456d-aa20-92d9c336e2b9"
      },
      "outputs": [
        {
          "output_type": "execute_result",
          "data": {
            "text/plain": [
              "array([1., 1., 1., 1., 1., 1.])"
            ]
          },
          "metadata": {},
          "execution_count": 28
        }
      ],
      "source": [
        "np.ones(6)"
      ]
    },
    {
      "cell_type": "code",
      "execution_count": 29,
      "id": "4dc0ce35",
      "metadata": {
        "colab": {
          "base_uri": "https://localhost:8080/"
        },
        "id": "4dc0ce35",
        "outputId": "db8c3561-c603-4f4c-daff-d546f4fbb94c"
      },
      "outputs": [
        {
          "output_type": "execute_result",
          "data": {
            "text/plain": [
              "array([[1., 1.],\n",
              "       [1., 1.],\n",
              "       [1., 1.]])"
            ]
          },
          "metadata": {},
          "execution_count": 29
        }
      ],
      "source": [
        "np.ones((3,2))"
      ]
    },
    {
      "cell_type": "code",
      "execution_count": 30,
      "id": "c0199117",
      "metadata": {
        "id": "c0199117"
      },
      "outputs": [],
      "source": [
        "# create a 3-dimensional array filled with ones\n",
        "arr = np.ones((3,5,2), dtype=float)"
      ]
    },
    {
      "cell_type": "code",
      "execution_count": 31,
      "id": "86ab1eeb",
      "metadata": {
        "colab": {
          "base_uri": "https://localhost:8080/"
        },
        "id": "86ab1eeb",
        "outputId": "1de1e0a8-4ad9-4fd5-9bc6-92ddf428e9d5"
      },
      "outputs": [
        {
          "output_type": "execute_result",
          "data": {
            "text/plain": [
              "array([[[1., 1.],\n",
              "        [1., 1.],\n",
              "        [1., 1.],\n",
              "        [1., 1.],\n",
              "        [1., 1.]],\n",
              "\n",
              "       [[1., 1.],\n",
              "        [1., 1.],\n",
              "        [1., 1.],\n",
              "        [1., 1.],\n",
              "        [1., 1.]],\n",
              "\n",
              "       [[1., 1.],\n",
              "        [1., 1.],\n",
              "        [1., 1.],\n",
              "        [1., 1.],\n",
              "        [1., 1.]]])"
            ]
          },
          "metadata": {},
          "execution_count": 31
        }
      ],
      "source": [
        "arr"
      ]
    },
    {
      "cell_type": "code",
      "execution_count": 32,
      "id": "7413ed9d",
      "metadata": {
        "colab": {
          "base_uri": "https://localhost:8080/"
        },
        "id": "7413ed9d",
        "outputId": "7dc0fb8c-cdfc-47ab-ccbf-61378ecdaed3"
      },
      "outputs": [
        {
          "output_type": "execute_result",
          "data": {
            "text/plain": [
              "array([ 1,  4,  7, 10, 13, 16, 19, 22, 25, 28])"
            ]
          },
          "metadata": {},
          "execution_count": 32
        }
      ],
      "source": [
        "# create an array filled with a linear sequence which starts at 1 and ends at 30\n",
        "# with a step of 3\n",
        "np.arange(1, 31, 3)"
      ]
    },
    {
      "cell_type": "code",
      "execution_count": 33,
      "id": "fa84c894",
      "metadata": {
        "colab": {
          "base_uri": "https://localhost:8080/"
        },
        "id": "fa84c894",
        "outputId": "d1cf0b99-6336-4594-8d30-a2b5ec36c2af"
      },
      "outputs": [
        {
          "output_type": "execute_result",
          "data": {
            "text/plain": [
              "array([0, 1, 2, 3, 4])"
            ]
          },
          "metadata": {},
          "execution_count": 33
        }
      ],
      "source": [
        "# arange \n",
        "np.arange(5)"
      ]
    },
    {
      "cell_type": "code",
      "execution_count": 34,
      "id": "b98c5b58",
      "metadata": {
        "colab": {
          "base_uri": "https://localhost:8080/"
        },
        "id": "b98c5b58",
        "outputId": "923889e7-50ce-4abe-e325-e5740ef9ee80"
      },
      "outputs": [
        {
          "output_type": "execute_result",
          "data": {
            "text/plain": [
              "array([2, 3, 4, 5, 6, 7, 8, 9])"
            ]
          },
          "metadata": {},
          "execution_count": 34
        }
      ],
      "source": [
        "np.arange(2,10)"
      ]
    },
    {
      "cell_type": "code",
      "execution_count": 35,
      "id": "de5d556b",
      "metadata": {
        "colab": {
          "base_uri": "https://localhost:8080/"
        },
        "id": "de5d556b",
        "outputId": "30431e1e-428a-4787-d14a-f0ff8eac8613"
      },
      "outputs": [
        {
          "output_type": "execute_result",
          "data": {
            "text/plain": [
              "array([3, 5, 7, 9])"
            ]
          },
          "metadata": {},
          "execution_count": 35
        }
      ],
      "source": [
        "np.arange(3,10,2)"
      ]
    },
    {
      "cell_type": "code",
      "execution_count": 36,
      "id": "a663cdd1",
      "metadata": {
        "colab": {
          "base_uri": "https://localhost:8080/"
        },
        "id": "a663cdd1",
        "outputId": "f4da5914-2a6b-40ab-bff8-5b9847405035"
      },
      "outputs": [
        {
          "output_type": "execute_result",
          "data": {
            "text/plain": [
              "array([0.  , 0.25, 0.5 , 0.75, 1.  ])"
            ]
          },
          "metadata": {},
          "execution_count": 36
        }
      ],
      "source": [
        "# create an array of 5 values evenly spaced between 0 and 1\n",
        "np.linspace(0, 1, 5)"
      ]
    },
    {
      "cell_type": "code",
      "execution_count": 37,
      "id": "37919c3f",
      "metadata": {
        "colab": {
          "base_uri": "https://localhost:8080/"
        },
        "id": "37919c3f",
        "outputId": "b0c2446f-f630-4201-c02e-5e0f26bd58d0"
      },
      "outputs": [
        {
          "output_type": "execute_result",
          "data": {
            "text/plain": [
              "array([[0.36259286, 0.03486622, 0.80449965],\n",
              "       [0.05101196, 0.93307617, 0.58034795],\n",
              "       [0.13530612, 0.77888237, 0.56159843]])"
            ]
          },
          "metadata": {},
          "execution_count": 37
        }
      ],
      "source": [
        "# create a 3x3 array of uniformly distributed random values between 0 and 1\n",
        "np.random.random((3,3))"
      ]
    },
    {
      "cell_type": "code",
      "execution_count": 38,
      "id": "e2d064db",
      "metadata": {
        "colab": {
          "base_uri": "https://localhost:8080/"
        },
        "id": "e2d064db",
        "outputId": "a8ff0a6b-d521-4a33-8d6c-94638bd06a59"
      },
      "outputs": [
        {
          "output_type": "execute_result",
          "data": {
            "text/plain": [
              "array([[-1.84110333,  1.318649  , -0.55093799],\n",
              "       [-0.16228378, -0.17711614,  0.57675674],\n",
              "       [ 0.03650932,  0.06340209,  2.01246131]])"
            ]
          },
          "metadata": {},
          "execution_count": 38
        }
      ],
      "source": [
        "# create a 3x3 array of normally distributed random values with mean (average)\n",
        "# 0 and standard deviation 1\n",
        "np.random.normal(0, 1, (3, 3))"
      ]
    },
    {
      "cell_type": "code",
      "execution_count": 39,
      "id": "5fdc41c8",
      "metadata": {
        "colab": {
          "base_uri": "https://localhost:8080/"
        },
        "id": "5fdc41c8",
        "outputId": "199dd2f9-427c-4526-d778-faad51abd7d9"
      },
      "outputs": [
        {
          "output_type": "execute_result",
          "data": {
            "text/plain": [
              "array([[4, 8, 6],\n",
              "       [2, 4, 6],\n",
              "       [3, 3, 8]])"
            ]
          },
          "metadata": {},
          "execution_count": 39
        }
      ],
      "source": [
        "# create a 3x3 array of random integers between 0 and 10 (including 0 and excluding 10),\n",
        "# in notation [0, 10)\n",
        "np.random.randint(0, 10, (3,3))"
      ]
    },
    {
      "cell_type": "code",
      "execution_count": 40,
      "id": "2d441a50",
      "metadata": {
        "colab": {
          "base_uri": "https://localhost:8080/"
        },
        "id": "2d441a50",
        "outputId": "1cd9bb46-21d2-4fdc-e64a-e6b691d11392"
      },
      "outputs": [
        {
          "output_type": "execute_result",
          "data": {
            "text/plain": [
              "array([[1., 0., 0.],\n",
              "       [0., 1., 0.],\n",
              "       [0., 0., 1.]])"
            ]
          },
          "metadata": {},
          "execution_count": 40
        }
      ],
      "source": [
        "# create a 3x3 identity matrix\n",
        "np.eye(3)"
      ]
    },
    {
      "cell_type": "code",
      "execution_count": 41,
      "metadata": {
        "colab": {
          "base_uri": "https://localhost:8080/"
        },
        "id": "aM0BTyez-uTP",
        "outputId": "856169dd-9cc9-412b-e91b-0af3c41ab243"
      },
      "outputs": [
        {
          "output_type": "execute_result",
          "data": {
            "text/plain": [
              "array([4.68964082e-310, 0.00000000e+000, 0.00000000e+000, 0.00000000e+000,\n",
              "       0.00000000e+000, 0.00000000e+000, 0.00000000e+000, 0.00000000e+000,\n",
              "       0.00000000e+000, 0.00000000e+000])"
            ]
          },
          "metadata": {},
          "execution_count": 41
        }
      ],
      "source": [
        "# create an uninitialized array of 3 integers. The values will be whatever happens\n",
        "# to exist already in that memory location\n",
        "np.empty(10)"
      ],
      "id": "aM0BTyez-uTP"
    },
    {
      "cell_type": "code",
      "source": [
        "import numpy as np\n",
        "np.random.seed(0) # seed ensures that we get the same random numbers each time (reproducibility)\n",
        "\n",
        "# one-dim array\n",
        "x1 = np.random.randint(10, size=6)\n",
        "x2 = np.random.randint(10, size=(4,3))\n",
        "x3 = np.random.randint(10, size=(2,3,4))\n",
        "x1"
      ],
      "metadata": {
        "colab": {
          "base_uri": "https://localhost:8080/"
        },
        "id": "ss133RbkSY4L",
        "outputId": "525c228b-9ae9-4531-e913-c386b34170b0"
      },
      "id": "ss133RbkSY4L",
      "execution_count": 42,
      "outputs": [
        {
          "output_type": "execute_result",
          "data": {
            "text/plain": [
              "array([5, 0, 3, 3, 7, 9])"
            ]
          },
          "metadata": {},
          "execution_count": 42
        }
      ]
    },
    {
      "cell_type": "code",
      "execution_count": 43,
      "id": "82239f7e",
      "metadata": {
        "colab": {
          "base_uri": "https://localhost:8080/"
        },
        "id": "82239f7e",
        "outputId": "7cf1b7c5-da2c-4604-83e6-aa0da2d98ece"
      },
      "outputs": [
        {
          "output_type": "execute_result",
          "data": {
            "text/plain": [
              "array([ 0.        ,  6.66666667, 13.33333333, 20.        ])"
            ]
          },
          "metadata": {},
          "execution_count": 43
        }
      ],
      "source": [
        "np.linspace(0,20,4)"
      ]
    },
    {
      "cell_type": "code",
      "execution_count": 44,
      "id": "08fc714a",
      "metadata": {
        "colab": {
          "base_uri": "https://localhost:8080/"
        },
        "id": "08fc714a",
        "outputId": "32ccc373-c1a4-46ff-edd9-cddf0a8bef0a"
      },
      "outputs": [
        {
          "output_type": "execute_result",
          "data": {
            "text/plain": [
              "array([0.94466892, 0.52184832, 0.41466194, 0.26455561, 0.77423369])"
            ]
          },
          "metadata": {},
          "execution_count": 44
        }
      ],
      "source": [
        "# random => output differ in every runs. Lies between 0 to 1.\n",
        "np.random.random(5)"
      ]
    },
    {
      "cell_type": "code",
      "execution_count": 45,
      "id": "fc85ab20",
      "metadata": {
        "colab": {
          "base_uri": "https://localhost:8080/"
        },
        "id": "fc85ab20",
        "outputId": "80d26c02-3401-416b-a541-02f76f5fff0a"
      },
      "outputs": [
        {
          "output_type": "execute_result",
          "data": {
            "text/plain": [
              "array([0.45615033, 0.56843395, 0.0187898 , 0.6176355 , 0.61209572])"
            ]
          },
          "metadata": {},
          "execution_count": 45
        }
      ],
      "source": [
        "np.random.random(5) # array using uniform distribution"
      ]
    },
    {
      "cell_type": "code",
      "execution_count": 46,
      "id": "be3a0557",
      "metadata": {
        "colab": {
          "base_uri": "https://localhost:8080/"
        },
        "id": "be3a0557",
        "outputId": "586a28b2-0c4d-4137-9d90-4de16fcc90df"
      },
      "outputs": [
        {
          "output_type": "execute_result",
          "data": {
            "text/plain": [
              "array([0.616934  , 0.94374808, 0.6818203 , 0.3595079 , 0.43703195])"
            ]
          },
          "metadata": {},
          "execution_count": 46
        }
      ],
      "source": [
        "np.random.random(5)"
      ]
    },
    {
      "cell_type": "code",
      "execution_count": 47,
      "id": "9a6e0ca1",
      "metadata": {
        "colab": {
          "base_uri": "https://localhost:8080/"
        },
        "id": "9a6e0ca1",
        "outputId": "548f1a73-885b-481b-98e8-5ced8eea2bac"
      },
      "outputs": [
        {
          "output_type": "execute_result",
          "data": {
            "text/plain": [
              "array([[0.6976312 , 0.06022547, 0.66676672],\n",
              "       [0.67063787, 0.21038256, 0.1289263 ]])"
            ]
          },
          "metadata": {},
          "execution_count": 47
        }
      ],
      "source": [
        "np.random.random((2,3))"
      ]
    },
    {
      "cell_type": "raw",
      "id": "9837e998",
      "metadata": {
        "id": "9837e998"
      },
      "source": [
        "Array using normal distribution.\n",
        "np.random.normal(mean, standard deviation())"
      ]
    },
    {
      "cell_type": "code",
      "execution_count": 48,
      "id": "ff41f810",
      "metadata": {
        "colab": {
          "base_uri": "https://localhost:8080/"
        },
        "id": "ff41f810",
        "outputId": "8763ac62-1f36-4307-993b-477beb6d0237"
      },
      "outputs": [
        {
          "output_type": "execute_result",
          "data": {
            "text/plain": [
              "array([[-1.09710593, -1.84003587, -2.41254038],\n",
              "       [ 4.90155079, -0.01930436,  0.1238514 ]])"
            ]
          },
          "metadata": {},
          "execution_count": 48
        }
      ],
      "source": [
        "np.random.normal(1,2,(2,3))"
      ]
    },
    {
      "cell_type": "code",
      "execution_count": 49,
      "id": "424f5263",
      "metadata": {
        "colab": {
          "base_uri": "https://localhost:8080/"
        },
        "id": "424f5263",
        "outputId": "358b817a-ac7d-4110-d123-48a33dde3bd9"
      },
      "outputs": [
        {
          "output_type": "execute_result",
          "data": {
            "text/plain": [
              "array([[5, 5, 9, 5],\n",
              "       [4, 8, 6, 6],\n",
              "       [1, 2, 6, 4],\n",
              "       [1, 6, 1, 2],\n",
              "       [3, 5, 3, 1]])"
            ]
          },
          "metadata": {},
          "execution_count": 49
        }
      ],
      "source": [
        "np.random.randint(1,10,(5,4))"
      ]
    },
    {
      "cell_type": "markdown",
      "id": "3be28104",
      "metadata": {
        "id": "3be28104"
      },
      "source": [
        "#### Identity Matrix"
      ]
    },
    {
      "cell_type": "code",
      "execution_count": 50,
      "id": "bcef56fc",
      "metadata": {
        "colab": {
          "base_uri": "https://localhost:8080/"
        },
        "id": "bcef56fc",
        "outputId": "edd99ae5-1a73-4d36-b912-e67c018b7798"
      },
      "outputs": [
        {
          "output_type": "execute_result",
          "data": {
            "text/plain": [
              "array([[1., 0., 0., 0., 0.],\n",
              "       [0., 1., 0., 0., 0.],\n",
              "       [0., 0., 1., 0., 0.],\n",
              "       [0., 0., 0., 1., 0.],\n",
              "       [0., 0., 0., 0., 1.]])"
            ]
          },
          "metadata": {},
          "execution_count": 50
        }
      ],
      "source": [
        "np.eye(5)"
      ]
    },
    {
      "cell_type": "code",
      "execution_count": 51,
      "id": "96cd73fd",
      "metadata": {
        "colab": {
          "base_uri": "https://localhost:8080/"
        },
        "id": "96cd73fd",
        "outputId": "c9f17fab-028c-4f22-c853-6493ba3aff3b"
      },
      "outputs": [
        {
          "output_type": "execute_result",
          "data": {
            "text/plain": [
              "array([4.68964082e-310, 0.00000000e+000, 0.00000000e+000, 0.00000000e+000,\n",
              "       0.00000000e+000, 0.00000000e+000, 0.00000000e+000, 0.00000000e+000,\n",
              "       0.00000000e+000, 0.00000000e+000])"
            ]
          },
          "metadata": {},
          "execution_count": 51
        }
      ],
      "source": [
        "np.empty(10)"
      ]
    },
    {
      "cell_type": "markdown",
      "metadata": {
        "id": "81a67a64"
      },
      "source": [
        "##### NumPy standard data types\n",
        "As NumPy is coded in the C programming language, the standard data types in numpy are similar to C data types.\n",
        "\n",
        "The source of the following table is: Python Data Science Handbook (By: Jake VanderPlas)"
      ],
      "id": "81a67a64"
    },
    {
      "cell_type": "markdown",
      "metadata": {
        "id": "10bbf0ff"
      },
      "source": [
        "![image.png](data:image/png;base64,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)"
      ],
      "id": "10bbf0ff"
    },
    {
      "cell_type": "markdown",
      "id": "84e7198d",
      "metadata": {
        "id": "84e7198d"
      },
      "source": [
        "### Basic of NumPy Array"
      ]
    },
    {
      "cell_type": "raw",
      "id": "78309557",
      "metadata": {
        "id": "78309557"
      },
      "source": [
        "Numpy Array Attributes:\n",
        "1. One Dimensional Array\n",
        "2. Two Dimensional Array\n",
        "3. Three Dimensional Aray"
      ]
    },
    {
      "cell_type": "code",
      "execution_count": 52,
      "id": "29b7c5f4",
      "metadata": {
        "id": "29b7c5f4"
      },
      "outputs": [],
      "source": [
        "import numpy as np"
      ]
    },
    {
      "cell_type": "code",
      "execution_count": 53,
      "id": "2e2a3035",
      "metadata": {
        "colab": {
          "base_uri": "https://localhost:8080/"
        },
        "id": "2e2a3035",
        "outputId": "90507c18-ca63-4a10-ffb4-f203328a099a"
      },
      "outputs": [
        {
          "output_type": "execute_result",
          "data": {
            "text/plain": [
              "array([6, 9, 7, 2, 5, 5, 5, 9, 3, 5])"
            ]
          },
          "metadata": {},
          "execution_count": 53
        }
      ],
      "source": [
        "np.random.seed(0) # seed ensure same random number next time (reproducibility)\n",
        "np.random.randint(2,10,10)"
      ]
    },
    {
      "cell_type": "code",
      "execution_count": 54,
      "id": "10be64f8",
      "metadata": {
        "colab": {
          "base_uri": "https://localhost:8080/"
        },
        "id": "10be64f8",
        "outputId": "23dc184e-8f36-41c8-c5d0-c5d7a16614e7"
      },
      "outputs": [
        {
          "output_type": "execute_result",
          "data": {
            "text/plain": [
              "array([6, 9, 7, 2, 5, 5, 5, 9, 3, 5])"
            ]
          },
          "metadata": {},
          "execution_count": 54
        }
      ],
      "source": [
        "np.random.seed(0) \n",
        "np.random.randint(2,10,10)"
      ]
    },
    {
      "cell_type": "code",
      "execution_count": 55,
      "id": "8dbeb741",
      "metadata": {
        "id": "8dbeb741",
        "colab": {
          "base_uri": "https://localhost:8080/"
        },
        "outputId": "9a7a9985-1059-4f7f-c1b8-8e172a0c1933"
      },
      "outputs": [
        {
          "output_type": "execute_result",
          "data": {
            "text/plain": [
              "array([5, 0, 3, 3, 7, 9])"
            ]
          },
          "metadata": {},
          "execution_count": 55
        }
      ],
      "source": [
        "import numpy as np\n",
        "np.random.seed(0)\n",
        "x1 = np.random.randint(10, size = 6)\n",
        "x2 = np.random.randint (10, size = (4,3))\n",
        "x3 = np.random.randint (10, size =(2,3,4))\n",
        "x1"
      ]
    },
    {
      "cell_type": "markdown",
      "source": [
        "The above arrays have the following attributes.\n",
        "\n",
        "* `ndim` => Number of dimensions\n",
        "* `shape` => Size of each dimension\n",
        "* `size` => Total size of the array\n"
      ],
      "metadata": {
        "id": "8DqcbZWcTN2M"
      },
      "id": "8DqcbZWcTN2M"
    },
    {
      "cell_type": "code",
      "execution_count": 56,
      "id": "311fbca0",
      "metadata": {
        "colab": {
          "base_uri": "https://localhost:8080/"
        },
        "id": "311fbca0",
        "outputId": "b4239b12-32f6-47d3-c07a-d08e389fb845"
      },
      "outputs": [
        {
          "output_type": "stream",
          "name": "stdout",
          "text": [
            "1\n",
            "2\n",
            "3\n"
          ]
        }
      ],
      "source": [
        "# number of dimensions\n",
        "print(x1.ndim)\n",
        "print(x2.ndim)\n",
        "print(x3.ndim)"
      ]
    },
    {
      "cell_type": "code",
      "source": [
        "# shape\n",
        "print(x1.shape)\n",
        "print(x2.shape)\n",
        "print(x3.shape)"
      ],
      "metadata": {
        "id": "7qdhz3ONTpJU",
        "colab": {
          "base_uri": "https://localhost:8080/"
        },
        "outputId": "8b322e75-1255-4519-acac-d10256183951"
      },
      "id": "7qdhz3ONTpJU",
      "execution_count": 57,
      "outputs": [
        {
          "output_type": "stream",
          "name": "stdout",
          "text": [
            "(6,)\n",
            "(4, 3)\n",
            "(2, 3, 4)\n"
          ]
        }
      ]
    },
    {
      "cell_type": "code",
      "source": [
        "# size\n",
        "print(x1.size)\n",
        "print(x2.size)\n",
        "print(x3.size)"
      ],
      "metadata": {
        "id": "dp-vP6JTT4BG",
        "colab": {
          "base_uri": "https://localhost:8080/"
        },
        "outputId": "8cdf2b03-80d7-4d96-f0f1-b6c83f466dbd"
      },
      "id": "dp-vP6JTT4BG",
      "execution_count": 58,
      "outputs": [
        {
          "output_type": "stream",
          "name": "stdout",
          "text": [
            "6\n",
            "12\n",
            "24\n"
          ]
        }
      ]
    },
    {
      "cell_type": "markdown",
      "source": [
        "Another useful attribute of `numpy` array is `dtype`, which is the data type of the array."
      ],
      "metadata": {
        "id": "uUiBeFH7UuI2"
      },
      "id": "uUiBeFH7UuI2"
    },
    {
      "cell_type": "code",
      "source": [
        "x1.dtype"
      ],
      "metadata": {
        "id": "mXrbhYgIU3WV",
        "colab": {
          "base_uri": "https://localhost:8080/"
        },
        "outputId": "a5932d9c-0203-4dc8-ae42-2540dbac5ea2"
      },
      "id": "mXrbhYgIU3WV",
      "execution_count": 59,
      "outputs": [
        {
          "output_type": "execute_result",
          "data": {
            "text/plain": [
              "dtype('int64')"
            ]
          },
          "metadata": {},
          "execution_count": 59
        }
      ]
    },
    {
      "cell_type": "markdown",
      "source": [
        "Other attributes of numpy array:\n",
        "\n",
        "* itemsize => size in bytes of each item (element) in the array\n",
        "* `nbytes` => total size of the array in bytes\n",
        "Evidently, `nbytes` = `itemsize` * `size`"
      ],
      "metadata": {
        "id": "RzuhFCugU67u"
      },
      "id": "RzuhFCugU67u"
    },
    {
      "cell_type": "code",
      "source": [
        "print(\"x2.itemsize =\", x1.itemsize)\n",
        "print(\"x2.nbytes =\", x1.nbytes)"
      ],
      "metadata": {
        "colab": {
          "base_uri": "https://localhost:8080/"
        },
        "id": "d0EPSm_qVFWN",
        "outputId": "508b07d5-c685-47d3-abf8-9a9d40a2aacb"
      },
      "id": "d0EPSm_qVFWN",
      "execution_count": 60,
      "outputs": [
        {
          "output_type": "stream",
          "name": "stdout",
          "text": [
            "x2.itemsize = 8\n",
            "x2.nbytes = 48\n"
          ]
        }
      ]
    },
    {
      "cell_type": "code",
      "source": [
        "x2.nbytes == x2.itemsize * x2.size"
      ],
      "metadata": {
        "colab": {
          "base_uri": "https://localhost:8080/"
        },
        "id": "FD3KHRc_VIO-",
        "outputId": "0b3c251d-4dbd-4da9-f65d-3e62ac508155"
      },
      "id": "FD3KHRc_VIO-",
      "execution_count": 61,
      "outputs": [
        {
          "output_type": "execute_result",
          "data": {
            "text/plain": [
              "True"
            ]
          },
          "metadata": {},
          "execution_count": 61
        }
      ]
    },
    {
      "cell_type": "code",
      "execution_count": 62,
      "id": "aa52a103",
      "metadata": {
        "colab": {
          "base_uri": "https://localhost:8080/"
        },
        "id": "aa52a103",
        "outputId": "7f06c193-3312-4ef7-dc02-307cd67f5fdd"
      },
      "outputs": [
        {
          "output_type": "execute_result",
          "data": {
            "text/plain": [
              "8"
            ]
          },
          "metadata": {},
          "execution_count": 62
        }
      ],
      "source": [
        "x2.itemsize"
      ]
    },
    {
      "cell_type": "code",
      "execution_count": 63,
      "id": "f160887a",
      "metadata": {
        "colab": {
          "base_uri": "https://localhost:8080/"
        },
        "id": "f160887a",
        "outputId": "4949f3c8-e85e-4bb1-bec9-539e850e9b6a"
      },
      "outputs": [
        {
          "output_type": "execute_result",
          "data": {
            "text/plain": [
              "48"
            ]
          },
          "metadata": {},
          "execution_count": 63
        }
      ],
      "source": [
        "x1.nbytes"
      ]
    },
    {
      "cell_type": "code",
      "execution_count": 64,
      "id": "84bbe1ff",
      "metadata": {
        "colab": {
          "base_uri": "https://localhost:8080/"
        },
        "id": "84bbe1ff",
        "outputId": "a3857603-1bdb-4dbd-b281-1478e6b8a449"
      },
      "outputs": [
        {
          "output_type": "execute_result",
          "data": {
            "text/plain": [
              "array([[3, 5, 2],\n",
              "       [4, 7, 6],\n",
              "       [8, 8, 1],\n",
              "       [6, 7, 7]])"
            ]
          },
          "metadata": {},
          "execution_count": 64
        }
      ],
      "source": [
        "x2"
      ]
    },
    {
      "cell_type": "code",
      "execution_count": 65,
      "id": "bfcf86ef",
      "metadata": {
        "colab": {
          "base_uri": "https://localhost:8080/"
        },
        "id": "bfcf86ef",
        "outputId": "1a76de32-dbe4-4491-920e-eb3b5a6677ff"
      },
      "outputs": [
        {
          "output_type": "execute_result",
          "data": {
            "text/plain": [
              "dtype('int64')"
            ]
          },
          "metadata": {},
          "execution_count": 65
        }
      ],
      "source": [
        "x2.dtype "
      ]
    },
    {
      "cell_type": "code",
      "execution_count": 66,
      "id": "c1ac3d3a",
      "metadata": {
        "colab": {
          "base_uri": "https://localhost:8080/"
        },
        "id": "c1ac3d3a",
        "outputId": "928b9776-83b2-4dff-f67a-153bef7fed31"
      },
      "outputs": [
        {
          "output_type": "execute_result",
          "data": {
            "text/plain": [
              "8"
            ]
          },
          "metadata": {},
          "execution_count": 66
        }
      ],
      "source": [
        "x2.itemsize"
      ]
    },
    {
      "cell_type": "code",
      "execution_count": 67,
      "id": "d754f346",
      "metadata": {
        "colab": {
          "base_uri": "https://localhost:8080/"
        },
        "id": "d754f346",
        "outputId": "78232bce-0404-47cd-ded9-a26d8b817470"
      },
      "outputs": [
        {
          "output_type": "execute_result",
          "data": {
            "text/plain": [
              "96"
            ]
          },
          "metadata": {},
          "execution_count": 67
        }
      ],
      "source": [
        "x2.nbytes # Gives the total size of array."
      ]
    },
    {
      "cell_type": "markdown",
      "id": "6aa961ea",
      "metadata": {
        "id": "6aa961ea"
      },
      "source": [
        "### Array Indexing"
      ]
    },
    {
      "cell_type": "raw",
      "id": "a57d1432",
      "metadata": {
        "id": "a57d1432"
      },
      "source": [
        " #### Accessing single elements  \n",
        " For one-dimensional arrays, array indexing is the same as list indexing."
      ]
    },
    {
      "cell_type": "code",
      "execution_count": 68,
      "id": "42ba69a2",
      "metadata": {
        "colab": {
          "base_uri": "https://localhost:8080/"
        },
        "id": "42ba69a2",
        "outputId": "56b000c0-8bc0-4c72-d426-e2eac7e84135"
      },
      "outputs": [
        {
          "output_type": "stream",
          "name": "stdout",
          "text": [
            "[5 0 3 3 7 9]\n",
            "5\n"
          ]
        }
      ],
      "source": [
        "print(x1)\n",
        "print(x1[0])"
      ]
    },
    {
      "cell_type": "markdown",
      "source": [
        "You can use negative indexing as well, just as in lists.\n",
        "\n",
        "For multi-dimensional arrays, you can access items with comma-separated tuple of indices. Example:"
      ],
      "metadata": {
        "id": "7catWConVcKV"
      },
      "id": "7catWConVcKV"
    },
    {
      "cell_type": "code",
      "execution_count": 69,
      "id": "1876c347",
      "metadata": {
        "colab": {
          "base_uri": "https://localhost:8080/"
        },
        "id": "1876c347",
        "outputId": "e7779a8f-3b2f-42ef-fac3-a829b8789315"
      },
      "outputs": [
        {
          "output_type": "stream",
          "name": "stdout",
          "text": [
            "[[3 5 2]\n",
            " [4 7 6]\n",
            " [8 8 1]\n",
            " [6 7 7]]\n",
            "item at row 1, column 1:  3\n",
            "item at row 3, column 3:  1\n"
          ]
        }
      ],
      "source": [
        "print(x2)\n",
        "print(\"item at row 1, column 1: \", x2[0,0])\n",
        "print(\"item at row 3, column 3: \", x2[2,-1])"
      ]
    },
    {
      "cell_type": "markdown",
      "source": [
        "You can update a value in the array using indexing as shown below."
      ],
      "metadata": {
        "id": "RBAwLoNAVkZ1"
      },
      "id": "RBAwLoNAVkZ1"
    },
    {
      "cell_type": "code",
      "execution_count": 70,
      "id": "dc5c11ab",
      "metadata": {
        "colab": {
          "base_uri": "https://localhost:8080/"
        },
        "id": "dc5c11ab",
        "outputId": "58fd6e80-4c24-49ce-9987-ffaf3623b408"
      },
      "outputs": [
        {
          "output_type": "stream",
          "name": "stdout",
          "text": [
            "[[3 5 2]\n",
            " [4 7 6]\n",
            " [8 8 3]\n",
            " [6 7 7]]\n",
            "updated item at row 3, column 3:  3\n"
          ]
        }
      ],
      "source": [
        "x2[2,-1] = 3.14159\n",
        "print(x2)\n",
        "print(\"updated item at row 3, column 3: \", x2[2,-1]) # 3.14159 will be trucated to 3"
      ]
    },
    {
      "cell_type": "markdown",
      "id": "9ec37b7b",
      "metadata": {
        "id": "9ec37b7b"
      },
      "source": [
        "#### Array slicing"
      ]
    },
    {
      "cell_type": "markdown",
      "source": [
        "We can use square brackets to access subarrays with slice notation (indices/step separated by colons).\n",
        "\n",
        "The syntax is: x[start index : stop index + 1 : step] If no index and step are given (e.g. x[::]), then by default,\n",
        "\n",
        "* start index = 0\n",
        "* stop index = last index\n",
        "* step = 1"
      ],
      "metadata": {
        "id": "IZJ5AFjJVufd"
      },
      "id": "IZJ5AFjJVufd"
    },
    {
      "cell_type": "code",
      "execution_count": 71,
      "id": "c8f159e6",
      "metadata": {
        "colab": {
          "base_uri": "https://localhost:8080/"
        },
        "id": "c8f159e6",
        "outputId": "59c4fad5-e07a-4f23-d209-d70922a2383a"
      },
      "outputs": [
        {
          "output_type": "execute_result",
          "data": {
            "text/plain": [
              "array([0, 1, 2, 3, 4, 5, 6, 7, 8, 9])"
            ]
          },
          "metadata": {},
          "execution_count": 71
        }
      ],
      "source": [
        "# one-dim array\n",
        "import numpy as np\n",
        "x = np.arange(10)\n",
        "x"
      ]
    },
    {
      "cell_type": "code",
      "execution_count": 72,
      "id": "dbe582e7",
      "metadata": {
        "colab": {
          "base_uri": "https://localhost:8080/"
        },
        "id": "dbe582e7",
        "outputId": "6e0d9b64-e2bb-4f6a-b2c9-b4ea58b30738"
      },
      "outputs": [
        {
          "output_type": "stream",
          "name": "stdout",
          "text": [
            "x[:7] =>  [0 1 2 3 4 5 6]\n",
            "x[7:] =>  [7 8 9]\n",
            "x[3:8] =>  [3 4 5 6 7]\n",
            "x[::2] =>  [0 2 4 6 8]\n",
            "x[2::2] =>  [2 4 6 8]\n",
            "x[::] =>  [0 1 2 3 4 5 6 7 8 9]\n",
            "x[7:3:-1] =>  [7 6 5 4]\n"
          ]
        }
      ],
      "source": [
        "# slicing\n",
        "print(\"x[:7] => \", x[:7]) # access index 0 through 6\n",
        "print(\"x[7:] => \", x[7:]) # access index 7 through to end index\n",
        "print(\"x[3:8] => \", x[3:8]) # access index 3 through 7\n",
        "print(\"x[::2] => \", x[::2]) # access every other element starting from the first\n",
        "print(\"x[2::2] => \", x[2::2]) # access every other element starting from the index 2\n",
        "print(\"x[::] => \", x[::]) # access all elements\n",
        "\n",
        "# if the step value is negative, elements are accessed from start_index to stop_index\n",
        "# where start_index > stop_index, and step is decremented by the step size\n",
        "print(\"x[7:3:-1] => \", x[7:3:-1]) # index 7 to index 4 decremented by 1"
      ]
    },
    {
      "cell_type": "markdown",
      "source": [
        "**Accessing Multi-dimensional subarrays**"
      ],
      "metadata": {
        "id": "66PDsKLMWBv-"
      },
      "id": "66PDsKLMWBv-"
    },
    {
      "cell_type": "code",
      "source": [
        "x2"
      ],
      "metadata": {
        "id": "21nNL289WFmd",
        "colab": {
          "base_uri": "https://localhost:8080/"
        },
        "outputId": "a032c714-72da-480f-960c-b19058f0cffc"
      },
      "id": "21nNL289WFmd",
      "execution_count": 73,
      "outputs": [
        {
          "output_type": "execute_result",
          "data": {
            "text/plain": [
              "array([[3, 5, 2],\n",
              "       [4, 7, 6],\n",
              "       [8, 8, 3],\n",
              "       [6, 7, 7]])"
            ]
          },
          "metadata": {},
          "execution_count": 73
        }
      ]
    },
    {
      "cell_type": "code",
      "source": [
        "x2[:3, :2] # rows => index 0 to 2; columns => index 0 to 1"
      ],
      "metadata": {
        "id": "D2BBpkgxWFjF",
        "colab": {
          "base_uri": "https://localhost:8080/"
        },
        "outputId": "1cd220e4-d017-4b1a-9be1-c10890f5d5ea"
      },
      "id": "D2BBpkgxWFjF",
      "execution_count": 74,
      "outputs": [
        {
          "output_type": "execute_result",
          "data": {
            "text/plain": [
              "array([[3, 5],\n",
              "       [4, 7],\n",
              "       [8, 8]])"
            ]
          },
          "metadata": {},
          "execution_count": 74
        }
      ]
    },
    {
      "cell_type": "code",
      "source": [
        "x2[::2,:] # every other row; all columns"
      ],
      "metadata": {
        "id": "vHsdEfkUWFZe",
        "colab": {
          "base_uri": "https://localhost:8080/"
        },
        "outputId": "5b741e85-8f08-4b10-e902-beebe155aa58"
      },
      "id": "vHsdEfkUWFZe",
      "execution_count": 75,
      "outputs": [
        {
          "output_type": "execute_result",
          "data": {
            "text/plain": [
              "array([[3, 5, 2],\n",
              "       [8, 8, 3]])"
            ]
          },
          "metadata": {},
          "execution_count": 75
        }
      ]
    },
    {
      "cell_type": "code",
      "source": [
        "# reverse altogether - both rows and columns\n",
        "x2[::-1, ::-1]"
      ],
      "metadata": {
        "id": "Zf4rL_P-WOSW",
        "colab": {
          "base_uri": "https://localhost:8080/"
        },
        "outputId": "0624f86d-1f06-4dad-8beb-95e4d730be8f"
      },
      "id": "Zf4rL_P-WOSW",
      "execution_count": 76,
      "outputs": [
        {
          "output_type": "execute_result",
          "data": {
            "text/plain": [
              "array([[7, 7, 6],\n",
              "       [3, 8, 8],\n",
              "       [6, 7, 4],\n",
              "       [2, 5, 3]])"
            ]
          },
          "metadata": {},
          "execution_count": 76
        }
      ]
    },
    {
      "cell_type": "markdown",
      "source": [
        "**Accessing array rows and columns**"
      ],
      "metadata": {
        "id": "v8AaqGzrWRxf"
      },
      "id": "v8AaqGzrWRxf"
    },
    {
      "cell_type": "code",
      "source": [
        "x2"
      ],
      "metadata": {
        "id": "bkSZz699WN5V",
        "colab": {
          "base_uri": "https://localhost:8080/"
        },
        "outputId": "dcf650fc-4a95-4803-bd14-04a90fd41a31"
      },
      "id": "bkSZz699WN5V",
      "execution_count": 77,
      "outputs": [
        {
          "output_type": "execute_result",
          "data": {
            "text/plain": [
              "array([[3, 5, 2],\n",
              "       [4, 7, 6],\n",
              "       [8, 8, 3],\n",
              "       [6, 7, 7]])"
            ]
          },
          "metadata": {},
          "execution_count": 77
        }
      ]
    },
    {
      "cell_type": "code",
      "source": [
        "x2[:,1] # second column"
      ],
      "metadata": {
        "id": "zYACgR5ZWWbt",
        "colab": {
          "base_uri": "https://localhost:8080/"
        },
        "outputId": "a844c166-d528-43ee-cfea-3b7127915216"
      },
      "id": "zYACgR5ZWWbt",
      "execution_count": 78,
      "outputs": [
        {
          "output_type": "execute_result",
          "data": {
            "text/plain": [
              "array([5, 7, 8, 7])"
            ]
          },
          "metadata": {},
          "execution_count": 78
        }
      ]
    },
    {
      "cell_type": "code",
      "source": [
        "x2[1,:] # second row"
      ],
      "metadata": {
        "id": "GoR6IzfTWWWf",
        "colab": {
          "base_uri": "https://localhost:8080/"
        },
        "outputId": "4fba6497-7c27-4e99-a7f7-b4d39fb91e96"
      },
      "id": "GoR6IzfTWWWf",
      "execution_count": 79,
      "outputs": [
        {
          "output_type": "execute_result",
          "data": {
            "text/plain": [
              "array([4, 7, 6])"
            ]
          },
          "metadata": {},
          "execution_count": 79
        }
      ]
    },
    {
      "cell_type": "markdown",
      "id": "2853ee4a",
      "metadata": {
        "id": "2853ee4a"
      },
      "source": [
        "#### Reshaping Arrays\n",
        "You can use the `reshape()` method to reshape arrays."
      ]
    },
    {
      "cell_type": "code",
      "execution_count": 80,
      "id": "08b3ef47",
      "metadata": {
        "id": "08b3ef47",
        "colab": {
          "base_uri": "https://localhost:8080/"
        },
        "outputId": "bac1aa7d-469e-497d-b522-dce33b64715e"
      },
      "outputs": [
        {
          "output_type": "execute_result",
          "data": {
            "text/plain": [
              "array([[1, 2, 3],\n",
              "       [4, 5, 6],\n",
              "       [7, 8, 9]])"
            ]
          },
          "metadata": {},
          "execution_count": 80
        }
      ],
      "source": [
        "# reshape a one-dim array to 3x3 matrix\n",
        "np.arange(1,10).reshape((3,3)) # size of original array must match the size of the reshaped array"
      ]
    },
    {
      "cell_type": "markdown",
      "source": [
        "You can reshape a one-dimensional array into a two-dimensional row or column matrix."
      ],
      "metadata": {
        "id": "zDPCiAVvWnbn"
      },
      "id": "zDPCiAVvWnbn"
    },
    {
      "cell_type": "code",
      "source": [
        "import numpy as np\n",
        "x = np.arange(5)\n",
        "x # one-dim array"
      ],
      "metadata": {
        "id": "03IzMfCzWp9O",
        "colab": {
          "base_uri": "https://localhost:8080/"
        },
        "outputId": "d85f6c76-0177-473a-d7ef-8749b5bc2a51"
      },
      "id": "03IzMfCzWp9O",
      "execution_count": 81,
      "outputs": [
        {
          "output_type": "execute_result",
          "data": {
            "text/plain": [
              "array([0, 1, 2, 3, 4])"
            ]
          },
          "metadata": {},
          "execution_count": 81
        }
      ]
    },
    {
      "cell_type": "code",
      "source": [
        "x.shape"
      ],
      "metadata": {
        "id": "uauLzZ2lWryd",
        "colab": {
          "base_uri": "https://localhost:8080/"
        },
        "outputId": "61a7f9f7-89ad-4dff-e883-6f59114fe5c3"
      },
      "id": "uauLzZ2lWryd",
      "execution_count": 82,
      "outputs": [
        {
          "output_type": "execute_result",
          "data": {
            "text/plain": [
              "(5,)"
            ]
          },
          "metadata": {},
          "execution_count": 82
        }
      ]
    },
    {
      "cell_type": "code",
      "source": [
        "# row vector using reshape\n",
        "x.reshape((1,5)) # reshape to 1x5 matrix (row matrix) -- 2-dim array"
      ],
      "metadata": {
        "id": "t3HDlQHoWtq9",
        "colab": {
          "base_uri": "https://localhost:8080/"
        },
        "outputId": "a1ce91a5-6390-4cbe-ee47-b8dc263b89db"
      },
      "id": "t3HDlQHoWtq9",
      "execution_count": 83,
      "outputs": [
        {
          "output_type": "execute_result",
          "data": {
            "text/plain": [
              "array([[0, 1, 2, 3, 4]])"
            ]
          },
          "metadata": {},
          "execution_count": 83
        }
      ]
    },
    {
      "cell_type": "code",
      "source": [
        "# row vector using newaxis\n",
        "x[np.newaxis,:]"
      ],
      "metadata": {
        "id": "U__O_P-IWvT-",
        "colab": {
          "base_uri": "https://localhost:8080/"
        },
        "outputId": "2df9eb5b-ae6c-4b63-99c5-94213cb2b7a7"
      },
      "id": "U__O_P-IWvT-",
      "execution_count": 84,
      "outputs": [
        {
          "output_type": "execute_result",
          "data": {
            "text/plain": [
              "array([[0, 1, 2, 3, 4]])"
            ]
          },
          "metadata": {},
          "execution_count": 84
        }
      ]
    },
    {
      "cell_type": "code",
      "source": [
        "# column vector using reshape\n",
        "x.reshape((5,1)) # reshape to 5x1 matrix (column matrix)"
      ],
      "metadata": {
        "id": "yQxngCw3WxQW",
        "colab": {
          "base_uri": "https://localhost:8080/"
        },
        "outputId": "b0a23971-bdca-46c7-8ee2-5e6f3c455e68"
      },
      "id": "yQxngCw3WxQW",
      "execution_count": 85,
      "outputs": [
        {
          "output_type": "execute_result",
          "data": {
            "text/plain": [
              "array([[0],\n",
              "       [1],\n",
              "       [2],\n",
              "       [3],\n",
              "       [4]])"
            ]
          },
          "metadata": {},
          "execution_count": 85
        }
      ]
    },
    {
      "cell_type": "code",
      "source": [
        "# column vector using newaxis\n",
        "x[:, np.newaxis]"
      ],
      "metadata": {
        "id": "bNic36PFWyjN",
        "colab": {
          "base_uri": "https://localhost:8080/"
        },
        "outputId": "4d82d890-e6ee-4879-cf3b-f412505034b5"
      },
      "id": "bNic36PFWyjN",
      "execution_count": 86,
      "outputs": [
        {
          "output_type": "execute_result",
          "data": {
            "text/plain": [
              "array([[0],\n",
              "       [1],\n",
              "       [2],\n",
              "       [3],\n",
              "       [4]])"
            ]
          },
          "metadata": {},
          "execution_count": 86
        }
      ]
    },
    {
      "cell_type": "code",
      "execution_count": 87,
      "id": "467838d3",
      "metadata": {
        "id": "467838d3"
      },
      "outputs": [],
      "source": [
        "arr = np.random.randint(1,10,12)"
      ]
    },
    {
      "cell_type": "code",
      "execution_count": 88,
      "id": "4111f2cb",
      "metadata": {
        "colab": {
          "base_uri": "https://localhost:8080/"
        },
        "id": "4111f2cb",
        "outputId": "c0783c56-fff4-4a74-ac59-b5cfcbfed4d9"
      },
      "outputs": [
        {
          "output_type": "execute_result",
          "data": {
            "text/plain": [
              "array([1, 5, 8, 4, 3, 8, 3, 1, 1, 5, 6, 6])"
            ]
          },
          "metadata": {},
          "execution_count": 88
        }
      ],
      "source": [
        "arr"
      ]
    },
    {
      "cell_type": "code",
      "execution_count": 89,
      "id": "201ce90f",
      "metadata": {
        "colab": {
          "base_uri": "https://localhost:8080/"
        },
        "id": "201ce90f",
        "outputId": "3285ef80-ea42-4fda-bd60-5508f4465ec1"
      },
      "outputs": [
        {
          "output_type": "execute_result",
          "data": {
            "text/plain": [
              "array([[1, 5, 8, 4, 3, 8],\n",
              "       [3, 1, 1, 5, 6, 6]])"
            ]
          },
          "metadata": {},
          "execution_count": 89
        }
      ],
      "source": [
        "arr.reshape((2,6))"
      ]
    },
    {
      "cell_type": "code",
      "execution_count": 90,
      "id": "ccc58949",
      "metadata": {
        "colab": {
          "base_uri": "https://localhost:8080/"
        },
        "id": "ccc58949",
        "outputId": "3469fee1-d6f6-4d79-a239-cef5cbfc8d03"
      },
      "outputs": [
        {
          "output_type": "execute_result",
          "data": {
            "text/plain": [
              "array([[1, 5, 8],\n",
              "       [4, 3, 8],\n",
              "       [3, 1, 1],\n",
              "       [5, 6, 6]])"
            ]
          },
          "metadata": {},
          "execution_count": 90
        }
      ],
      "source": [
        "arr.reshape((4,3))"
      ]
    },
    {
      "cell_type": "code",
      "execution_count": 91,
      "id": "53cd3677",
      "metadata": {
        "colab": {
          "base_uri": "https://localhost:8080/"
        },
        "id": "53cd3677",
        "outputId": "7faf9e48-8267-4eaf-dc52-dff596e0f521"
      },
      "outputs": [
        {
          "output_type": "execute_result",
          "data": {
            "text/plain": [
              "1"
            ]
          },
          "metadata": {},
          "execution_count": 91
        }
      ],
      "source": [
        "arr.ndim"
      ]
    },
    {
      "cell_type": "code",
      "execution_count": 92,
      "id": "a2f26d06",
      "metadata": {
        "colab": {
          "base_uri": "https://localhost:8080/"
        },
        "id": "a2f26d06",
        "outputId": "4edbdb0f-5100-4dd2-f416-c3599c80b5f9"
      },
      "outputs": [
        {
          "output_type": "execute_result",
          "data": {
            "text/plain": [
              "(12,)"
            ]
          },
          "metadata": {},
          "execution_count": 92
        }
      ],
      "source": [
        "arr.shape "
      ]
    },
    {
      "cell_type": "code",
      "execution_count": 93,
      "id": "837f863f",
      "metadata": {
        "colab": {
          "base_uri": "https://localhost:8080/"
        },
        "id": "837f863f",
        "outputId": "4113fcae-b4a5-4a53-c977-b200805a662f"
      },
      "outputs": [
        {
          "output_type": "execute_result",
          "data": {
            "text/plain": [
              "12"
            ]
          },
          "metadata": {},
          "execution_count": 93
        }
      ],
      "source": [
        "arr.size "
      ]
    },
    {
      "cell_type": "code",
      "execution_count": 94,
      "id": "61dd41a5",
      "metadata": {
        "colab": {
          "base_uri": "https://localhost:8080/"
        },
        "id": "61dd41a5",
        "outputId": "a808d7ea-e61e-49fb-b343-48620a4e05d8"
      },
      "outputs": [
        {
          "output_type": "execute_result",
          "data": {
            "text/plain": [
              "array([1, 5, 8, 4, 3, 8, 3, 1, 1, 5, 6, 6])"
            ]
          },
          "metadata": {},
          "execution_count": 94
        }
      ],
      "source": [
        "arr"
      ]
    },
    {
      "cell_type": "code",
      "execution_count": 95,
      "id": "74ef86ba",
      "metadata": {
        "id": "74ef86ba"
      },
      "outputs": [],
      "source": [
        "# Column vector using reshape\n",
        "vec1 = arr.reshape(12,1)"
      ]
    },
    {
      "cell_type": "code",
      "execution_count": 96,
      "id": "0e6d16db",
      "metadata": {
        "colab": {
          "base_uri": "https://localhost:8080/"
        },
        "id": "0e6d16db",
        "outputId": "75599bc0-99e9-4650-925e-1e35b2c93f69"
      },
      "outputs": [
        {
          "output_type": "execute_result",
          "data": {
            "text/plain": [
              "array([[1],\n",
              "       [5],\n",
              "       [8],\n",
              "       [4],\n",
              "       [3],\n",
              "       [8],\n",
              "       [3],\n",
              "       [1],\n",
              "       [1],\n",
              "       [5],\n",
              "       [6],\n",
              "       [6]])"
            ]
          },
          "metadata": {},
          "execution_count": 96
        }
      ],
      "source": [
        "vec1"
      ]
    },
    {
      "cell_type": "code",
      "execution_count": 97,
      "id": "fff848e2",
      "metadata": {
        "colab": {
          "base_uri": "https://localhost:8080/"
        },
        "id": "fff848e2",
        "outputId": "ff198ea4-4c42-41ae-cab5-f7d59bd95771"
      },
      "outputs": [
        {
          "output_type": "execute_result",
          "data": {
            "text/plain": [
              "2"
            ]
          },
          "metadata": {},
          "execution_count": 97
        }
      ],
      "source": [
        "vec1.ndim"
      ]
    },
    {
      "cell_type": "code",
      "execution_count": 98,
      "id": "5cd939f3",
      "metadata": {
        "colab": {
          "base_uri": "https://localhost:8080/"
        },
        "id": "5cd939f3",
        "outputId": "8ab4670e-c5f5-4758-cd5e-9a164f67e548"
      },
      "outputs": [
        {
          "output_type": "execute_result",
          "data": {
            "text/plain": [
              "(12, 1)"
            ]
          },
          "metadata": {},
          "execution_count": 98
        }
      ],
      "source": [
        "vec1.shape "
      ]
    },
    {
      "cell_type": "code",
      "execution_count": 99,
      "id": "af7e7488",
      "metadata": {
        "id": "af7e7488"
      },
      "outputs": [],
      "source": [
        "# row vector \n",
        "vec2 = arr.reshape(-1,1)"
      ]
    },
    {
      "cell_type": "code",
      "execution_count": 100,
      "id": "8c7005af",
      "metadata": {
        "colab": {
          "base_uri": "https://localhost:8080/"
        },
        "id": "8c7005af",
        "outputId": "c39b4744-ed1c-46df-9022-9ddf3c96c81a"
      },
      "outputs": [
        {
          "output_type": "execute_result",
          "data": {
            "text/plain": [
              "array([[1],\n",
              "       [5],\n",
              "       [8],\n",
              "       [4],\n",
              "       [3],\n",
              "       [8],\n",
              "       [3],\n",
              "       [1],\n",
              "       [1],\n",
              "       [5],\n",
              "       [6],\n",
              "       [6]])"
            ]
          },
          "metadata": {},
          "execution_count": 100
        }
      ],
      "source": [
        "vec2"
      ]
    },
    {
      "cell_type": "code",
      "execution_count": 101,
      "id": "b0caaf0e",
      "metadata": {
        "id": "b0caaf0e"
      },
      "outputs": [],
      "source": [
        "mat1 = arr.reshape(-1,2)"
      ]
    },
    {
      "cell_type": "code",
      "execution_count": 102,
      "id": "f39ce3d0",
      "metadata": {
        "colab": {
          "base_uri": "https://localhost:8080/"
        },
        "id": "f39ce3d0",
        "outputId": "8bd2beca-0680-47ac-fa0e-c99b7b0564a4"
      },
      "outputs": [
        {
          "output_type": "execute_result",
          "data": {
            "text/plain": [
              "array([[1, 5],\n",
              "       [8, 4],\n",
              "       [3, 8],\n",
              "       [3, 1],\n",
              "       [1, 5],\n",
              "       [6, 6]])"
            ]
          },
          "metadata": {},
          "execution_count": 102
        }
      ],
      "source": [
        "mat1"
      ]
    },
    {
      "cell_type": "code",
      "execution_count": 103,
      "id": "d1b60c11",
      "metadata": {
        "colab": {
          "base_uri": "https://localhost:8080/"
        },
        "id": "d1b60c11",
        "outputId": "636579af-e884-4d94-83c0-c442a791e470"
      },
      "outputs": [
        {
          "output_type": "execute_result",
          "data": {
            "text/plain": [
              "array([1, 5, 8, 4, 3, 8, 3, 1, 1, 5, 6, 6])"
            ]
          },
          "metadata": {},
          "execution_count": 103
        }
      ],
      "source": [
        " arr"
      ]
    },
    {
      "cell_type": "code",
      "execution_count": 104,
      "id": "a670d7e3",
      "metadata": {
        "id": "a670d7e3"
      },
      "outputs": [],
      "source": [
        "# column vector using newaxis\n",
        "vec4 = arr[:,np.newaxis] "
      ]
    },
    {
      "cell_type": "code",
      "execution_count": 105,
      "id": "f70942f1",
      "metadata": {
        "colab": {
          "base_uri": "https://localhost:8080/"
        },
        "id": "f70942f1",
        "outputId": "25d0013b-6854-418b-ce72-096a653d00e4"
      },
      "outputs": [
        {
          "output_type": "execute_result",
          "data": {
            "text/plain": [
              "array([[1],\n",
              "       [5],\n",
              "       [8],\n",
              "       [4],\n",
              "       [3],\n",
              "       [8],\n",
              "       [3],\n",
              "       [1],\n",
              "       [1],\n",
              "       [5],\n",
              "       [6],\n",
              "       [6]])"
            ]
          },
          "metadata": {},
          "execution_count": 105
        }
      ],
      "source": [
        "vec4 "
      ]
    },
    {
      "cell_type": "code",
      "execution_count": 106,
      "id": "391b5cb4",
      "metadata": {
        "id": "391b5cb4"
      },
      "outputs": [],
      "source": [
        "# column vector using newaxis\n",
        "vec5 = arr[np.newaxis,:]"
      ]
    },
    {
      "cell_type": "code",
      "execution_count": 107,
      "id": "972186b2",
      "metadata": {
        "colab": {
          "base_uri": "https://localhost:8080/"
        },
        "id": "972186b2",
        "outputId": "57bf4d15-29c6-474b-97a1-2eab6348c1b6"
      },
      "outputs": [
        {
          "output_type": "execute_result",
          "data": {
            "text/plain": [
              "array([[1, 5, 8, 4, 3, 8, 3, 1, 1, 5, 6, 6]])"
            ]
          },
          "metadata": {},
          "execution_count": 107
        }
      ],
      "source": [
        "vec5"
      ]
    },
    {
      "cell_type": "code",
      "execution_count": 108,
      "id": "5d873ecf",
      "metadata": {
        "colab": {
          "base_uri": "https://localhost:8080/"
        },
        "id": "5d873ecf",
        "outputId": "aac77380-172c-42a1-db5f-51b2058b70b7"
      },
      "outputs": [
        {
          "output_type": "execute_result",
          "data": {
            "text/plain": [
              "(1, 12)"
            ]
          },
          "metadata": {},
          "execution_count": 108
        }
      ],
      "source": [
        "vec5.shape"
      ]
    },
    {
      "cell_type": "markdown",
      "id": "86a7344d",
      "metadata": {
        "id": "86a7344d"
      },
      "source": [
        " #### Arary Concatenations and Splitting."
      ]
    },
    {
      "cell_type": "markdown",
      "source": [
        "We can combine multiple arrays into one, or split a single array to multiple arrays.\n",
        "\n",
        "**Concatenation (joining) of arrays**\n",
        "\n",
        "We can concatenate arrays can be done with the following routines.\n",
        "\n",
        "* np.concatenate\n",
        "* np.vstack\n",
        "* np.hstack"
      ],
      "metadata": {
        "id": "RH79L3dLYliz"
      },
      "id": "RH79L3dLYliz"
    },
    {
      "cell_type": "code",
      "execution_count": 109,
      "id": "db754b74",
      "metadata": {
        "id": "db754b74",
        "colab": {
          "base_uri": "https://localhost:8080/"
        },
        "outputId": "39885181-0954-4964-dd14-6ca2b3638606"
      },
      "outputs": [
        {
          "output_type": "execute_result",
          "data": {
            "text/plain": [
              "array([1, 2, 3, 4, 5, 6])"
            ]
          },
          "metadata": {},
          "execution_count": 109
        }
      ],
      "source": [
        "import numpy as np\n",
        "x = np.array([1, 2, 3])\n",
        "y = np.array([4, 5, 6])\n",
        "np.concatenate([x, y])"
      ]
    },
    {
      "cell_type": "code",
      "execution_count": 110,
      "id": "7ee6b06d",
      "metadata": {
        "colab": {
          "base_uri": "https://localhost:8080/"
        },
        "id": "7ee6b06d",
        "outputId": "540fa35c-6ade-4908-8894-642c0b926a96"
      },
      "outputs": [
        {
          "output_type": "execute_result",
          "data": {
            "text/plain": [
              "array([1, 2, 3, 4, 5, 6, 7, 8, 9])"
            ]
          },
          "metadata": {},
          "execution_count": 110
        }
      ],
      "source": [
        "# concatenate more than 2 arrays using np.concatenate\n",
        "z = [7, 8, 9]\n",
        "np.concatenate([x, y, z])"
      ]
    },
    {
      "cell_type": "code",
      "source": [
        "# concatenate 2-dim arrays along first axis (rows)\n",
        "arr2d = np.array([\n",
        "                  [1, 2, 3],\n",
        "                  [4, 5, 6]\n",
        "                ])\n",
        "np.concatenate([arr2d, arr2d]) # axis=0 by default => means concatente along axis 0 (row)"
      ],
      "metadata": {
        "id": "3DTIuIWfY56I",
        "colab": {
          "base_uri": "https://localhost:8080/"
        },
        "outputId": "ccd291ae-97ed-4b39-914a-3ee4c8d6c744"
      },
      "id": "3DTIuIWfY56I",
      "execution_count": 111,
      "outputs": [
        {
          "output_type": "execute_result",
          "data": {
            "text/plain": [
              "array([[1, 2, 3],\n",
              "       [4, 5, 6],\n",
              "       [1, 2, 3],\n",
              "       [4, 5, 6]])"
            ]
          },
          "metadata": {},
          "execution_count": 111
        }
      ]
    },
    {
      "cell_type": "code",
      "source": [
        "# concatenate 2-dim arrays along second axis (axis 1 => column)\n",
        "np.concatenate([arr2d, arr2d], axis = 1)"
      ],
      "metadata": {
        "id": "NWUT_IYoZACf",
        "colab": {
          "base_uri": "https://localhost:8080/"
        },
        "outputId": "0858f11b-58cf-412c-d5b3-08fd5cbceeaf"
      },
      "id": "NWUT_IYoZACf",
      "execution_count": 112,
      "outputs": [
        {
          "output_type": "execute_result",
          "data": {
            "text/plain": [
              "array([[1, 2, 3, 1, 2, 3],\n",
              "       [4, 5, 6, 4, 5, 6]])"
            ]
          },
          "metadata": {},
          "execution_count": 112
        }
      ]
    },
    {
      "cell_type": "code",
      "execution_count": 113,
      "id": "49cb89ee",
      "metadata": {
        "colab": {
          "base_uri": "https://localhost:8080/"
        },
        "id": "49cb89ee",
        "outputId": "d9141eae-2590-414e-c46c-62acc4d6c774"
      },
      "outputs": [
        {
          "output_type": "execute_result",
          "data": {
            "text/plain": [
              "array([5, 7, 9])"
            ]
          },
          "metadata": {},
          "execution_count": 113
        }
      ],
      "source": [
        "x + y # elementwise addition"
      ]
    },
    {
      "cell_type": "code",
      "execution_count": 114,
      "id": "d381ff03",
      "metadata": {
        "id": "d381ff03"
      },
      "outputs": [],
      "source": [
        "arr2d = np.array([[1,2,3],[4,5,6]])"
      ]
    },
    {
      "cell_type": "code",
      "execution_count": 115,
      "id": "3d4daf4b",
      "metadata": {
        "colab": {
          "base_uri": "https://localhost:8080/"
        },
        "id": "3d4daf4b",
        "outputId": "abd3d34a-146d-4b33-dde0-3930d93d0270"
      },
      "outputs": [
        {
          "output_type": "execute_result",
          "data": {
            "text/plain": [
              "array([[1, 2, 3],\n",
              "       [4, 5, 6]])"
            ]
          },
          "metadata": {},
          "execution_count": 115
        }
      ],
      "source": [
        "arr2d"
      ]
    },
    {
      "cell_type": "code",
      "execution_count": 116,
      "id": "fd4ce50f",
      "metadata": {
        "colab": {
          "base_uri": "https://localhost:8080/"
        },
        "id": "fd4ce50f",
        "outputId": "6112e3e9-8fcd-413b-9704-80e4fc33d7d7"
      },
      "outputs": [
        {
          "output_type": "execute_result",
          "data": {
            "text/plain": [
              "array([[1, 2, 3],\n",
              "       [4, 5, 6],\n",
              "       [1, 2, 3],\n",
              "       [4, 5, 6]])"
            ]
          },
          "metadata": {},
          "execution_count": 116
        }
      ],
      "source": [
        "np.concatenate([arr2d,arr2d],axis = 0) # along the rows "
      ]
    },
    {
      "cell_type": "code",
      "execution_count": 117,
      "id": "0c7b874f",
      "metadata": {
        "colab": {
          "base_uri": "https://localhost:8080/"
        },
        "id": "0c7b874f",
        "outputId": "be35ccdc-4ae9-4d19-9d35-d5e3e760f401"
      },
      "outputs": [
        {
          "output_type": "execute_result",
          "data": {
            "text/plain": [
              "array([[1, 2, 3, 1, 2, 3],\n",
              "       [4, 5, 6, 4, 5, 6]])"
            ]
          },
          "metadata": {},
          "execution_count": 117
        }
      ],
      "source": [
        "np.concatenate([arr2d,arr2d],axis = 1) # along the column"
      ]
    },
    {
      "cell_type": "code",
      "execution_count": 118,
      "id": "fbbdfa60",
      "metadata": {
        "colab": {
          "base_uri": "https://localhost:8080/"
        },
        "id": "fbbdfa60",
        "outputId": "6158c931-8390-4b30-c9f1-ffef648ba14d"
      },
      "outputs": [
        {
          "output_type": "execute_result",
          "data": {
            "text/plain": [
              "array([[1, 2, 3, 1, 2, 3, 1, 2, 3],\n",
              "       [4, 5, 6, 4, 5, 6, 4, 5, 6]])"
            ]
          },
          "metadata": {},
          "execution_count": 118
        }
      ],
      "source": [
        "np.concatenate([arr2d,arr2d,arr2d],axis = 1)"
      ]
    },
    {
      "cell_type": "markdown",
      "source": [
        "Concatenate using np.vstack (vertical stack) and np.hstack (horizontal stack)"
      ],
      "metadata": {
        "id": "0mbVU7vzZUkY"
      },
      "id": "0mbVU7vzZUkY"
    },
    {
      "cell_type": "code",
      "execution_count": 119,
      "id": "a1a95b0c",
      "metadata": {
        "colab": {
          "base_uri": "https://localhost:8080/"
        },
        "id": "a1a95b0c",
        "outputId": "afe39998-9588-475a-bc7b-d58f4a60db1d"
      },
      "outputs": [
        {
          "output_type": "execute_result",
          "data": {
            "text/plain": [
              "array([[1, 2, 3],\n",
              "       [4, 5, 6],\n",
              "       [1, 2, 3],\n",
              "       [4, 5, 6]])"
            ]
          },
          "metadata": {},
          "execution_count": 119
        }
      ],
      "source": [
        "np.vstack([arr2d,arr2d]) # vertical stack"
      ]
    },
    {
      "cell_type": "code",
      "execution_count": 120,
      "id": "1427479a",
      "metadata": {
        "colab": {
          "base_uri": "https://localhost:8080/"
        },
        "id": "1427479a",
        "outputId": "1f1fa0ab-672a-4dec-f2b4-6e0dfbe4c3c2"
      },
      "outputs": [
        {
          "output_type": "execute_result",
          "data": {
            "text/plain": [
              "array([[1, 2, 3, 1, 2, 3],\n",
              "       [4, 5, 6, 4, 5, 6]])"
            ]
          },
          "metadata": {},
          "execution_count": 120
        }
      ],
      "source": [
        "np.hstack([arr2d,arr2d]) # horizontal stack"
      ]
    },
    {
      "cell_type": "markdown",
      "id": "e3b3e443",
      "metadata": {
        "id": "e3b3e443"
      },
      "source": [
        "#### Spliting of Array:\n",
        "\n",
        "Splitting is the opposite of concatenation. The following functions can be used for splitting the array.\n",
        "\n",
        "* np.split\n",
        "* np.hsplit\n",
        "* np.vsplit"
      ]
    },
    {
      "cell_type": "code",
      "execution_count": 121,
      "id": "9dc980b1",
      "metadata": {
        "id": "9dc980b1",
        "colab": {
          "base_uri": "https://localhost:8080/"
        },
        "outputId": "c7d8c894-2e67-44e5-d7f7-50c15730d2c3"
      },
      "outputs": [
        {
          "output_type": "stream",
          "name": "stdout",
          "text": [
            "[1 2 3] [99 99] [3 2 1]\n"
          ]
        }
      ],
      "source": [
        "# np.split\n",
        "x = [1, 2, 3, 99, 99, 3, 2, 1]\n",
        "x1, x2, x3 = np.split(x, [3, 5]) # np.split(array, list of indices split points) \n",
        "print(x1, x2, x3)"
      ]
    },
    {
      "cell_type": "code",
      "execution_count": 122,
      "id": "9a8f0e52",
      "metadata": {
        "id": "9a8f0e52",
        "colab": {
          "base_uri": "https://localhost:8080/"
        },
        "outputId": "2726315e-88b7-4dfc-ab24-d49ad5efecd2"
      },
      "outputs": [
        {
          "output_type": "execute_result",
          "data": {
            "text/plain": [
              "array([[ 0,  1,  2,  3],\n",
              "       [ 4,  5,  6,  7],\n",
              "       [ 8,  9, 10, 11],\n",
              "       [12, 13, 14, 15]])"
            ]
          },
          "metadata": {},
          "execution_count": 122
        }
      ],
      "source": [
        "grid = np.arange(16).reshape((4,4))\n",
        "grid "
      ]
    },
    {
      "cell_type": "code",
      "execution_count": 123,
      "id": "6296f0f5",
      "metadata": {
        "colab": {
          "base_uri": "https://localhost:8080/"
        },
        "id": "6296f0f5",
        "outputId": "a27ae4ba-fc77-4e54-85c8-24fa1488f788"
      },
      "outputs": [
        {
          "output_type": "execute_result",
          "data": {
            "text/plain": [
              "[array([[0, 1, 2, 3]]), array([[4, 5, 6, 7]]), array([[ 8,  9, 10, 11],\n",
              "        [12, 13, 14, 15]])]"
            ]
          },
          "metadata": {},
          "execution_count": 123
        }
      ],
      "source": [
        "np.split(grid,[1,2])"
      ]
    },
    {
      "cell_type": "code",
      "execution_count": 124,
      "id": "53d9f5f8",
      "metadata": {
        "colab": {
          "base_uri": "https://localhost:8080/"
        },
        "id": "53d9f5f8",
        "outputId": "0e374a8e-fc3e-4431-b133-17143df1a4d0"
      },
      "outputs": [
        {
          "output_type": "execute_result",
          "data": {
            "text/plain": [
              "[array([[ 0],\n",
              "        [ 4],\n",
              "        [ 8],\n",
              "        [12]]), array([[ 1],\n",
              "        [ 5],\n",
              "        [ 9],\n",
              "        [13]]), array([[ 2,  3],\n",
              "        [ 6,  7],\n",
              "        [10, 11],\n",
              "        [14, 15]])]"
            ]
          },
          "metadata": {},
          "execution_count": 124
        }
      ],
      "source": [
        "np.split(grid,[1,2],axis =1)"
      ]
    },
    {
      "cell_type": "code",
      "execution_count": 125,
      "id": "754b6797",
      "metadata": {
        "id": "754b6797"
      },
      "outputs": [],
      "source": [
        "grid1 = np.arange(16).reshape(-1,2)"
      ]
    },
    {
      "cell_type": "code",
      "execution_count": 126,
      "id": "57cc249f",
      "metadata": {
        "colab": {
          "base_uri": "https://localhost:8080/"
        },
        "id": "57cc249f",
        "outputId": "d1d898be-9205-4ad2-e347-7f735396cd2b"
      },
      "outputs": [
        {
          "output_type": "execute_result",
          "data": {
            "text/plain": [
              "array([[ 0,  1],\n",
              "       [ 2,  3],\n",
              "       [ 4,  5],\n",
              "       [ 6,  7],\n",
              "       [ 8,  9],\n",
              "       [10, 11],\n",
              "       [12, 13],\n",
              "       [14, 15]])"
            ]
          },
          "metadata": {},
          "execution_count": 126
        }
      ],
      "source": [
        "grid1"
      ]
    },
    {
      "cell_type": "code",
      "execution_count": 127,
      "id": "acd1a649",
      "metadata": {
        "colab": {
          "base_uri": "https://localhost:8080/"
        },
        "id": "acd1a649",
        "outputId": "0b06144a-1ffd-4aa4-b60c-9296f4d55230"
      },
      "outputs": [
        {
          "output_type": "execute_result",
          "data": {
            "text/plain": [
              "[array([[0, 1],\n",
              "        [2, 3]]), array([[4, 5],\n",
              "        [6, 7]]), array([[ 8,  9],\n",
              "        [10, 11]]), array([[12, 13],\n",
              "        [14, 15]])]"
            ]
          },
          "metadata": {},
          "execution_count": 127
        }
      ],
      "source": [
        "np.split(grid1,[2,4,6])"
      ]
    },
    {
      "cell_type": "code",
      "execution_count": 128,
      "id": "8bf2e7b2",
      "metadata": {
        "id": "8bf2e7b2"
      },
      "outputs": [],
      "source": [
        "grid2 = np.arange(16).reshape(2,-1)"
      ]
    },
    {
      "cell_type": "code",
      "execution_count": 129,
      "id": "d8808e97",
      "metadata": {
        "colab": {
          "base_uri": "https://localhost:8080/"
        },
        "id": "d8808e97",
        "outputId": "da34cf8c-8d09-4d9d-9507-52bfb876827d"
      },
      "outputs": [
        {
          "output_type": "execute_result",
          "data": {
            "text/plain": [
              "array([[ 0,  1,  2,  3,  4,  5,  6,  7],\n",
              "       [ 8,  9, 10, 11, 12, 13, 14, 15]])"
            ]
          },
          "metadata": {},
          "execution_count": 129
        }
      ],
      "source": [
        "grid2"
      ]
    },
    {
      "cell_type": "code",
      "execution_count": 130,
      "id": "e1dfb628",
      "metadata": {
        "colab": {
          "base_uri": "https://localhost:8080/"
        },
        "id": "e1dfb628",
        "outputId": "adfac7dd-6291-4175-882b-d4cca21eb5b6"
      },
      "outputs": [
        {
          "output_type": "execute_result",
          "data": {
            "text/plain": [
              "[array([[0, 1],\n",
              "        [8, 9]]), array([[ 2,  3,  4],\n",
              "        [10, 11, 12]]), array([[ 5],\n",
              "        [13]]), array([[ 6,  7],\n",
              "        [14, 15]])]"
            ]
          },
          "metadata": {},
          "execution_count": 130
        }
      ],
      "source": [
        "np.split(grid2,[2,5,6],axis = 1)"
      ]
    },
    {
      "cell_type": "code",
      "execution_count": 131,
      "id": "65d31563",
      "metadata": {
        "colab": {
          "base_uri": "https://localhost:8080/"
        },
        "id": "65d31563",
        "outputId": "3db1e079-4116-4bd3-a469-95681225e765"
      },
      "outputs": [
        {
          "output_type": "execute_result",
          "data": {
            "text/plain": [
              "(2, 8)"
            ]
          },
          "metadata": {},
          "execution_count": 131
        }
      ],
      "source": [
        "grid2.shape"
      ]
    },
    {
      "cell_type": "code",
      "source": [
        "# np.vsplit\n",
        "upper, lower = np.vsplit(grid, [2]) # np.vsplit(arr, split index)\n",
        "print(upper)\n",
        "print(lower)"
      ],
      "metadata": {
        "id": "JaBY-ZpgaQu5",
        "colab": {
          "base_uri": "https://localhost:8080/"
        },
        "outputId": "70ef5259-efd9-4e2e-884a-79c1f62c4228"
      },
      "id": "JaBY-ZpgaQu5",
      "execution_count": 132,
      "outputs": [
        {
          "output_type": "stream",
          "name": "stdout",
          "text": [
            "[[0 1 2 3]\n",
            " [4 5 6 7]]\n",
            "[[ 8  9 10 11]\n",
            " [12 13 14 15]]\n"
          ]
        }
      ]
    },
    {
      "cell_type": "code",
      "source": [
        "# np.hsplit\n",
        "left, right = np.hsplit(grid, [2]) # np.hsplit(arr, split index)\n",
        "print(left)\n",
        "print(right)"
      ],
      "metadata": {
        "id": "gRnVCVjAaWbl",
        "colab": {
          "base_uri": "https://localhost:8080/"
        },
        "outputId": "8601872c-efd0-488b-f791-899e02a97f8f"
      },
      "id": "gRnVCVjAaWbl",
      "execution_count": 133,
      "outputs": [
        {
          "output_type": "stream",
          "name": "stdout",
          "text": [
            "[[ 0  1]\n",
            " [ 4  5]\n",
            " [ 8  9]\n",
            " [12 13]]\n",
            "[[ 2  3]\n",
            " [ 6  7]\n",
            " [10 11]\n",
            " [14 15]]\n"
          ]
        }
      ]
    },
    {
      "cell_type": "code",
      "execution_count": 134,
      "id": "476ddad5",
      "metadata": {
        "colab": {
          "base_uri": "https://localhost:8080/"
        },
        "id": "476ddad5",
        "outputId": "d1412f69-1ac0-43b2-ea5d-d2a38d1ef33c"
      },
      "outputs": [
        {
          "output_type": "execute_result",
          "data": {
            "text/plain": [
              "[array([[0, 1],\n",
              "        [8, 9]]), array([[ 2,  3,  4],\n",
              "        [10, 11, 12]]), array([[ 5],\n",
              "        [13]]), array([[ 6,  7],\n",
              "        [14, 15]])]"
            ]
          },
          "metadata": {},
          "execution_count": 134
        }
      ],
      "source": [
        "np.hsplit(grid2,[2,5,6]) # horizontal split => col "
      ]
    },
    {
      "cell_type": "code",
      "execution_count": 135,
      "id": "9484bb41",
      "metadata": {
        "colab": {
          "base_uri": "https://localhost:8080/"
        },
        "id": "9484bb41",
        "outputId": "d1f7afd1-ac35-483c-cc4c-93649b116e25"
      },
      "outputs": [
        {
          "output_type": "execute_result",
          "data": {
            "text/plain": [
              "[array([[0, 1],\n",
              "        [2, 3]]), array([[4, 5],\n",
              "        [6, 7],\n",
              "        [8, 9]]), array([[10, 11]]), array([[12, 13],\n",
              "        [14, 15]])]"
            ]
          },
          "metadata": {},
          "execution_count": 135
        }
      ],
      "source": [
        "np.vsplit(grid1,[2,5,6])"
      ]
    },
    {
      "cell_type": "code",
      "execution_count": 136,
      "id": "69129f56",
      "metadata": {
        "id": "69129f56"
      },
      "outputs": [],
      "source": [
        "x1,x2,x3,x4 = np.hsplit(grid2,[2,5,6])"
      ]
    },
    {
      "cell_type": "code",
      "execution_count": 137,
      "id": "fcc83f80",
      "metadata": {
        "colab": {
          "base_uri": "https://localhost:8080/"
        },
        "id": "fcc83f80",
        "outputId": "81c082d0-6478-43be-f119-7c1d8ba766c3"
      },
      "outputs": [
        {
          "output_type": "execute_result",
          "data": {
            "text/plain": [
              "array([[ 2,  3,  4],\n",
              "       [10, 11, 12]])"
            ]
          },
          "metadata": {},
          "execution_count": 137
        }
      ],
      "source": [
        "x2"
      ]
    },
    {
      "cell_type": "code",
      "execution_count": 138,
      "id": "59bcbad7",
      "metadata": {
        "colab": {
          "base_uri": "https://localhost:8080/"
        },
        "id": "59bcbad7",
        "outputId": "98da4021-ed90-4e57-fb7c-3c98be885095"
      },
      "outputs": [
        {
          "output_type": "execute_result",
          "data": {
            "text/plain": [
              "array([[0, 1],\n",
              "       [8, 9]])"
            ]
          },
          "metadata": {},
          "execution_count": 138
        }
      ],
      "source": [
        "x1"
      ]
    },
    {
      "cell_type": "code",
      "execution_count": 139,
      "id": "34381c48",
      "metadata": {
        "colab": {
          "base_uri": "https://localhost:8080/"
        },
        "id": "34381c48",
        "outputId": "7cc2bf0a-d154-4ffa-d84b-bb863cb355ba"
      },
      "outputs": [
        {
          "output_type": "execute_result",
          "data": {
            "text/plain": [
              "array([[ 5],\n",
              "       [13]])"
            ]
          },
          "metadata": {},
          "execution_count": 139
        }
      ],
      "source": [
        "x3"
      ]
    },
    {
      "cell_type": "markdown",
      "id": "e28ebc49",
      "metadata": {
        "id": "e28ebc49"
      },
      "source": [
        "#### Computation on NumPy Arrays: Universal Functions\n",
        "\n",
        "The reason NumPy is so important in the world of Python Data Science is that it provides an easy and flexible interface to optimized computation with arrays of data. What make them so fast are the vectorized operations, which are generally implemented through NumPy's `Universal Functions (ufuncs)`."
      ]
    },
    {
      "cell_type": "code",
      "execution_count": 140,
      "id": "a9901f63",
      "metadata": {
        "colab": {
          "base_uri": "https://localhost:8080/"
        },
        "id": "a9901f63",
        "outputId": "430e5dc1-dc31-46d5-ac28-cb842af178a6"
      },
      "outputs": [
        {
          "output_type": "execute_result",
          "data": {
            "text/plain": [
              "array([0.16666667, 1.        , 0.25      , 0.25      , 0.125     ])"
            ]
          },
          "metadata": {},
          "execution_count": 140
        }
      ],
      "source": [
        "# computing reciprocals of an array using a loop\n",
        "import numpy as np\n",
        "np.random.seed(0)\n",
        "\n",
        "def compute_reciprocals(values):\n",
        "  output = np.empty(len(values))\n",
        "  for i in range(len(values)):\n",
        "    output[i] = 1.0 / values[i]\n",
        "  return output\n",
        "\n",
        "values = np.random.randint(1, 10, size=5)\n",
        "compute_reciprocals(values)"
      ]
    },
    {
      "cell_type": "code",
      "execution_count": 141,
      "id": "cc801ffb",
      "metadata": {
        "colab": {
          "base_uri": "https://localhost:8080/"
        },
        "id": "cc801ffb",
        "outputId": "d7555704-4d3b-4380-9e76-d83720f7d9c3"
      },
      "outputs": [
        {
          "output_type": "stream",
          "name": "stdout",
          "text": [
            "1 loop, best of 5: 2.41 s per loop\n"
          ]
        }
      ],
      "source": [
        "big_array = np.random.randint(1,100,size = 1000000)\n",
        "%timeit compute_reciprocals(big_array)"
      ]
    },
    {
      "cell_type": "markdown",
      "source": [
        "As you can see, the implementation of computing reciprocals by using loops is extremely slow (few seconds per loop)."
      ],
      "metadata": {
        "id": "0J_c52tpa14m"
      },
      "id": "0J_c52tpa14m"
    },
    {
      "cell_type": "markdown",
      "source": [
        "Now, let's implement the same operation as above (computing reciprocals of each element of an array) using vectorized operation."
      ],
      "metadata": {
        "id": "ZE-FmPRKbP73"
      },
      "id": "ZE-FmPRKbP73"
    },
    {
      "cell_type": "code",
      "execution_count": 142,
      "id": "3e800ef0",
      "metadata": {
        "colab": {
          "base_uri": "https://localhost:8080/"
        },
        "id": "3e800ef0",
        "outputId": "99120ccf-4ead-44ce-90a5-d99e5742690c"
      },
      "outputs": [
        {
          "output_type": "stream",
          "name": "stdout",
          "text": [
            "1000 loops, best of 5: 1.77 ms per loop\n"
          ]
        }
      ],
      "source": [
        "%timeit 1/big_array # vectorizes operations "
      ]
    },
    {
      "cell_type": "markdown",
      "source": [
        "As you can see, the vectorized approach is orders of magnitude faster than the loop version (few milliseconds vs. few seconds)."
      ],
      "metadata": {
        "id": "8odsoRmHbVQA"
      },
      "id": "8odsoRmHbVQA"
    },
    {
      "cell_type": "markdown",
      "id": "c0858665",
      "metadata": {
        "id": "c0858665"
      },
      "source": [
        "##### Ufunction"
      ]
    },
    {
      "cell_type": "raw",
      "id": "e0636bf3",
      "metadata": {
        "id": "e0636bf3"
      },
      "source": [
        "The vectorized operations in NumPy are implemented using ufuncs.\n",
        "* Unary\n",
        "* Binary\n",
        "\n",
        "Below, you can see some examples of `UFuncs`."
      ]
    },
    {
      "cell_type": "code",
      "execution_count": 143,
      "id": "0c97663a",
      "metadata": {
        "id": "0c97663a",
        "colab": {
          "base_uri": "https://localhost:8080/"
        },
        "outputId": "9e0a7179-4aa6-4d57-9bb2-08b10549318b"
      },
      "outputs": [
        {
          "output_type": "stream",
          "name": "stdout",
          "text": [
            "x =       [0 1 2 3]\n",
            "x + 5 =   [5 6 7 8]\n",
            "x - 5 =   [-5 -4 -3 -2]\n",
            "x * 5 =   [ 0  5 10 15]\n",
            "x / 5 =   [0.  0.2 0.4 0.6]\n",
            "x // 5 =  [0 0 0 0]\n"
          ]
        }
      ],
      "source": [
        "x = np.arange(4)\n",
        "\n",
        "# vectorized operations using ufuncs\n",
        "print(\"x =      \", x)\n",
        "print(\"x + 5 =  \", x + 5)\n",
        "print(\"x - 5 =  \", x - 5)\n",
        "print(\"x * 5 =  \", x * 5)\n",
        "print(\"x / 5 =  \", x / 5)\n",
        "print(\"x // 5 = \", x // 5) # floor division"
      ]
    },
    {
      "cell_type": "code",
      "source": [
        "print(\" -x =     \", -x) # negation (unary operation)\n",
        "print(\" x ** 2 = \", x ** 2) # exponentiation\n",
        "print(\" x % 2 =  \", x % 2) # modulus"
      ],
      "metadata": {
        "id": "cIhwr7I5bp0o",
        "colab": {
          "base_uri": "https://localhost:8080/"
        },
        "outputId": "9946b650-92e6-4b55-df73-0873d24174b8"
      },
      "id": "cIhwr7I5bp0o",
      "execution_count": 144,
      "outputs": [
        {
          "output_type": "stream",
          "name": "stdout",
          "text": [
            " -x =      [ 0 -1 -2 -3]\n",
            " x ** 2 =  [0 1 4 9]\n",
            " x % 2 =   [0 1 0 1]\n"
          ]
        }
      ]
    },
    {
      "cell_type": "code",
      "source": [
        "# standard order of operation is respected\n",
        "-(0.5*x + 5) ** 3"
      ],
      "metadata": {
        "id": "o7JV_hAqbr8J",
        "colab": {
          "base_uri": "https://localhost:8080/"
        },
        "outputId": "f196ba88-9de4-44ba-a228-31c206acc245"
      },
      "id": "o7JV_hAqbr8J",
      "execution_count": 145,
      "outputs": [
        {
          "output_type": "execute_result",
          "data": {
            "text/plain": [
              "array([-125.   , -166.375, -216.   , -274.625])"
            ]
          },
          "metadata": {},
          "execution_count": 145
        }
      ]
    },
    {
      "cell_type": "markdown",
      "source": [
        "![image.png](data:image/png;base64,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)"
      ],
      "metadata": {
        "id": "LF5OkTtLbwBf"
      },
      "id": "LF5OkTtLbwBf"
    },
    {
      "cell_type": "markdown",
      "source": [
        "Just as NumPy understands Python's built-in arithmetic operators, it also understands Python's built-in absolute value function."
      ],
      "metadata": {
        "id": "tK5Fo0a2b0dA"
      },
      "id": "tK5Fo0a2b0dA"
    },
    {
      "cell_type": "code",
      "execution_count": 146,
      "id": "4690af6d",
      "metadata": {
        "colab": {
          "base_uri": "https://localhost:8080/"
        },
        "id": "4690af6d",
        "outputId": "56b7df27-3e23-4158-da36-f93b47f7f390"
      },
      "outputs": [
        {
          "output_type": "execute_result",
          "data": {
            "text/plain": [
              "array([ 2,  3, 10,  3,  1])"
            ]
          },
          "metadata": {},
          "execution_count": 146
        }
      ],
      "source": [
        "x = np.array([-2, 3, 10, -3, -1])\n",
        "abs(x) # built-in abs function"
      ]
    },
    {
      "cell_type": "code",
      "source": [
        "print( np.absolute(x) ) # numpy absolute function\n",
        "print( np.abs(x) ) # alias of np.absolute"
      ],
      "metadata": {
        "id": "l3UWIB-7b7rx",
        "colab": {
          "base_uri": "https://localhost:8080/"
        },
        "outputId": "f3739de0-655e-458c-a52b-693590bb8dba"
      },
      "id": "l3UWIB-7b7rx",
      "execution_count": 147,
      "outputs": [
        {
          "output_type": "stream",
          "name": "stdout",
          "text": [
            "[ 2  3 10  3  1]\n",
            "[ 2  3 10  3  1]\n"
          ]
        }
      ]
    },
    {
      "cell_type": "code",
      "source": [
        "# ufuncs can also deal with data involving complex numbers\n",
        "# absolute value of complex data returns the magnitude\n",
        "x = np.array([3 - 4j, 4 - 3j, 2 + 0j, 0 + 1j])\n",
        "np.abs(x) "
      ],
      "metadata": {
        "id": "rV0ySEn3b9jI",
        "colab": {
          "base_uri": "https://localhost:8080/"
        },
        "outputId": "d769e048-f68e-4c2d-89b9-2536ee3b9edb"
      },
      "id": "rV0ySEn3b9jI",
      "execution_count": 148,
      "outputs": [
        {
          "output_type": "execute_result",
          "data": {
            "text/plain": [
              "array([5., 5., 2., 1.])"
            ]
          },
          "metadata": {},
          "execution_count": 148
        }
      ]
    },
    {
      "cell_type": "code",
      "source": [
        "abs(x) # built-in abs function on complex data"
      ],
      "metadata": {
        "id": "KzlwWQibb_7Z",
        "colab": {
          "base_uri": "https://localhost:8080/"
        },
        "outputId": "e4c29104-a1eb-4550-b352-c69d9d31ba22"
      },
      "id": "KzlwWQibb_7Z",
      "execution_count": 149,
      "outputs": [
        {
          "output_type": "execute_result",
          "data": {
            "text/plain": [
              "array([5., 5., 2., 1.])"
            ]
          },
          "metadata": {},
          "execution_count": 149
        }
      ]
    },
    {
      "cell_type": "markdown",
      "id": "072b6426",
      "metadata": {
        "id": "072b6426"
      },
      "source": [
        "#### Trigonometric Function"
      ]
    },
    {
      "cell_type": "code",
      "execution_count": 150,
      "id": "615fb2d1",
      "metadata": {
        "id": "615fb2d1"
      },
      "outputs": [],
      "source": [
        "import numpy as np\n"
      ]
    },
    {
      "cell_type": "code",
      "execution_count": 151,
      "id": "05d3c7b0",
      "metadata": {
        "colab": {
          "base_uri": "https://localhost:8080/"
        },
        "id": "05d3c7b0",
        "outputId": "acc51219-3145-41f1-b3a7-f0f72910d5cb"
      },
      "outputs": [
        {
          "output_type": "execute_result",
          "data": {
            "text/plain": [
              "array([0.        , 1.57079633, 3.14159265])"
            ]
          },
          "metadata": {},
          "execution_count": 151
        }
      ],
      "source": [
        "theta = np.linspace(0,np.pi,3)\n",
        "theta"
      ]
    },
    {
      "cell_type": "code",
      "execution_count": 152,
      "id": "4b06b178",
      "metadata": {
        "colab": {
          "base_uri": "https://localhost:8080/"
        },
        "id": "4b06b178",
        "outputId": "3880ce41-71ea-4cf4-cdd7-5e883e74a079"
      },
      "outputs": [
        {
          "output_type": "stream",
          "name": "stdout",
          "text": [
            "sin(theta) =  [0.0000000e+00 1.0000000e+00 1.2246468e-16]\n",
            "cos(theta) =  [ 1.000000e+00  6.123234e-17 -1.000000e+00]\n",
            "tan(theta) =  [ 0.00000000e+00  1.63312394e+16 -1.22464680e-16]\n"
          ]
        }
      ],
      "source": [
        "print(\"sin(theta) = \", np.sin(theta)) # ans: [0, 1, 0]\n",
        "print(\"cos(theta) = \", np.cos(theta)) # ans: [1, 0, -1]\n",
        "print(\"tan(theta) = \", np.tan(theta)) # ans: [0, infinity, 0]"
      ]
    },
    {
      "cell_type": "code",
      "execution_count": 153,
      "id": "25e825d3",
      "metadata": {
        "colab": {
          "base_uri": "https://localhost:8080/"
        },
        "id": "25e825d3",
        "outputId": "034e1979-b944-4250-c5ae-49a2522fefa1"
      },
      "outputs": [
        {
          "output_type": "stream",
          "name": "stdout",
          "text": [
            "x =  [0, 1, 2, 3]\n",
            "e^x =  [ 1.          2.71828183  7.3890561  20.08553692]\n",
            "2^x =  [1. 2. 4. 8.]\n",
            "3^x =  [ 1  3  9 27]\n"
          ]
        }
      ],
      "source": [
        "x = [0, 1, 2, 3]\n",
        "print(\"x = \", x)\n",
        "print(\"e^x = \", np.exp(x))\n",
        "print(\"2^x = \", np.exp2(x))\n",
        "print(\"3^x = \", np.power(3,x))"
      ]
    },
    {
      "cell_type": "markdown",
      "id": "99e91445",
      "metadata": {
        "id": "99e91445"
      },
      "source": [
        "#### Exponent and Logarithms"
      ]
    },
    {
      "cell_type": "code",
      "execution_count": 154,
      "id": "4a86263a",
      "metadata": {
        "colab": {
          "base_uri": "https://localhost:8080/"
        },
        "id": "4a86263a",
        "outputId": "10d9d247-f4f9-4c7d-ab83-8edb5a12c155"
      },
      "outputs": [
        {
          "output_type": "stream",
          "name": "stdout",
          "text": [
            "x =  [1, 2, 4, 10]\n",
            "ln(x) =  [0.         0.69314718 1.38629436 2.30258509]\n",
            "log2(x) =  [0.         1.         2.         3.32192809]\n",
            "log10(x) =  [0.         0.30103    0.60205999 1.        ]\n"
          ]
        }
      ],
      "source": [
        "# logarithms\n",
        "x = [1, 2, 4, 10]\n",
        "print(\"x = \", x)\n",
        "print(\"ln(x) = \", np.log(x)) # np.log gives the natural log (wrt e)\n",
        "print(\"log2(x) = \", np.log2(x)) # log base 2\n",
        "print(\"log10(x) = \", np.log10(x)) # log base 10"
      ]
    },
    {
      "cell_type": "code",
      "execution_count": 155,
      "id": "12283a86",
      "metadata": {
        "colab": {
          "base_uri": "https://localhost:8080/"
        },
        "id": "12283a86",
        "outputId": "4928a441-69fe-4847-f29e-5ed0d357f14a"
      },
      "outputs": [
        {
          "output_type": "execute_result",
          "data": {
            "text/plain": [
              "array([   2.,    4.,   16., 1024.])"
            ]
          },
          "metadata": {},
          "execution_count": 155
        }
      ],
      "source": [
        "np.exp2(x) # 2**x"
      ]
    },
    {
      "cell_type": "code",
      "execution_count": 156,
      "id": "c4187574",
      "metadata": {
        "colab": {
          "base_uri": "https://localhost:8080/"
        },
        "id": "c4187574",
        "outputId": "12bd2e09-7e89-434b-9580-ed9fc91a9a26"
      },
      "outputs": [
        {
          "output_type": "execute_result",
          "data": {
            "text/plain": [
              "array([    3,     9,    81, 59049])"
            ]
          },
          "metadata": {},
          "execution_count": 156
        }
      ],
      "source": [
        "np.power(3,x) # 3**x "
      ]
    },
    {
      "cell_type": "code",
      "execution_count": 157,
      "id": "f40838b4",
      "metadata": {
        "colab": {
          "base_uri": "https://localhost:8080/"
        },
        "id": "f40838b4",
        "outputId": "74add565-1735-4e6a-e5d9-7599413f3ff4"
      },
      "outputs": [
        {
          "output_type": "execute_result",
          "data": {
            "text/plain": [
              "2.0"
            ]
          },
          "metadata": {},
          "execution_count": 157
        }
      ],
      "source": [
        "np.log2(4)"
      ]
    },
    {
      "cell_type": "code",
      "execution_count": 158,
      "id": "d0123d24",
      "metadata": {
        "colab": {
          "base_uri": "https://localhost:8080/"
        },
        "id": "d0123d24",
        "outputId": "506ffbbe-44a3-4e5c-de85-f81cfd96767f"
      },
      "outputs": [
        {
          "output_type": "execute_result",
          "data": {
            "text/plain": [
              "array([0.        , 0.69314718, 1.38629436, 2.30258509])"
            ]
          },
          "metadata": {},
          "execution_count": 158
        }
      ],
      "source": [
        "np.log(x)"
      ]
    },
    {
      "cell_type": "code",
      "execution_count": 159,
      "id": "984185e6",
      "metadata": {
        "colab": {
          "base_uri": "https://localhost:8080/"
        },
        "id": "984185e6",
        "outputId": "6a00a764-b1f2-4ad3-f752-de66bba17a98"
      },
      "outputs": [
        {
          "output_type": "execute_result",
          "data": {
            "text/plain": [
              "[1, 2, 4, 10]"
            ]
          },
          "metadata": {},
          "execution_count": 159
        }
      ],
      "source": [
        "x"
      ]
    },
    {
      "cell_type": "code",
      "execution_count": 160,
      "id": "ebaf4241",
      "metadata": {
        "colab": {
          "base_uri": "https://localhost:8080/"
        },
        "id": "ebaf4241",
        "outputId": "c082ccae-e7df-45d6-ac1f-c2106bf75538"
      },
      "outputs": [
        {
          "output_type": "execute_result",
          "data": {
            "text/plain": [
              "array([0.        , 1.        , 2.        , 3.32192809])"
            ]
          },
          "metadata": {},
          "execution_count": 160
        }
      ],
      "source": [
        "np.log2(x)"
      ]
    },
    {
      "cell_type": "code",
      "execution_count": 161,
      "id": "12f51913",
      "metadata": {
        "colab": {
          "base_uri": "https://localhost:8080/"
        },
        "id": "12f51913",
        "outputId": "af7c19d4-c655-4ae4-eaa4-90d8d3820ef7"
      },
      "outputs": [
        {
          "output_type": "execute_result",
          "data": {
            "text/plain": [
              "array([0.        , 0.30103   , 0.60205999, 1.        ])"
            ]
          },
          "metadata": {},
          "execution_count": 161
        }
      ],
      "source": [
        "np.log10(x)"
      ]
    },
    {
      "cell_type": "markdown",
      "id": "3c25c144",
      "metadata": {
        "id": "3c25c144"
      },
      "source": [
        "#### Advanced UFunc Features"
      ]
    },
    {
      "cell_type": "raw",
      "id": "269a7ec8",
      "metadata": {
        "id": "269a7ec8"
      },
      "source": [
        "**Aggregates**\n",
        "\n",
        "For binary ufuncs, there are some aggregates that can be computed directly from the object. Examples:\n",
        "\n",
        "* reduce\n",
        "* accumulate\n",
        "\n",
        "`reduce` repeatedly applies a given operation to the elements of an array until only a single result remains.\n",
        "\n",
        "\n",
        "\n"
      ]
    },
    {
      "cell_type": "code",
      "execution_count": 162,
      "id": "a905291e",
      "metadata": {
        "id": "a905291e"
      },
      "outputs": [],
      "source": [
        "import numpy as np"
      ]
    },
    {
      "cell_type": "code",
      "execution_count": 163,
      "id": "9e77d3b1",
      "metadata": {
        "colab": {
          "base_uri": "https://localhost:8080/"
        },
        "id": "9e77d3b1",
        "outputId": "e962d4c9-a6d6-46df-a447-bfd36f7e7200"
      },
      "outputs": [
        {
          "output_type": "execute_result",
          "data": {
            "text/plain": [
              "45"
            ]
          },
          "metadata": {},
          "execution_count": 163
        }
      ],
      "source": [
        "import numpy as np\n",
        "arr = np.arange(1,10)\n",
        "np.add.reduce(arr) # sum of all integers from 1 to 9"
      ]
    },
    {
      "cell_type": "code",
      "execution_count": 164,
      "id": "8ecf4f30",
      "metadata": {
        "colab": {
          "base_uri": "https://localhost:8080/"
        },
        "id": "8ecf4f30",
        "outputId": "e4c5cf9c-1e43-4e4d-9926-2439a77b706c"
      },
      "outputs": [
        {
          "output_type": "execute_result",
          "data": {
            "text/plain": [
              "362880"
            ]
          },
          "metadata": {},
          "execution_count": 164
        }
      ],
      "source": [
        "np.multiply.reduce(arr) # product of all integers from 1 to 9"
      ]
    },
    {
      "cell_type": "markdown",
      "source": [
        "If we want to store the intermediate results of all the computations, we use `accumulate`."
      ],
      "metadata": {
        "id": "FlzckUujcwZz"
      },
      "id": "FlzckUujcwZz"
    },
    {
      "cell_type": "code",
      "execution_count": 165,
      "id": "cfa9bbdd",
      "metadata": {
        "colab": {
          "base_uri": "https://localhost:8080/"
        },
        "id": "cfa9bbdd",
        "outputId": "da7e1199-842d-4bf0-cc9d-299cecf07395"
      },
      "outputs": [
        {
          "output_type": "execute_result",
          "data": {
            "text/plain": [
              "array([ 1,  3,  6, 10, 15, 21, 28, 36, 45])"
            ]
          },
          "metadata": {},
          "execution_count": 165
        }
      ],
      "source": [
        "np.add.accumulate(arr)"
      ]
    },
    {
      "cell_type": "code",
      "execution_count": 166,
      "id": "46b3b40d",
      "metadata": {
        "colab": {
          "base_uri": "https://localhost:8080/"
        },
        "id": "46b3b40d",
        "outputId": "46f5be15-fd5b-43c6-878c-1ed807c3db3b"
      },
      "outputs": [
        {
          "output_type": "execute_result",
          "data": {
            "text/plain": [
              "array([     1,      2,      6,     24,    120,    720,   5040,  40320,\n",
              "       362880])"
            ]
          },
          "metadata": {},
          "execution_count": 166
        }
      ],
      "source": [
        "np.multiply.accumulate(arr)"
      ]
    },
    {
      "cell_type": "markdown",
      "id": "275d9b54",
      "metadata": {
        "id": "275d9b54"
      },
      "source": [
        "##### Outer Product\n",
        "\n",
        "Any ufunc can create the output of all pairs of two diffent inputs using the `outer` method.\n",
        "\n",
        "We can create a multiplication table using `outer` as follows."
      ]
    },
    {
      "cell_type": "code",
      "execution_count": 167,
      "id": "03e002d0",
      "metadata": {
        "id": "03e002d0",
        "colab": {
          "base_uri": "https://localhost:8080/"
        },
        "outputId": "8fed7e03-41c2-4d01-b14e-bb2a4cab749d"
      },
      "outputs": [
        {
          "output_type": "execute_result",
          "data": {
            "text/plain": [
              "array([[ 4,  6,  8, 10],\n",
              "       [ 6,  9, 12, 15],\n",
              "       [ 8, 12, 16, 20],\n",
              "       [10, 15, 20, 25]])"
            ]
          },
          "metadata": {},
          "execution_count": 167
        }
      ],
      "source": [
        "x = np.arange(2, 6)\n",
        "np.multiply.outer(x,x) # outer product of (u, v) => u*transpose(v); assuming u and v are column vectors"
      ]
    },
    {
      "cell_type": "markdown",
      "id": "447be612",
      "metadata": {
        "id": "447be612"
      },
      "source": [
        "##### Aggregations: Min , Max, and Everything in-between"
      ]
    },
    {
      "cell_type": "markdown",
      "source": [
        "**Summing the Values in an Array:** sum of all elements in an array using built-in Python sum function"
      ],
      "metadata": {
        "id": "dNzO2EJ8dGJJ"
      },
      "id": "dNzO2EJ8dGJJ"
    },
    {
      "cell_type": "code",
      "execution_count": 168,
      "id": "8e264bad",
      "metadata": {
        "id": "8e264bad"
      },
      "outputs": [],
      "source": [
        "import numpy as np\n",
        "arr = np.random.random(50)"
      ]
    },
    {
      "cell_type": "code",
      "execution_count": 169,
      "id": "2ba0ee86",
      "metadata": {
        "colab": {
          "base_uri": "https://localhost:8080/"
        },
        "id": "2ba0ee86",
        "outputId": "aed69365-12ba-4c31-9c04-62ea757ce2bb"
      },
      "outputs": [
        {
          "output_type": "execute_result",
          "data": {
            "text/plain": [
              "array([0.25241011, 0.97572458, 0.1197632 , 0.20856888, 0.23983126,\n",
              "       0.39034023, 0.61318864, 0.8603706 , 0.34645385, 0.2939397 ,\n",
              "       0.39274799, 0.69444295, 0.71234984, 0.64181726, 0.14519247,\n",
              "       0.91796933, 0.02800916, 0.53171561, 0.34500616, 0.80695872,\n",
              "       0.07155939, 0.20794804, 0.24551118, 0.77437728, 0.45116519,\n",
              "       0.08043329, 0.09711552, 0.06215684, 0.16934182, 0.468866  ,\n",
              "       0.87884932, 0.09785878, 0.12446372, 0.42253024, 0.39034562,\n",
              "       0.35621026, 0.99663284, 0.55823601, 0.84371046, 0.78986544,\n",
              "       0.99105381, 0.28137886, 0.01765187, 0.6559858 , 0.61765416,\n",
              "       0.17973144, 0.84749539, 0.46820265, 0.97459109, 0.60303019])"
            ]
          },
          "metadata": {},
          "execution_count": 169
        }
      ],
      "source": [
        "arr"
      ]
    },
    {
      "cell_type": "code",
      "execution_count": 170,
      "id": "c5202a55",
      "metadata": {
        "colab": {
          "base_uri": "https://localhost:8080/"
        },
        "id": "c5202a55",
        "outputId": "063603d6-8c97-4fee-b3dd-eda03f8b75ab"
      },
      "outputs": [
        {
          "output_type": "execute_result",
          "data": {
            "text/plain": [
              "23.240753005638364"
            ]
          },
          "metadata": {},
          "execution_count": 170
        }
      ],
      "source": [
        "# sum of all elements in an array using built-in Python sum function\n",
        "sum(arr)"
      ]
    },
    {
      "cell_type": "code",
      "execution_count": 171,
      "id": "215a4fca",
      "metadata": {
        "colab": {
          "base_uri": "https://localhost:8080/"
        },
        "id": "215a4fca",
        "outputId": "fca0285d-3d30-45d8-8c9b-6aae36bae071"
      },
      "outputs": [
        {
          "output_type": "execute_result",
          "data": {
            "text/plain": [
              "23.240753005638364"
            ]
          },
          "metadata": {},
          "execution_count": 171
        }
      ],
      "source": [
        "sum(arr)"
      ]
    },
    {
      "cell_type": "code",
      "execution_count": 172,
      "id": "d5a4538f",
      "metadata": {
        "id": "d5a4538f"
      },
      "outputs": [],
      "source": [
        "big_arr = np.random.random(1000000)"
      ]
    },
    {
      "cell_type": "markdown",
      "source": [
        "Let's see which one is faster."
      ],
      "metadata": {
        "id": "OiUkleUt9K0f"
      },
      "id": "OiUkleUt9K0f"
    },
    {
      "cell_type": "code",
      "execution_count": 173,
      "id": "9b3f9a2f",
      "metadata": {
        "colab": {
          "base_uri": "https://localhost:8080/"
        },
        "id": "9b3f9a2f",
        "outputId": "0fce9879-f692-4176-d78c-741e51c7542a"
      },
      "outputs": [
        {
          "output_type": "stream",
          "name": "stdout",
          "text": [
            "10 loops, best of 5: 83.7 ms per loop\n"
          ]
        }
      ],
      "source": [
        "%timeit sum(big_arr)"
      ]
    },
    {
      "cell_type": "code",
      "execution_count": 174,
      "id": "d7219d20",
      "metadata": {
        "colab": {
          "base_uri": "https://localhost:8080/"
        },
        "id": "d7219d20",
        "outputId": "6fc49bea-8e3f-468c-eb1d-b0ad177ac8a6"
      },
      "outputs": [
        {
          "output_type": "stream",
          "name": "stdout",
          "text": [
            "1000 loops, best of 5: 354 µs per loop\n"
          ]
        }
      ],
      "source": [
        "%timeit np.sum(big_arr)"
      ]
    },
    {
      "cell_type": "markdown",
      "source": [
        "As you can see, the numpy sum is orders of magnitude faster (microseconds vs. milliseconds)."
      ],
      "metadata": {
        "id": "XBtokIVOdROA"
      },
      "id": "XBtokIVOdROA"
    },
    {
      "cell_type": "markdown",
      "id": "0ff45d60",
      "metadata": {
        "id": "0ff45d60"
      },
      "source": [
        "#### Maximum and Maximum\n",
        "\n",
        "Python has built-in `min` and `max` functions."
      ]
    },
    {
      "cell_type": "code",
      "execution_count": 175,
      "id": "da535c19",
      "metadata": {
        "colab": {
          "base_uri": "https://localhost:8080/"
        },
        "id": "da535c19",
        "outputId": "e8ba832d-3f20-41ee-e0cb-975bc51123e9"
      },
      "outputs": [
        {
          "output_type": "stream",
          "name": "stdout",
          "text": [
            "10 loops, best of 5: 58.3 ms per loop\n"
          ]
        }
      ],
      "source": [
        "%timeit min(big_arr)"
      ]
    },
    {
      "cell_type": "markdown",
      "source": [
        "Numpy has `min` and `max` functions as well, which are much faster than their built-in counterparts."
      ],
      "metadata": {
        "id": "J9QfxNX6dYxg"
      },
      "id": "J9QfxNX6dYxg"
    },
    {
      "cell_type": "code",
      "execution_count": 176,
      "id": "0aca256e",
      "metadata": {
        "colab": {
          "base_uri": "https://localhost:8080/"
        },
        "id": "0aca256e",
        "outputId": "b406c96f-f401-4e15-f376-0427cfc89f8b"
      },
      "outputs": [
        {
          "output_type": "stream",
          "name": "stdout",
          "text": [
            "1000 loops, best of 5: 362 µs per loop\n"
          ]
        }
      ],
      "source": [
        "%timeit np.mean(big_arr)"
      ]
    },
    {
      "cell_type": "markdown",
      "id": "ddcd9b71",
      "metadata": {
        "id": "ddcd9b71"
      },
      "source": [
        "#### Multidimensional Aggregates\n",
        "\n",
        "A common type of aggregation operation is an aggregate along a row or column."
      ]
    },
    {
      "cell_type": "code",
      "execution_count": 177,
      "id": "961a4437",
      "metadata": {
        "colab": {
          "base_uri": "https://localhost:8080/"
        },
        "id": "961a4437",
        "outputId": "378baa16-9e5c-4d87-86e8-296538e657e9"
      },
      "outputs": [
        {
          "output_type": "execute_result",
          "data": {
            "text/plain": [
              "array([[0.19802845, 0.02835429, 0.77799731, 0.75358122],\n",
              "       [0.67233111, 0.51097047, 0.63574435, 0.67141611],\n",
              "       [0.68040285, 0.4521328 , 0.01055046, 0.51144394]])"
            ]
          },
          "metadata": {},
          "execution_count": 177
        }
      ],
      "source": [
        "import numpy as np\n",
        "m_arr = np.random.random((3,4))\n",
        "m_arr"
      ]
    },
    {
      "cell_type": "code",
      "execution_count": 178,
      "id": "7a8c5b1b",
      "metadata": {
        "colab": {
          "base_uri": "https://localhost:8080/"
        },
        "id": "7a8c5b1b",
        "outputId": "34f4155e-cc30-437e-8628-bd16214e6a5d"
      },
      "outputs": [
        {
          "output_type": "execute_result",
          "data": {
            "text/plain": [
              "5.902953372833811"
            ]
          },
          "metadata": {},
          "execution_count": 178
        }
      ],
      "source": [
        "# sum of the elements\n",
        "m_arr.sum()"
      ]
    },
    {
      "cell_type": "code",
      "execution_count": 179,
      "id": "321ba668",
      "metadata": {
        "colab": {
          "base_uri": "https://localhost:8080/"
        },
        "id": "321ba668",
        "outputId": "34a6c5fa-51b6-49b1-e56b-b11ef564b22d"
      },
      "outputs": [
        {
          "output_type": "execute_result",
          "data": {
            "text/plain": [
              "5.902953372833811"
            ]
          },
          "metadata": {},
          "execution_count": 179
        }
      ],
      "source": [
        "np.sum(m_arr)"
      ]
    },
    {
      "cell_type": "code",
      "execution_count": 180,
      "id": "f180fbb7",
      "metadata": {
        "colab": {
          "base_uri": "https://localhost:8080/"
        },
        "id": "f180fbb7",
        "outputId": "1d2b60d4-fdfc-4f79-8311-528650d05304"
      },
      "outputs": [
        {
          "output_type": "execute_result",
          "data": {
            "text/plain": [
              "array([[0.19802845, 0.02835429, 0.77799731, 0.75358122],\n",
              "       [0.67233111, 0.51097047, 0.63574435, 0.67141611],\n",
              "       [0.68040285, 0.4521328 , 0.01055046, 0.51144394]])"
            ]
          },
          "metadata": {},
          "execution_count": 180
        }
      ],
      "source": [
        "m_arr"
      ]
    },
    {
      "cell_type": "code",
      "execution_count": 181,
      "id": "a4a7bf7b",
      "metadata": {
        "colab": {
          "base_uri": "https://localhost:8080/"
        },
        "id": "a4a7bf7b",
        "outputId": "4f1b7c0c-af4d-4631-8b93-6ba8de49dd14"
      },
      "outputs": [
        {
          "output_type": "execute_result",
          "data": {
            "text/plain": [
              "array([1.55076241, 0.99145757, 1.42429212, 1.93644127])"
            ]
          },
          "metadata": {},
          "execution_count": 181
        }
      ],
      "source": [
        "np.sum(m_arr, axis = 0) # sum of column"
      ]
    },
    {
      "cell_type": "code",
      "execution_count": 182,
      "id": "ea7c1755",
      "metadata": {
        "colab": {
          "base_uri": "https://localhost:8080/"
        },
        "id": "ea7c1755",
        "outputId": "0f137382-33fc-4721-fdfe-6565b72ec27e"
      },
      "outputs": [
        {
          "output_type": "execute_result",
          "data": {
            "text/plain": [
              "array([1.75796127, 2.49046205, 1.65453005])"
            ]
          },
          "metadata": {},
          "execution_count": 182
        }
      ],
      "source": [
        "np.sum(m_arr, axis = 1) # sum of rows"
      ]
    },
    {
      "cell_type": "code",
      "execution_count": 183,
      "id": "0470bcce",
      "metadata": {
        "colab": {
          "base_uri": "https://localhost:8080/"
        },
        "id": "0470bcce",
        "outputId": "5ee3a59c-959e-4c0f-c547-66ec77193c8e"
      },
      "outputs": [
        {
          "output_type": "execute_result",
          "data": {
            "text/plain": [
              "array([0.19802845, 0.02835429, 0.01055046, 0.51144394])"
            ]
          },
          "metadata": {},
          "execution_count": 183
        }
      ],
      "source": [
        "np.min(m_arr, axis = 0) # along the row"
      ]
    },
    {
      "cell_type": "code",
      "execution_count": 184,
      "id": "96d78884",
      "metadata": {
        "colab": {
          "base_uri": "https://localhost:8080/"
        },
        "id": "96d78884",
        "outputId": "7b65bc6c-a3b9-4772-ca71-6d836cf9ab1c"
      },
      "outputs": [
        {
          "output_type": "execute_result",
          "data": {
            "text/plain": [
              "array([0.68040285, 0.51097047, 0.77799731, 0.75358122])"
            ]
          },
          "metadata": {},
          "execution_count": 184
        }
      ],
      "source": [
        "np.max (m_arr,axis = 0) # along the column"
      ]
    },
    {
      "cell_type": "code",
      "execution_count": 185,
      "id": "7bbbe8de",
      "metadata": {
        "id": "7bbbe8de"
      },
      "outputs": [],
      "source": [
        "arr = np.array([1,2,3,np.nan, -3])"
      ]
    },
    {
      "cell_type": "code",
      "execution_count": 186,
      "id": "fb1817cd",
      "metadata": {
        "colab": {
          "base_uri": "https://localhost:8080/"
        },
        "id": "fb1817cd",
        "outputId": "7b78d9b1-f403-47b9-83f9-d7f13d3f95d3"
      },
      "outputs": [
        {
          "output_type": "execute_result",
          "data": {
            "text/plain": [
              "array([ 1.,  2.,  3., nan, -3.])"
            ]
          },
          "metadata": {},
          "execution_count": 186
        }
      ],
      "source": [
        "arr "
      ]
    },
    {
      "cell_type": "code",
      "execution_count": 187,
      "id": "c4df935d",
      "metadata": {
        "colab": {
          "base_uri": "https://localhost:8080/"
        },
        "id": "c4df935d",
        "outputId": "a952de92-d96e-4177-d010-adf9d5f25552"
      },
      "outputs": [
        {
          "output_type": "execute_result",
          "data": {
            "text/plain": [
              "nan"
            ]
          },
          "metadata": {},
          "execution_count": 187
        }
      ],
      "source": [
        "np.sum(arr)"
      ]
    },
    {
      "cell_type": "code",
      "execution_count": 188,
      "id": "6f08bdea",
      "metadata": {
        "colab": {
          "base_uri": "https://localhost:8080/"
        },
        "id": "6f08bdea",
        "outputId": "c9812abb-c695-4ac1-b4ae-3b6b16eacbe5"
      },
      "outputs": [
        {
          "output_type": "execute_result",
          "data": {
            "text/plain": [
              "nan"
            ]
          },
          "metadata": {},
          "execution_count": 188
        }
      ],
      "source": [
        "np.mean(arr)"
      ]
    },
    {
      "cell_type": "code",
      "execution_count": 189,
      "id": "713af2ed",
      "metadata": {
        "colab": {
          "base_uri": "https://localhost:8080/"
        },
        "id": "713af2ed",
        "outputId": "f3cbfd8f-0cc4-44de-99dc-b00245735515"
      },
      "outputs": [
        {
          "output_type": "execute_result",
          "data": {
            "text/plain": [
              "3.0"
            ]
          },
          "metadata": {},
          "execution_count": 189
        }
      ],
      "source": [
        "'''The NaN-safe versions compute the results \n",
        "ignoring missing values '''\n",
        "np.nansum(arr) "
      ]
    },
    {
      "cell_type": "code",
      "execution_count": 190,
      "id": "e2d2daec",
      "metadata": {
        "colab": {
          "base_uri": "https://localhost:8080/"
        },
        "id": "e2d2daec",
        "outputId": "4e479560-11b7-4545-85b5-2b21a85f6c04"
      },
      "outputs": [
        {
          "output_type": "execute_result",
          "data": {
            "text/plain": [
              "0.75"
            ]
          },
          "metadata": {},
          "execution_count": 190
        }
      ],
      "source": [
        "np.nanmean(arr)"
      ]
    },
    {
      "cell_type": "markdown",
      "source": [
        "![image.png](data:image/png;base64,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)"
      ],
      "metadata": {
        "id": "cHYGevund2-R"
      },
      "id": "cHYGevund2-R"
    },
    {
      "cell_type": "markdown",
      "source": [
        "The NaN-safe versions compute the results ignoring missing values."
      ],
      "metadata": {
        "id": "IVg1wI_sd92J"
      },
      "id": "IVg1wI_sd92J"
    },
    {
      "cell_type": "markdown",
      "id": "a9141917",
      "metadata": {
        "id": "a9141917"
      },
      "source": [
        "#### Computation on Arrays: Broadcasting\n",
        "\n",
        "Previously, you saw how NumPy's universal functions (ufuncs) can be used to vectorize operations, thereby eliminating the need for slow loops.\n",
        "\n",
        "Another means of vectorizing the operations is by using NumPy's broadcasting functionality.\n",
        "\n",
        "Simply put, broadcasting is a set of rules for applying binary ufuncs (addition, subtraction, multiplication etc.) on arrays of different sizes."
      ]
    },
    {
      "cell_type": "code",
      "execution_count": 191,
      "id": "66ad1d74",
      "metadata": {
        "id": "66ad1d74"
      },
      "outputs": [],
      "source": [
        "import numpy as np\n",
        "x = np.array([1,2,3])\n",
        "y = np.array([4,5,6])"
      ]
    },
    {
      "cell_type": "code",
      "execution_count": 192,
      "id": "82cdbc05",
      "metadata": {
        "colab": {
          "base_uri": "https://localhost:8080/"
        },
        "id": "82cdbc05",
        "outputId": "530212ed-fa94-481c-dac2-16b1fd7b573d"
      },
      "outputs": [
        {
          "output_type": "execute_result",
          "data": {
            "text/plain": [
              "array([1, 2, 3])"
            ]
          },
          "metadata": {},
          "execution_count": 192
        }
      ],
      "source": [
        "x "
      ]
    },
    {
      "cell_type": "code",
      "execution_count": 193,
      "id": "4966747b",
      "metadata": {
        "colab": {
          "base_uri": "https://localhost:8080/"
        },
        "id": "4966747b",
        "outputId": "6b0c330f-5c15-4ecd-f201-8dc0f2878b97"
      },
      "outputs": [
        {
          "output_type": "execute_result",
          "data": {
            "text/plain": [
              "array([4, 5, 6])"
            ]
          },
          "metadata": {},
          "execution_count": 193
        }
      ],
      "source": [
        "y"
      ]
    },
    {
      "cell_type": "code",
      "execution_count": 194,
      "id": "58aaf3d3",
      "metadata": {
        "colab": {
          "base_uri": "https://localhost:8080/"
        },
        "id": "58aaf3d3",
        "outputId": "6db570c7-2614-4531-b4bf-fd8a8e983940"
      },
      "outputs": [
        {
          "output_type": "execute_result",
          "data": {
            "text/plain": [
              "array([5, 7, 9])"
            ]
          },
          "metadata": {},
          "execution_count": 194
        }
      ],
      "source": [
        "x + y # ufunc"
      ]
    },
    {
      "cell_type": "markdown",
      "source": [
        "Broadcasting allows these types of operations to be performed on arrays of different sizes."
      ],
      "metadata": {
        "id": "0dkgcKr6eY6p"
      },
      "id": "0dkgcKr6eY6p"
    },
    {
      "cell_type": "code",
      "execution_count": 195,
      "id": "d0d5ccf1",
      "metadata": {
        "colab": {
          "base_uri": "https://localhost:8080/"
        },
        "id": "d0d5ccf1",
        "outputId": "e97cea91-58fd-40ed-e48d-46d1043ed72d"
      },
      "outputs": [
        {
          "output_type": "execute_result",
          "data": {
            "text/plain": [
              "array([4, 5, 6])"
            ]
          },
          "metadata": {},
          "execution_count": 195
        }
      ],
      "source": [
        "x + 3 # bordcasting"
      ]
    },
    {
      "cell_type": "raw",
      "id": "1f55347b",
      "metadata": {
        "id": "1f55347b"
      },
      "source": [
        "Now, let's look at broadcasting in higher dimensions."
      ]
    },
    {
      "cell_type": "code",
      "execution_count": 196,
      "id": "41fa16c4",
      "metadata": {
        "id": "41fa16c4"
      },
      "outputs": [],
      "source": [
        "md_array = np.ones((3,3))"
      ]
    },
    {
      "cell_type": "code",
      "execution_count": 197,
      "id": "facb1e2e",
      "metadata": {
        "colab": {
          "base_uri": "https://localhost:8080/"
        },
        "id": "facb1e2e",
        "outputId": "856b83dd-2660-416e-85e4-ee8ddbb4d118"
      },
      "outputs": [
        {
          "output_type": "execute_result",
          "data": {
            "text/plain": [
              "array([[1., 1., 1.],\n",
              "       [1., 1., 1.],\n",
              "       [1., 1., 1.]])"
            ]
          },
          "metadata": {},
          "execution_count": 197
        }
      ],
      "source": [
        "md_array # 3x3 array"
      ]
    },
    {
      "cell_type": "code",
      "execution_count": 198,
      "id": "d2031a0b",
      "metadata": {
        "colab": {
          "base_uri": "https://localhost:8080/"
        },
        "id": "d2031a0b",
        "outputId": "e8171b58-7d09-4545-f57e-0794561aacf5"
      },
      "outputs": [
        {
          "output_type": "execute_result",
          "data": {
            "text/plain": [
              "array([[4., 4., 4.],\n",
              "       [4., 4., 4.],\n",
              "       [4., 4., 4.]])"
            ]
          },
          "metadata": {},
          "execution_count": 198
        }
      ],
      "source": [
        "md_array + 3"
      ]
    },
    {
      "cell_type": "code",
      "execution_count": 199,
      "id": "52f0af22",
      "metadata": {
        "colab": {
          "base_uri": "https://localhost:8080/"
        },
        "id": "52f0af22",
        "outputId": "86ce1b72-1b54-47aa-8157-f9f566ff662e"
      },
      "outputs": [
        {
          "output_type": "execute_result",
          "data": {
            "text/plain": [
              "array([1, 2, 3])"
            ]
          },
          "metadata": {},
          "execution_count": 199
        }
      ],
      "source": [
        "x # 1 dimensional array"
      ]
    },
    {
      "cell_type": "code",
      "execution_count": 200,
      "id": "f8d8761d",
      "metadata": {
        "colab": {
          "base_uri": "https://localhost:8080/"
        },
        "id": "f8d8761d",
        "outputId": "a7b1a82a-458a-4467-c86e-5be4f506bf10"
      },
      "outputs": [
        {
          "output_type": "execute_result",
          "data": {
            "text/plain": [
              "array([[2., 3., 4.],\n",
              "       [2., 3., 4.],\n",
              "       [2., 3., 4.]])"
            ]
          },
          "metadata": {},
          "execution_count": 200
        }
      ],
      "source": [
        "md_array + x # broadcasting"
      ]
    },
    {
      "cell_type": "markdown",
      "id": "7593baf7",
      "metadata": {
        "id": "7593baf7"
      },
      "source": [
        "##### More complicated cases of Broadcasting of both arrays."
      ]
    },
    {
      "cell_type": "code",
      "execution_count": 201,
      "id": "35b7f1bb",
      "metadata": {
        "id": "35b7f1bb"
      },
      "outputs": [],
      "source": [
        "a = np.arange(3) # one dimensional array\n",
        "b = np.arange (3)[:, np.newaxis] # column vector=> 3x1"
      ]
    },
    {
      "cell_type": "code",
      "execution_count": 202,
      "id": "47341627",
      "metadata": {
        "colab": {
          "base_uri": "https://localhost:8080/"
        },
        "id": "47341627",
        "outputId": "be01c8ed-9021-4f28-fd77-f370b53e1ddf"
      },
      "outputs": [
        {
          "output_type": "stream",
          "name": "stdout",
          "text": [
            "[0 1 2]\n",
            "[[0]\n",
            " [1]\n",
            " [2]]\n"
          ]
        }
      ],
      "source": [
        "print(a)\n",
        "print(b)"
      ]
    },
    {
      "cell_type": "code",
      "execution_count": 203,
      "id": "78bc3646",
      "metadata": {
        "colab": {
          "base_uri": "https://localhost:8080/"
        },
        "id": "78bc3646",
        "outputId": "facc5d81-0c15-4eeb-a31d-ead1bdbb1a7d"
      },
      "outputs": [
        {
          "output_type": "execute_result",
          "data": {
            "text/plain": [
              "array([[0, 1, 2],\n",
              "       [1, 2, 3],\n",
              "       [2, 3, 4]])"
            ]
          },
          "metadata": {},
          "execution_count": 203
        }
      ],
      "source": [
        "a + b # both arrays broadcasted"
      ]
    },
    {
      "cell_type": "markdown",
      "source": [
        "![image.png](data:image/png;base64,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)"
      ],
      "metadata": {
        "id": "ks00H2cne3vg"
      },
      "id": "ks00H2cne3vg"
    },
    {
      "cell_type": "markdown",
      "id": "aea6c840",
      "metadata": {
        "id": "aea6c840"
      },
      "source": [
        "  ##### Centering an array:\n",
        "Consider that you have an array of 10 observations, each of which consists of 3 values."
      ]
    },
    {
      "cell_type": "code",
      "execution_count": 204,
      "id": "7ad6753c",
      "metadata": {
        "id": "7ad6753c"
      },
      "outputs": [],
      "source": [
        "x = np.random.random ((10,3)) # 10x3 array"
      ]
    },
    {
      "cell_type": "code",
      "execution_count": 205,
      "id": "0657d48b",
      "metadata": {
        "colab": {
          "base_uri": "https://localhost:8080/"
        },
        "id": "0657d48b",
        "outputId": "bd1e5b3a-721f-4d92-e39c-2c6e362a8fff"
      },
      "outputs": [
        {
          "output_type": "execute_result",
          "data": {
            "text/plain": [
              "array([[0.45336977, 0.44067849, 0.43144165],\n",
              "       [0.33431828, 0.81711655, 0.05052775],\n",
              "       [0.06315452, 0.09744114, 0.0924479 ],\n",
              "       [0.10199543, 0.51307961, 0.44296711],\n",
              "       [0.37819162, 0.41254334, 0.96707041],\n",
              "       [0.78393884, 0.25476293, 0.47361973],\n",
              "       [0.50219341, 0.36082531, 0.79186763],\n",
              "       [0.31353191, 0.14772955, 0.08458909],\n",
              "       [0.59205458, 0.45934609, 0.10724395],\n",
              "       [0.35774943, 0.28425601, 0.9912565 ]])"
            ]
          },
          "metadata": {},
          "execution_count": 205
        }
      ],
      "source": [
        "x"
      ]
    },
    {
      "cell_type": "code",
      "execution_count": 206,
      "id": "f4004bdf",
      "metadata": {
        "colab": {
          "base_uri": "https://localhost:8080/"
        },
        "id": "f4004bdf",
        "outputId": "86e95cf0-3a40-4741-dbbf-010b0a060110"
      },
      "outputs": [
        {
          "output_type": "execute_result",
          "data": {
            "text/plain": [
              "array([[0.45336977, 0.44067849, 0.43144165],\n",
              "       [0.33431828, 0.81711655, 0.05052775],\n",
              "       [0.06315452, 0.09744114, 0.0924479 ],\n",
              "       [0.10199543, 0.51307961, 0.44296711],\n",
              "       [0.37819162, 0.41254334, 0.96707041]])"
            ]
          },
          "metadata": {},
          "execution_count": 206
        }
      ],
      "source": [
        "x[:5] # shows first five rows "
      ]
    },
    {
      "cell_type": "code",
      "execution_count": 207,
      "id": "ce70e2ee",
      "metadata": {
        "colab": {
          "base_uri": "https://localhost:8080/"
        },
        "id": "ce70e2ee",
        "outputId": "b423faa7-4894-4662-ab30-3a5815053816"
      },
      "outputs": [
        {
          "output_type": "execute_result",
          "data": {
            "text/plain": [
              "array([0.38804978, 0.3787779 , 0.44330317])"
            ]
          },
          "metadata": {},
          "execution_count": 207
        }
      ],
      "source": [
        "np.mean (x, axis = 0) # column mean"
      ]
    },
    {
      "cell_type": "markdown",
      "source": [
        "We can center the X array by subtracting the mean."
      ],
      "metadata": {
        "id": "LzgXmJWBfHkx"
      },
      "id": "LzgXmJWBfHkx"
    },
    {
      "cell_type": "code",
      "execution_count": 208,
      "id": "1bf08299",
      "metadata": {
        "id": "1bf08299"
      },
      "outputs": [],
      "source": [
        "col_means = np.mean(x,axis = 0)\n",
        "x_centered = x - col_means"
      ]
    },
    {
      "cell_type": "code",
      "execution_count": 209,
      "id": "f05e3043",
      "metadata": {
        "colab": {
          "base_uri": "https://localhost:8080/"
        },
        "id": "f05e3043",
        "outputId": "c180c4e4-fbe1-4d0e-b25b-1cf915e23ed0"
      },
      "outputs": [
        {
          "output_type": "execute_result",
          "data": {
            "text/plain": [
              "array([[ 6.53199885e-02,  6.19005920e-02, -1.18615175e-02],\n",
              "       [-5.37314977e-02,  4.38338650e-01, -3.92775418e-01],\n",
              "       [-3.24895258e-01, -2.81336767e-01, -3.50855271e-01],\n",
              "       [-2.86054352e-01,  1.34301706e-01, -3.36066330e-04],\n",
              "       [-9.85815705e-03,  3.37654410e-02,  5.23767241e-01],\n",
              "       [ 3.95889065e-01, -1.24014969e-01,  3.03165540e-02],\n",
              "       [ 1.14143631e-01, -1.79525947e-02,  3.48564455e-01],\n",
              "       [-7.45178714e-02, -2.31048348e-01, -3.58714085e-01],\n",
              "       [ 2.04004803e-01,  8.05681850e-02, -3.36059224e-01],\n",
              "       [-3.03003522e-02, -9.45218958e-02,  5.47953331e-01]])"
            ]
          },
          "metadata": {},
          "execution_count": 209
        }
      ],
      "source": [
        "x_centered "
      ]
    },
    {
      "cell_type": "markdown",
      "source": [
        "The mean of each column (feature) should be ideally 0."
      ],
      "metadata": {
        "id": "AdaIlkqKfUzx"
      },
      "id": "AdaIlkqKfUzx"
    },
    {
      "cell_type": "code",
      "execution_count": 210,
      "id": "84cb9ff6",
      "metadata": {
        "colab": {
          "base_uri": "https://localhost:8080/"
        },
        "id": "84cb9ff6",
        "outputId": "b8c925e1-c0d6-4d2b-dea4-274972035619"
      },
      "outputs": [
        {
          "output_type": "execute_result",
          "data": {
            "text/plain": [
              "array([ 2.22044605e-17,  3.33066907e-17, -1.11022302e-17])"
            ]
          },
          "metadata": {},
          "execution_count": 210
        }
      ],
      "source": [
        "np.mean(x_centered, axis = 0) # mean of columns close to zero"
      ]
    },
    {
      "cell_type": "markdown",
      "id": "4870e4ea",
      "metadata": {
        "id": "4870e4ea"
      },
      "source": [
        "#### Comparisions, Masks, and Boolean Logic:\n",
        "\n",
        "Let's see how we can use Boolean masks to examine and manipulate values in NumPy arrays.\n",
        "\n",
        "**Comparison Operators as ufuncs**\n",
        "\n",
        "NumPy also implements comparison operators such as `<` and `>` as element-wise ufuncs. The result of these operations is always an array with a Boolean data type."
      ]
    },
    {
      "cell_type": "code",
      "execution_count": 211,
      "id": "2aca1271",
      "metadata": {
        "id": "2aca1271"
      },
      "outputs": [],
      "source": [
        "x = np.array([1,2,3,4,5])"
      ]
    },
    {
      "cell_type": "code",
      "execution_count": 212,
      "id": "fd0b93af",
      "metadata": {
        "colab": {
          "base_uri": "https://localhost:8080/"
        },
        "id": "fd0b93af",
        "outputId": "0cbce790-df76-400e-a5be-760b8f1fc228"
      },
      "outputs": [
        {
          "output_type": "execute_result",
          "data": {
            "text/plain": [
              "array([1, 2, 3, 4, 5])"
            ]
          },
          "metadata": {},
          "execution_count": 212
        }
      ],
      "source": [
        "x"
      ]
    },
    {
      "cell_type": "code",
      "execution_count": 213,
      "id": "b64c7ca0",
      "metadata": {
        "colab": {
          "base_uri": "https://localhost:8080/"
        },
        "id": "b64c7ca0",
        "outputId": "f751f854-a5cd-43eb-fada-b5955a349ce8"
      },
      "outputs": [
        {
          "output_type": "execute_result",
          "data": {
            "text/plain": [
              "array([ True,  True, False, False, False])"
            ]
          },
          "metadata": {},
          "execution_count": 213
        }
      ],
      "source": [
        "x < 3 # boolean mask"
      ]
    },
    {
      "cell_type": "code",
      "execution_count": 214,
      "id": "55cb8ba8",
      "metadata": {
        "colab": {
          "base_uri": "https://localhost:8080/"
        },
        "id": "55cb8ba8",
        "outputId": "94982752-d956-4db9-8594-a46c503133e3"
      },
      "outputs": [
        {
          "output_type": "execute_result",
          "data": {
            "text/plain": [
              "array([False, False,  True,  True,  True])"
            ]
          },
          "metadata": {},
          "execution_count": 214
        }
      ],
      "source": [
        "x > 2"
      ]
    },
    {
      "cell_type": "code",
      "execution_count": 215,
      "id": "3130fafe",
      "metadata": {
        "colab": {
          "base_uri": "https://localhost:8080/"
        },
        "id": "3130fafe",
        "outputId": "3cea7b82-7b60-4ce0-9c37-c40ef2db8a37"
      },
      "outputs": [
        {
          "output_type": "execute_result",
          "data": {
            "text/plain": [
              "array([False, False,  True, False, False])"
            ]
          },
          "metadata": {},
          "execution_count": 215
        }
      ],
      "source": [
        "x == 3"
      ]
    },
    {
      "cell_type": "code",
      "execution_count": 216,
      "id": "1b8f4600",
      "metadata": {
        "colab": {
          "base_uri": "https://localhost:8080/"
        },
        "id": "1b8f4600",
        "outputId": "dd5d14c9-943e-40ea-9848-5c0470590a10"
      },
      "outputs": [
        {
          "output_type": "execute_result",
          "data": {
            "text/plain": [
              "array([False,  True, False, False, False])"
            ]
          },
          "metadata": {},
          "execution_count": 216
        }
      ],
      "source": [
        "# element-by-element comparison of two arrays, to include compound expressions\n",
        "(2* x) == (x ** 2)\n",
        "# [ 2,4,6,8,10] == [1,4,9,16,25]"
      ]
    },
    {
      "cell_type": "markdown",
      "source": [
        "Just like with arithmetic operators, the comparison operators are also implemented as ufuncs in Numpy.\n",
        "\n",
        "Example: when you run `x < 2`, internally Numpy uses `np.less(x, 2)`"
      ],
      "metadata": {
        "id": "EuCMnDrQfx_X"
      },
      "id": "EuCMnDrQfx_X"
    },
    {
      "cell_type": "markdown",
      "source": [
        "![image.png](data:image/png;base64,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)"
      ],
      "metadata": {
        "id": "E0NCVsZ5f7Uw"
      },
      "id": "E0NCVsZ5f7Uw"
    },
    {
      "cell_type": "markdown",
      "source": [
        "Just as with arithmetic ufuncs, comparison ufuncs works on array of any shape and size."
      ],
      "metadata": {
        "id": "HDFvQ5mlf-gS"
      },
      "id": "HDFvQ5mlf-gS"
    },
    {
      "cell_type": "code",
      "source": [
        "rng = np.random.RandomState(0)\n",
        "x = rng.randint(10, size=(3, 4))\n",
        "x"
      ],
      "metadata": {
        "id": "4LfjW6ACgSEP",
        "colab": {
          "base_uri": "https://localhost:8080/"
        },
        "outputId": "fa551e57-097b-4f76-8c62-001b533821de"
      },
      "id": "4LfjW6ACgSEP",
      "execution_count": 217,
      "outputs": [
        {
          "output_type": "execute_result",
          "data": {
            "text/plain": [
              "array([[5, 0, 3, 3],\n",
              "       [7, 9, 3, 5],\n",
              "       [2, 4, 7, 6]])"
            ]
          },
          "metadata": {},
          "execution_count": 217
        }
      ]
    },
    {
      "cell_type": "code",
      "source": [
        "x <= 5"
      ],
      "metadata": {
        "id": "HcklRp3sgTuh",
        "colab": {
          "base_uri": "https://localhost:8080/"
        },
        "outputId": "51929dca-571e-477f-ca16-19bed8aa0010"
      },
      "id": "HcklRp3sgTuh",
      "execution_count": 218,
      "outputs": [
        {
          "output_type": "execute_result",
          "data": {
            "text/plain": [
              "array([[ True,  True,  True,  True],\n",
              "       [False, False,  True,  True],\n",
              "       [ True,  True, False, False]])"
            ]
          },
          "metadata": {},
          "execution_count": 218
        }
      ]
    },
    {
      "cell_type": "code",
      "execution_count": 219,
      "id": "ee228642",
      "metadata": {
        "colab": {
          "base_uri": "https://localhost:8080/"
        },
        "id": "ee228642",
        "outputId": "5706e145-f811-47c7-da8e-d12c86ab16f3"
      },
      "outputs": [
        {
          "output_type": "execute_result",
          "data": {
            "text/plain": [
              "array([[False, False, False, False],\n",
              "       [False, False, False, False],\n",
              "       [ True, False, False, False]])"
            ]
          },
          "metadata": {},
          "execution_count": 219
        }
      ],
      "source": [
        "# using ufunc\n",
        "np.equal(x,2)"
      ]
    },
    {
      "cell_type": "code",
      "execution_count": 220,
      "id": "b16931e6",
      "metadata": {
        "colab": {
          "base_uri": "https://localhost:8080/"
        },
        "id": "b16931e6",
        "outputId": "b696affd-95ab-4fdf-fe20-a698058f1a34"
      },
      "outputs": [
        {
          "output_type": "execute_result",
          "data": {
            "text/plain": [
              "array([[ True, False,  True,  True],\n",
              "       [ True,  True,  True,  True],\n",
              "       [False,  True,  True,  True]])"
            ]
          },
          "metadata": {},
          "execution_count": 220
        }
      ],
      "source": [
        "np.greater(x,2)"
      ]
    },
    {
      "cell_type": "code",
      "execution_count": 221,
      "id": "6f058ef8",
      "metadata": {
        "colab": {
          "base_uri": "https://localhost:8080/"
        },
        "id": "6f058ef8",
        "outputId": "27ded593-98f3-436e-efd0-83695f35f127"
      },
      "outputs": [
        {
          "output_type": "stream",
          "name": "stdout",
          "text": [
            "[[5 0 3 3]\n",
            " [7 9 3 5]\n",
            " [2 4 7 6]]\n"
          ]
        }
      ],
      "source": [
        "print(x)"
      ]
    },
    {
      "cell_type": "code",
      "execution_count": 222,
      "id": "ddf6f737",
      "metadata": {
        "colab": {
          "base_uri": "https://localhost:8080/"
        },
        "id": "ddf6f737",
        "outputId": "cc69f6e5-ec91-490c-973b-de3515154768"
      },
      "outputs": [
        {
          "output_type": "execute_result",
          "data": {
            "text/plain": [
              "array([[False,  True, False, False],\n",
              "       [False, False, False, False],\n",
              "       [ True, False, False, False]])"
            ]
          },
          "metadata": {},
          "execution_count": 222
        }
      ],
      "source": [
        "np.less(x,3)"
      ]
    },
    {
      "cell_type": "code",
      "execution_count": 223,
      "id": "57beafa1",
      "metadata": {
        "colab": {
          "base_uri": "https://localhost:8080/"
        },
        "id": "57beafa1",
        "outputId": "6c18fafb-c5dc-48d2-dbb3-5b21651b7e64"
      },
      "outputs": [
        {
          "output_type": "execute_result",
          "data": {
            "text/plain": [
              "array([[False,  True,  True,  True],\n",
              "       [False, False,  True, False],\n",
              "       [ True, False, False, False]])"
            ]
          },
          "metadata": {},
          "execution_count": 223
        }
      ],
      "source": [
        "np.less_equal(x,3)"
      ]
    },
    {
      "cell_type": "code",
      "execution_count": 224,
      "id": "b35ca9c8",
      "metadata": {
        "colab": {
          "base_uri": "https://localhost:8080/"
        },
        "id": "b35ca9c8",
        "outputId": "2c8527cf-c24e-40c6-9cb6-510fc00dd637"
      },
      "outputs": [
        {
          "output_type": "execute_result",
          "data": {
            "text/plain": [
              "array([[ True, False,  True,  True],\n",
              "       [ True,  True,  True,  True],\n",
              "       [ True,  True,  True,  True]])"
            ]
          },
          "metadata": {},
          "execution_count": 224
        }
      ],
      "source": [
        "np.greater_equal(x,2)"
      ]
    },
    {
      "cell_type": "code",
      "execution_count": 225,
      "id": "7e61edef",
      "metadata": {
        "id": "7e61edef"
      },
      "outputs": [],
      "source": [
        "# 2d array\n",
        "rng = np.random.RandomState(0)\n",
        "x = rng.randint(10,size = (3,4))"
      ]
    },
    {
      "cell_type": "code",
      "execution_count": 226,
      "id": "2c516b72",
      "metadata": {
        "colab": {
          "base_uri": "https://localhost:8080/"
        },
        "id": "2c516b72",
        "outputId": "b956a107-3190-4484-8d84-02ccec7ed0a2"
      },
      "outputs": [
        {
          "output_type": "execute_result",
          "data": {
            "text/plain": [
              "array([[5, 0, 3, 3],\n",
              "       [7, 9, 3, 5],\n",
              "       [2, 4, 7, 6]])"
            ]
          },
          "metadata": {},
          "execution_count": 226
        }
      ],
      "source": [
        "x"
      ]
    },
    {
      "cell_type": "code",
      "execution_count": 227,
      "id": "a59ea38e",
      "metadata": {
        "colab": {
          "base_uri": "https://localhost:8080/"
        },
        "id": "a59ea38e",
        "outputId": "05441840-f030-4d23-a91a-9962f5f93b05"
      },
      "outputs": [
        {
          "output_type": "execute_result",
          "data": {
            "text/plain": [
              "array([[ True, False, False, False],\n",
              "       [ True,  True, False,  True],\n",
              "       [False, False,  True,  True]])"
            ]
          },
          "metadata": {},
          "execution_count": 227
        }
      ],
      "source": [
        "x > 4"
      ]
    },
    {
      "cell_type": "code",
      "execution_count": 228,
      "id": "94cbd155",
      "metadata": {
        "colab": {
          "base_uri": "https://localhost:8080/"
        },
        "id": "94cbd155",
        "outputId": "e3d68810-d2c3-4329-d871-cf0f123083b4"
      },
      "outputs": [
        {
          "output_type": "execute_result",
          "data": {
            "text/plain": [
              "array([[ True, False, False, False],\n",
              "       [ True,  True, False,  True],\n",
              "       [False, False,  True,  True]])"
            ]
          },
          "metadata": {},
          "execution_count": 228
        }
      ],
      "source": [
        "np.greater(x,4)"
      ]
    },
    {
      "cell_type": "markdown",
      "id": "9bc14857",
      "metadata": {
        "id": "9bc14857"
      },
      "source": [
        "#### Working  with Boolean Arrays:"
      ]
    },
    {
      "cell_type": "code",
      "execution_count": 229,
      "id": "73c5f531",
      "metadata": {
        "colab": {
          "base_uri": "https://localhost:8080/"
        },
        "id": "73c5f531",
        "outputId": "d772d1e9-a417-4761-b1d3-a5cb6217c66b"
      },
      "outputs": [
        {
          "output_type": "execute_result",
          "data": {
            "text/plain": [
              "array([[5, 0, 3, 3],\n",
              "       [7, 9, 3, 5],\n",
              "       [2, 4, 7, 6]])"
            ]
          },
          "metadata": {},
          "execution_count": 229
        }
      ],
      "source": [
        "x # 3x4 array"
      ]
    },
    {
      "cell_type": "markdown",
      "source": [
        "#### Counting entries\n",
        "\n",
        "To count the number of True entries in a Boolean array, we can use `np.count_nonzero` function."
      ],
      "metadata": {
        "id": "6ejjLKkDgcJj"
      },
      "id": "6ejjLKkDgcJj"
    },
    {
      "cell_type": "code",
      "execution_count": 230,
      "id": "1962ca90",
      "metadata": {
        "colab": {
          "base_uri": "https://localhost:8080/"
        },
        "id": "1962ca90",
        "outputId": "9c491536-2122-4461-f123-408c75f6f18c"
      },
      "outputs": [
        {
          "output_type": "execute_result",
          "data": {
            "text/plain": [
              "6"
            ]
          },
          "metadata": {},
          "execution_count": 230
        }
      ],
      "source": [
        "# Counting elements less than 5\n",
        "np.sum(x>4)"
      ]
    },
    {
      "cell_type": "code",
      "execution_count": 231,
      "id": "16715583",
      "metadata": {
        "colab": {
          "base_uri": "https://localhost:8080/"
        },
        "id": "16715583",
        "outputId": "1b396f73-c422-4832-cb1a-2ce1ccb50e86"
      },
      "outputs": [
        {
          "output_type": "execute_result",
          "data": {
            "text/plain": [
              "1"
            ]
          },
          "metadata": {},
          "execution_count": 231
        }
      ],
      "source": [
        "int(True)"
      ]
    },
    {
      "cell_type": "code",
      "execution_count": 232,
      "id": "16e8698b",
      "metadata": {
        "colab": {
          "base_uri": "https://localhost:8080/"
        },
        "id": "16e8698b",
        "outputId": "55a5fa2f-2a9d-4ba0-e7db-87d0f919d127"
      },
      "outputs": [
        {
          "output_type": "execute_result",
          "data": {
            "text/plain": [
              "0"
            ]
          },
          "metadata": {},
          "execution_count": 232
        }
      ],
      "source": [
        "int(False)"
      ]
    },
    {
      "cell_type": "code",
      "execution_count": 233,
      "id": "897e9134",
      "metadata": {
        "colab": {
          "base_uri": "https://localhost:8080/"
        },
        "id": "897e9134",
        "outputId": "a3fd9388-721c-4688-c451-21d798c29a35"
      },
      "outputs": [
        {
          "output_type": "execute_result",
          "data": {
            "text/plain": [
              "11"
            ]
          },
          "metadata": {},
          "execution_count": 233
        }
      ],
      "source": [
        "np.count_nonzero(x)"
      ]
    },
    {
      "cell_type": "code",
      "execution_count": 234,
      "id": "b9780a6b",
      "metadata": {
        "colab": {
          "base_uri": "https://localhost:8080/"
        },
        "id": "b9780a6b",
        "outputId": "09e03e3d-3e63-4269-f51a-992e0785c207"
      },
      "outputs": [
        {
          "output_type": "execute_result",
          "data": {
            "text/plain": [
              "6"
            ]
          },
          "metadata": {},
          "execution_count": 234
        }
      ],
      "source": [
        "np.count_nonzero(x>4)"
      ]
    },
    {
      "cell_type": "code",
      "execution_count": 235,
      "id": "9bd7fb37",
      "metadata": {
        "colab": {
          "base_uri": "https://localhost:8080/"
        },
        "id": "9bd7fb37",
        "outputId": "36f29ba5-9f12-4ebe-86ae-a74ede553528"
      },
      "outputs": [
        {
          "output_type": "stream",
          "name": "stdout",
          "text": [
            "[[5 0 3 3]\n",
            " [7 9 3 5]\n",
            " [2 4 7 6]]\n"
          ]
        }
      ],
      "source": [
        "print(x)"
      ]
    },
    {
      "cell_type": "code",
      "execution_count": 236,
      "id": "83849a88",
      "metadata": {
        "colab": {
          "base_uri": "https://localhost:8080/"
        },
        "id": "83849a88",
        "outputId": "3d4f8b85-e1b9-4402-e4f9-d5fff28bec47"
      },
      "outputs": [
        {
          "output_type": "execute_result",
          "data": {
            "text/plain": [
              "array([1, 3, 2])"
            ]
          },
          "metadata": {},
          "execution_count": 236
        }
      ],
      "source": [
        "# Greater then 4 in each row.\n",
        "np.sum(x > 4,axis = 1)"
      ]
    },
    {
      "cell_type": "code",
      "execution_count": 237,
      "id": "59cebae8",
      "metadata": {
        "colab": {
          "base_uri": "https://localhost:8080/"
        },
        "id": "59cebae8",
        "outputId": "c4323142-2d86-4ee6-b381-55d0b6a6fe41"
      },
      "outputs": [
        {
          "output_type": "execute_result",
          "data": {
            "text/plain": [
              "array([2, 1, 1, 2])"
            ]
          },
          "metadata": {},
          "execution_count": 237
        }
      ],
      "source": [
        "# Greater then 4 in each column.\n",
        "np.sum(x > 4, axis = 0)"
      ]
    },
    {
      "cell_type": "code",
      "execution_count": 238,
      "id": "3f574578",
      "metadata": {
        "colab": {
          "base_uri": "https://localhost:8080/"
        },
        "id": "3f574578",
        "outputId": "a146058c-cedc-4740-9736-fa1c8703747e"
      },
      "outputs": [
        {
          "output_type": "execute_result",
          "data": {
            "text/plain": [
              "False"
            ]
          },
          "metadata": {},
          "execution_count": 238
        }
      ],
      "source": [
        "np.any(x > 9) # any elements greater than 9"
      ]
    },
    {
      "cell_type": "code",
      "execution_count": 239,
      "id": "c8e386dd",
      "metadata": {
        "colab": {
          "base_uri": "https://localhost:8080/"
        },
        "id": "c8e386dd",
        "outputId": "811bdd66-a4a9-457a-d790-cd14513ab9c0"
      },
      "outputs": [
        {
          "output_type": "execute_result",
          "data": {
            "text/plain": [
              "False"
            ]
          },
          "metadata": {},
          "execution_count": 239
        }
      ],
      "source": [
        "np.any(x < 0)"
      ]
    },
    {
      "cell_type": "code",
      "execution_count": 240,
      "id": "81695719",
      "metadata": {
        "colab": {
          "base_uri": "https://localhost:8080/"
        },
        "id": "81695719",
        "outputId": "376647d3-f15c-4cc3-8430-2f53c86817a1"
      },
      "outputs": [
        {
          "output_type": "execute_result",
          "data": {
            "text/plain": [
              "True"
            ]
          },
          "metadata": {},
          "execution_count": 240
        }
      ],
      "source": [
        "np.any (x < 5)"
      ]
    },
    {
      "cell_type": "code",
      "execution_count": 241,
      "id": "7b692506",
      "metadata": {
        "colab": {
          "base_uri": "https://localhost:8080/"
        },
        "id": "7b692506",
        "outputId": "1be19457-1640-47b6-9a15-7b7df3648685"
      },
      "outputs": [
        {
          "output_type": "execute_result",
          "data": {
            "text/plain": [
              "array([False,  True,  True])"
            ]
          },
          "metadata": {},
          "execution_count": 241
        }
      ],
      "source": [
        "np.any (x > 5, axis = 1) # any elements greater then 5 in rows"
      ]
    },
    {
      "cell_type": "code",
      "execution_count": 242,
      "id": "3102cbf3",
      "metadata": {
        "colab": {
          "base_uri": "https://localhost:8080/"
        },
        "id": "3102cbf3",
        "outputId": "9c0aae6b-784d-499b-f4e6-0e0968a50722"
      },
      "outputs": [
        {
          "output_type": "execute_result",
          "data": {
            "text/plain": [
              "array([[5, 0, 3, 3],\n",
              "       [7, 9, 3, 5],\n",
              "       [2, 4, 7, 6]])"
            ]
          },
          "metadata": {},
          "execution_count": 242
        }
      ],
      "source": [
        "x "
      ]
    },
    {
      "cell_type": "code",
      "execution_count": 243,
      "id": "172cc5fa",
      "metadata": {
        "colab": {
          "base_uri": "https://localhost:8080/"
        },
        "id": "172cc5fa",
        "outputId": "1ea48877-e1ff-4a56-e77a-80766d8de7b3"
      },
      "outputs": [
        {
          "output_type": "execute_result",
          "data": {
            "text/plain": [
              "True"
            ]
          },
          "metadata": {},
          "execution_count": 243
        }
      ],
      "source": [
        "np.all(x >= 0)"
      ]
    },
    {
      "cell_type": "code",
      "execution_count": 244,
      "id": "90fdcecc",
      "metadata": {
        "colab": {
          "base_uri": "https://localhost:8080/"
        },
        "id": "90fdcecc",
        "outputId": "2a95c27d-b864-49b8-b657-c450ff870198"
      },
      "outputs": [
        {
          "output_type": "execute_result",
          "data": {
            "text/plain": [
              "False"
            ]
          },
          "metadata": {},
          "execution_count": 244
        }
      ],
      "source": [
        "np.all (x >= 6)"
      ]
    },
    {
      "cell_type": "code",
      "execution_count": 245,
      "id": "8edcd66b",
      "metadata": {
        "colab": {
          "base_uri": "https://localhost:8080/"
        },
        "id": "8edcd66b",
        "outputId": "4a9159b7-a402-4b3a-99a4-45d28fbff9a5"
      },
      "outputs": [
        {
          "output_type": "execute_result",
          "data": {
            "text/plain": [
              "array([False, False, False, False])"
            ]
          },
          "metadata": {},
          "execution_count": 245
        }
      ],
      "source": [
        "np.all(x > 7, axis = 0)"
      ]
    },
    {
      "cell_type": "code",
      "execution_count": 246,
      "id": "ce484cd2",
      "metadata": {
        "colab": {
          "base_uri": "https://localhost:8080/"
        },
        "id": "ce484cd2",
        "outputId": "5a077b8c-6622-4920-ae5f-2bf246ffb980"
      },
      "outputs": [
        {
          "output_type": "execute_result",
          "data": {
            "text/plain": [
              "array([ True, False,  True,  True])"
            ]
          },
          "metadata": {},
          "execution_count": 246
        }
      ],
      "source": [
        "np.all(x > 1, axis = 0)"
      ]
    },
    {
      "cell_type": "markdown",
      "id": "e367613b",
      "metadata": {
        "id": "e367613b"
      },
      "source": [
        "#### Boolean Operators \n",
        "\n",
        "Bit-wise logical operators"
      ]
    },
    {
      "cell_type": "raw",
      "id": "9d3fe19b",
      "metadata": {
        "id": "9d3fe19b"
      },
      "source": [
        "* & (and)\n",
        "* | (or)\n",
        "* ^ (xor)\n",
        "* ~ (not)"
      ]
    },
    {
      "cell_type": "code",
      "execution_count": 247,
      "id": "a1b1dad3",
      "metadata": {
        "colab": {
          "base_uri": "https://localhost:8080/"
        },
        "id": "a1b1dad3",
        "outputId": "17a5b1ed-a975-4198-d560-e7783120c356"
      },
      "outputs": [
        {
          "output_type": "execute_result",
          "data": {
            "text/plain": [
              "array([[5, 0, 3, 3],\n",
              "       [7, 9, 3, 5],\n",
              "       [2, 4, 7, 6]])"
            ]
          },
          "metadata": {},
          "execution_count": 247
        }
      ],
      "source": [
        "x"
      ]
    },
    {
      "cell_type": "code",
      "execution_count": 248,
      "id": "52f5adbc",
      "metadata": {
        "colab": {
          "base_uri": "https://localhost:8080/"
        },
        "id": "52f5adbc",
        "outputId": "677038d7-cbc5-4260-e81c-b13e7c22b005"
      },
      "outputs": [
        {
          "output_type": "execute_result",
          "data": {
            "text/plain": [
              "4"
            ]
          },
          "metadata": {},
          "execution_count": 248
        }
      ],
      "source": [
        "# Number of Elements greater than 2 and less than 5.\n",
        "np.sum ((x > 2) & (x < 5)) # make sure the conditions are within parentheses"
      ]
    },
    {
      "cell_type": "code",
      "execution_count": 249,
      "id": "0fc6ad9c",
      "metadata": {
        "colab": {
          "base_uri": "https://localhost:8080/"
        },
        "id": "0fc6ad9c",
        "outputId": "e54a2b5e-6462-4f69-af11-6d5340dc5d31"
      },
      "outputs": [
        {
          "output_type": "execute_result",
          "data": {
            "text/plain": [
              "4"
            ]
          },
          "metadata": {},
          "execution_count": 249
        }
      ],
      "source": [
        "np.bitwise_and(x > 2, x < 5).sum()"
      ]
    },
    {
      "cell_type": "code",
      "execution_count": 250,
      "id": "91aef65b",
      "metadata": {
        "colab": {
          "base_uri": "https://localhost:8080/"
        },
        "id": "91aef65b",
        "outputId": "6317b2b0-5880-4ab9-a216-02fe4b42affb"
      },
      "outputs": [
        {
          "output_type": "execute_result",
          "data": {
            "text/plain": [
              "array([[ True,  True,  True,  True],\n",
              "       [ True,  True,  True,  True],\n",
              "       [ True,  True,  True,  True]])"
            ]
          },
          "metadata": {},
          "execution_count": 250
        }
      ],
      "source": [
        "np.bitwise_or(x > 2, x < 5)"
      ]
    },
    {
      "cell_type": "markdown",
      "source": [
        "![image.png](data:image/png;base64,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)"
      ],
      "metadata": {
        "id": "PX-Cst5Rhvhw"
      },
      "id": "PX-Cst5Rhvhw"
    },
    {
      "cell_type": "markdown",
      "id": "4a1f028a",
      "metadata": {
        "id": "4a1f028a"
      },
      "source": [
        "##### Boolean Arrrays as Masks\n",
        "\n",
        "We can use Boolean arrays as masks to select particular subsets of the data."
      ]
    },
    {
      "cell_type": "code",
      "execution_count": 251,
      "id": "26c09b07",
      "metadata": {
        "id": "26c09b07"
      },
      "outputs": [],
      "source": [
        "import numpy as np\n",
        "x = np.random.randint (0,10, (3,4)) # 3x4"
      ]
    },
    {
      "cell_type": "code",
      "execution_count": 252,
      "id": "d817f94f",
      "metadata": {
        "colab": {
          "base_uri": "https://localhost:8080/"
        },
        "id": "d817f94f",
        "outputId": "9cd51d4e-8cf4-49b8-bef9-ebfc05a15c58"
      },
      "outputs": [
        {
          "output_type": "execute_result",
          "data": {
            "text/plain": [
              "array([[8, 4, 9, 9],\n",
              "       [5, 6, 6, 8],\n",
              "       [4, 0, 8, 1]])"
            ]
          },
          "metadata": {},
          "execution_count": 252
        }
      ],
      "source": [
        "x"
      ]
    },
    {
      "cell_type": "code",
      "execution_count": 253,
      "id": "d832496c",
      "metadata": {
        "colab": {
          "base_uri": "https://localhost:8080/"
        },
        "id": "d832496c",
        "outputId": "e852b980-501a-4706-aca9-4be18278032f"
      },
      "outputs": [
        {
          "output_type": "execute_result",
          "data": {
            "text/plain": [
              "array([[ True, False,  True,  True],\n",
              "       [False,  True,  True,  True],\n",
              "       [False, False,  True, False]])"
            ]
          },
          "metadata": {},
          "execution_count": 253
        }
      ],
      "source": [
        "x > 5"
      ]
    },
    {
      "cell_type": "markdown",
      "source": [
        "Now to select the values greater than 5, we can simply index on the Boolean array shown above."
      ],
      "metadata": {
        "id": "2NlghbFJiKJx"
      },
      "id": "2NlghbFJiKJx"
    },
    {
      "cell_type": "code",
      "execution_count": 254,
      "id": "b8bc4b7d",
      "metadata": {
        "id": "b8bc4b7d"
      },
      "outputs": [],
      "source": [
        "mask = x > 4"
      ]
    },
    {
      "cell_type": "code",
      "execution_count": 255,
      "id": "b60a3d02",
      "metadata": {
        "colab": {
          "base_uri": "https://localhost:8080/"
        },
        "id": "b60a3d02",
        "outputId": "e5a32eca-0918-4e7c-fcc5-9a66e5f6a924"
      },
      "outputs": [
        {
          "output_type": "execute_result",
          "data": {
            "text/plain": [
              "array([[ True, False,  True,  True],\n",
              "       [ True,  True,  True,  True],\n",
              "       [False, False,  True, False]])"
            ]
          },
          "metadata": {},
          "execution_count": 255
        }
      ],
      "source": [
        "mask"
      ]
    },
    {
      "cell_type": "code",
      "execution_count": 256,
      "id": "cfdd532b",
      "metadata": {
        "colab": {
          "base_uri": "https://localhost:8080/"
        },
        "id": "cfdd532b",
        "outputId": "1aedfba4-1989-41b2-c593-25208d6811b7"
      },
      "outputs": [
        {
          "output_type": "execute_result",
          "data": {
            "text/plain": [
              "8"
            ]
          },
          "metadata": {},
          "execution_count": 256
        }
      ],
      "source": [
        "np.sum(mask)"
      ]
    },
    {
      "cell_type": "code",
      "execution_count": 257,
      "id": "5d7ce422",
      "metadata": {
        "colab": {
          "base_uri": "https://localhost:8080/"
        },
        "id": "5d7ce422",
        "outputId": "cb7a7432-d638-46f4-d6b5-387a28ea0591"
      },
      "outputs": [
        {
          "output_type": "execute_result",
          "data": {
            "text/plain": [
              "array([8, 9, 9, 5, 6, 6, 8, 8])"
            ]
          },
          "metadata": {},
          "execution_count": 257
        }
      ],
      "source": [
        "x [mask] # fancy indexing; prints the elements greater then 4."
      ]
    },
    {
      "cell_type": "markdown",
      "id": "9bca5d2a",
      "metadata": {
        "id": "9bca5d2a"
      },
      "source": [
        "### Fancy Indexing:\n",
        "\n",
        "Fancy indexing is just like simple indexing we have already seen, but we pass arrays of indices in place of single scalars. This allows for quick access and modification of complicated subsets of an array's values."
      ]
    },
    {
      "cell_type": "code",
      "execution_count": 258,
      "id": "d1dae06f",
      "metadata": {
        "id": "d1dae06f"
      },
      "outputs": [],
      "source": [
        "import numpy as np \n",
        "rand = np.random.RandomState(42)\n",
        "x = np.random.randint(100,size = 10)"
      ]
    },
    {
      "cell_type": "code",
      "execution_count": 259,
      "id": "72cb8a07",
      "metadata": {
        "colab": {
          "base_uri": "https://localhost:8080/"
        },
        "id": "72cb8a07",
        "outputId": "43d2be2b-e199-43d0-e366-d04724321f19"
      },
      "outputs": [
        {
          "output_type": "execute_result",
          "data": {
            "text/plain": [
              "array([93, 41, 60, 19, 75, 83, 71, 10, 69, 29])"
            ]
          },
          "metadata": {},
          "execution_count": 259
        }
      ],
      "source": [
        "x"
      ]
    },
    {
      "cell_type": "code",
      "execution_count": 260,
      "id": "6ee58081",
      "metadata": {
        "colab": {
          "base_uri": "https://localhost:8080/"
        },
        "id": "6ee58081",
        "outputId": "543df8a6-f64e-4615-9c79-15c2e4d3e114"
      },
      "outputs": [
        {
          "output_type": "execute_result",
          "data": {
            "text/plain": [
              "array([41, 19, 71])"
            ]
          },
          "metadata": {},
          "execution_count": 260
        }
      ],
      "source": [
        "# I want to access 41,19,71\n",
        "\n",
        "x[[1,3,6]]"
      ]
    },
    {
      "cell_type": "code",
      "execution_count": 261,
      "id": "ad91fe98",
      "metadata": {
        "colab": {
          "base_uri": "https://localhost:8080/"
        },
        "id": "ad91fe98",
        "outputId": "814693c4-6b99-4337-c200-276102d642d9"
      },
      "outputs": [
        {
          "output_type": "execute_result",
          "data": {
            "text/plain": [
              "array([41, 19, 71])"
            ]
          },
          "metadata": {},
          "execution_count": 261
        }
      ],
      "source": [
        "# access three different elements\n",
        "np.array([x[1],x[3],x[6]]) # if there was no fancy indexing"
      ]
    },
    {
      "cell_type": "markdown",
      "source": [
        "The result reflects the shape of the index array, not the array being indexed."
      ],
      "metadata": {
        "id": "H44U0ya_jF6D"
      },
      "id": "H44U0ya_jF6D"
    },
    {
      "cell_type": "code",
      "execution_count": 262,
      "id": "170471d4",
      "metadata": {
        "colab": {
          "base_uri": "https://localhost:8080/"
        },
        "id": "170471d4",
        "outputId": "dfa27fbb-e2e8-4d37-c8bf-4839519470f7"
      },
      "outputs": [
        {
          "output_type": "execute_result",
          "data": {
            "text/plain": [
              "array([93, 41, 60, 19, 75, 83, 71, 10, 69, 29])"
            ]
          },
          "metadata": {},
          "execution_count": 262
        }
      ],
      "source": [
        "x"
      ]
    },
    {
      "cell_type": "code",
      "execution_count": 263,
      "id": "d18adeee",
      "metadata": {
        "id": "d18adeee"
      },
      "outputs": [],
      "source": [
        "indices = np.array([[0,2],[5,7]])"
      ]
    },
    {
      "cell_type": "code",
      "execution_count": 264,
      "id": "c92c9bbd",
      "metadata": {
        "colab": {
          "base_uri": "https://localhost:8080/"
        },
        "id": "c92c9bbd",
        "outputId": "da4cb820-54bd-4037-9858-e17a410ea0d5"
      },
      "outputs": [
        {
          "output_type": "execute_result",
          "data": {
            "text/plain": [
              "array([[0, 2],\n",
              "       [5, 7]])"
            ]
          },
          "metadata": {},
          "execution_count": 264
        }
      ],
      "source": [
        "indices"
      ]
    },
    {
      "cell_type": "code",
      "execution_count": 265,
      "id": "7c2dd8e9",
      "metadata": {
        "colab": {
          "base_uri": "https://localhost:8080/"
        },
        "id": "7c2dd8e9",
        "outputId": "34a47588-134b-4c0f-da09-51feee3a67be"
      },
      "outputs": [
        {
          "output_type": "execute_result",
          "data": {
            "text/plain": [
              "(2, 2)"
            ]
          },
          "metadata": {},
          "execution_count": 265
        }
      ],
      "source": [
        "indices.shape"
      ]
    },
    {
      "cell_type": "code",
      "execution_count": 266,
      "id": "aaf3934d",
      "metadata": {
        "colab": {
          "base_uri": "https://localhost:8080/"
        },
        "id": "aaf3934d",
        "outputId": "fd0cf4b3-8251-429f-daf1-c0b099471c8b"
      },
      "outputs": [
        {
          "output_type": "execute_result",
          "data": {
            "text/plain": [
              "array([[93, 60],\n",
              "       [83, 10]])"
            ]
          },
          "metadata": {},
          "execution_count": 266
        }
      ],
      "source": [
        "# result reflects the shape of the index array\n",
        "x[indices]"
      ]
    },
    {
      "cell_type": "markdown",
      "id": "f7a6d944",
      "metadata": {
        "id": "f7a6d944"
      },
      "source": [
        "#### Fancy indexing in Multiple Dimensions"
      ]
    },
    {
      "cell_type": "code",
      "execution_count": 267,
      "id": "1e5af395",
      "metadata": {
        "id": "1e5af395"
      },
      "outputs": [],
      "source": [
        "arr = np.arange(12).reshape(3,4)"
      ]
    },
    {
      "cell_type": "code",
      "execution_count": 268,
      "id": "eb582a3e",
      "metadata": {
        "colab": {
          "base_uri": "https://localhost:8080/"
        },
        "id": "eb582a3e",
        "outputId": "fb04dbd0-b171-45d3-85ae-a8d0cc7ddcd4"
      },
      "outputs": [
        {
          "output_type": "execute_result",
          "data": {
            "text/plain": [
              "array([[ 0,  1,  2,  3],\n",
              "       [ 4,  5,  6,  7],\n",
              "       [ 8,  9, 10, 11]])"
            ]
          },
          "metadata": {},
          "execution_count": 268
        }
      ],
      "source": [
        "arr"
      ]
    },
    {
      "cell_type": "code",
      "execution_count": 269,
      "id": "8cb5da75",
      "metadata": {
        "id": "8cb5da75"
      },
      "outputs": [],
      "source": [
        "row = np.array([0,1,2])\n",
        "col = np.array([2,1,3])"
      ]
    },
    {
      "cell_type": "code",
      "execution_count": 270,
      "id": "964cd891",
      "metadata": {
        "colab": {
          "base_uri": "https://localhost:8080/"
        },
        "id": "964cd891",
        "outputId": "c7f2caaa-059c-4123-d8d9-60ce07c0dd3c"
      },
      "outputs": [
        {
          "output_type": "execute_result",
          "data": {
            "text/plain": [
              "array([0, 1, 2])"
            ]
          },
          "metadata": {},
          "execution_count": 270
        }
      ],
      "source": [
        "row"
      ]
    },
    {
      "cell_type": "code",
      "execution_count": 271,
      "id": "7ebb264a",
      "metadata": {
        "colab": {
          "base_uri": "https://localhost:8080/"
        },
        "id": "7ebb264a",
        "outputId": "f8d4b71c-e60a-4374-c18a-17bc0a2f3a42"
      },
      "outputs": [
        {
          "output_type": "execute_result",
          "data": {
            "text/plain": [
              "array([2, 1, 3])"
            ]
          },
          "metadata": {},
          "execution_count": 271
        }
      ],
      "source": [
        "col"
      ]
    },
    {
      "cell_type": "code",
      "execution_count": 272,
      "id": "9f84a5d6",
      "metadata": {
        "colab": {
          "base_uri": "https://localhost:8080/"
        },
        "id": "9f84a5d6",
        "outputId": "2ccb27d6-0354-488a-a2d4-54a22f373f4d"
      },
      "outputs": [
        {
          "output_type": "execute_result",
          "data": {
            "text/plain": [
              "array([ 2,  5, 11])"
            ]
          },
          "metadata": {},
          "execution_count": 272
        }
      ],
      "source": [
        "arr[row,col] # Result = [X[0,2], X[1,1], X[2,3]]"
      ]
    },
    {
      "cell_type": "raw",
      "id": "c1b7c71e",
      "metadata": {
        "id": "c1b7c71e"
      },
      "source": [
        "The pairing in fancy indexing follows all the broadcasting rule."
      ]
    },
    {
      "cell_type": "code",
      "execution_count": 273,
      "id": "4b2823d9",
      "metadata": {
        "colab": {
          "base_uri": "https://localhost:8080/"
        },
        "id": "4b2823d9",
        "outputId": "5b497da6-ba07-482f-bc93-75b301a57910"
      },
      "outputs": [
        {
          "output_type": "execute_result",
          "data": {
            "text/plain": [
              "array([[ 0,  1,  2,  3],\n",
              "       [ 4,  5,  6,  7],\n",
              "       [ 8,  9, 10, 11]])"
            ]
          },
          "metadata": {},
          "execution_count": 273
        }
      ],
      "source": [
        "arr"
      ]
    },
    {
      "cell_type": "code",
      "execution_count": 274,
      "id": "da2b0e3d",
      "metadata": {
        "colab": {
          "base_uri": "https://localhost:8080/"
        },
        "id": "da2b0e3d",
        "outputId": "6f2010dc-b470-4cd7-9570-10fe52f7c931"
      },
      "outputs": [
        {
          "output_type": "execute_result",
          "data": {
            "text/plain": [
              "array([[ 2,  1,  3],\n",
              "       [ 6,  5,  7],\n",
              "       [10,  9, 11]])"
            ]
          },
          "metadata": {},
          "execution_count": 274
        }
      ],
      "source": [
        "arr[row[:,np.newaxis],col]"
      ]
    },
    {
      "cell_type": "markdown",
      "id": "c230afc8",
      "metadata": {
        "id": "c230afc8"
      },
      "source": [
        "#### Combined Indexing\n",
        "\n",
        "Fancy indexing can be combined with other indexing schemes that we are familiar with."
      ]
    },
    {
      "cell_type": "code",
      "execution_count": 275,
      "id": "71bce0c5",
      "metadata": {
        "colab": {
          "base_uri": "https://localhost:8080/"
        },
        "id": "71bce0c5",
        "outputId": "081a619f-d697-49ee-8248-2dbd5644577d"
      },
      "outputs": [
        {
          "output_type": "execute_result",
          "data": {
            "text/plain": [
              "array([[ 0,  1,  2,  3],\n",
              "       [ 4,  5,  6,  7],\n",
              "       [ 8,  9, 10, 11]])"
            ]
          },
          "metadata": {},
          "execution_count": 275
        }
      ],
      "source": [
        "arr"
      ]
    },
    {
      "cell_type": "code",
      "execution_count": 276,
      "id": "82ab42b0",
      "metadata": {
        "colab": {
          "base_uri": "https://localhost:8080/"
        },
        "id": "82ab42b0",
        "outputId": "3bea8b01-0a8f-48b5-ed12-9ba6bbdede69"
      },
      "outputs": [
        {
          "output_type": "execute_result",
          "data": {
            "text/plain": [
              "array([10,  8,  9])"
            ]
          },
          "metadata": {},
          "execution_count": 276
        }
      ],
      "source": [
        "# Regular Indexing + Fancy Indexing\n",
        "arr[2,[2,0,1]]  # X[rows_1_2, cols_3_1_2]"
      ]
    },
    {
      "cell_type": "code",
      "execution_count": 277,
      "id": "6af91472",
      "metadata": {
        "colab": {
          "base_uri": "https://localhost:8080/"
        },
        "id": "6af91472",
        "outputId": "838be59b-5a45-408d-a068-243ff2db30ea"
      },
      "outputs": [
        {
          "output_type": "execute_result",
          "data": {
            "text/plain": [
              "array([[ 3,  1,  2],\n",
              "       [ 7,  5,  6],\n",
              "       [11,  9, 10]])"
            ]
          },
          "metadata": {},
          "execution_count": 277
        }
      ],
      "source": [
        "# fancy indexing with slicing combined\n",
        "arr[:,[3,1,2]]"
      ]
    },
    {
      "cell_type": "markdown",
      "id": "f3e12dce",
      "metadata": {
        "id": "f3e12dce"
      },
      "source": [
        "#### Example: Selecting Random Points"
      ]
    },
    {
      "cell_type": "markdown",
      "source": [
        "A common use of fancy indexing is the selection of subsets of rows from a matrix.\n",
        "\n",
        "Suppose, we have a NxD matrix representing N points in D dimensions.\n",
        "\n",
        "Let's create a matrix in which the elements are drawn from a 2-dimensional normal distribution."
      ],
      "metadata": {
        "id": "_1id182Ojihz"
      },
      "id": "_1id182Ojihz"
    },
    {
      "cell_type": "code",
      "execution_count": 278,
      "id": "e5c738fd",
      "metadata": {
        "id": "e5c738fd"
      },
      "outputs": [],
      "source": [
        "import numpy as np\n",
        "import matplotlib.pyplot as plt\n",
        "#rand = np.random.RandomState(42)\n",
        "mean = [2,3]\n",
        "# covariance matrix \n",
        "cov = [[1 ,-2],[-2, 5]]\n",
        "x6 = rand.multivariate_normal(mean,cov,100)"
      ]
    },
    {
      "cell_type": "code",
      "execution_count": 279,
      "id": "c9e67e7b",
      "metadata": {
        "colab": {
          "base_uri": "https://localhost:8080/"
        },
        "id": "c9e67e7b",
        "outputId": "02ad6d2a-357a-4240-fb42-64866c2b6f41"
      },
      "outputs": [
        {
          "output_type": "execute_result",
          "data": {
            "text/plain": [
              "array([[ 1.4881845 ,  4.08597571],\n",
              "       [ 1.98445211,  4.68605157],\n",
              "       [ 2.12672918,  2.44062069],\n",
              "       [ 0.83468216,  6.6439915 ],\n",
              "       [ 2.64136652,  2.03886702],\n",
              "       [ 2.24991506,  1.89254942],\n",
              "       [ 1.04427536,  3.23640378],\n",
              "       [ 3.37843816, -0.93645973],\n",
              "       [ 3.05599119,  0.79075061],\n",
              "       [ 2.29843963,  0.75083649]])"
            ]
          },
          "metadata": {},
          "execution_count": 279
        }
      ],
      "source": [
        "x6[:10]"
      ]
    },
    {
      "cell_type": "code",
      "execution_count": 280,
      "id": "8625e218",
      "metadata": {
        "colab": {
          "base_uri": "https://localhost:8080/"
        },
        "id": "8625e218",
        "outputId": "639043d9-b6b9-472b-cd20-a695bd24b04f"
      },
      "outputs": [
        {
          "output_type": "execute_result",
          "data": {
            "text/plain": [
              "(100, 2)"
            ]
          },
          "metadata": {},
          "execution_count": 280
        }
      ],
      "source": [
        "x6.shape"
      ]
    },
    {
      "cell_type": "markdown",
      "source": [
        "Let's visualize the points."
      ],
      "metadata": {
        "id": "-Xa6hQzmjtFd"
      },
      "id": "-Xa6hQzmjtFd"
    },
    {
      "cell_type": "code",
      "execution_count": 281,
      "id": "57464efa",
      "metadata": {
        "colab": {
          "base_uri": "https://localhost:8080/",
          "height": 282
        },
        "id": "57464efa",
        "outputId": "fa917328-cfea-4cd6-916a-4f233e1036ff"
      },
      "outputs": [
        {
          "output_type": "execute_result",
          "data": {
            "text/plain": [
              "<matplotlib.collections.PathCollection at 0x7fb2424e93d0>"
            ]
          },
          "metadata": {},
          "execution_count": 281
        },
        {
          "output_type": "display_data",
          "data": {
            "text/plain": [
              "<Figure size 432x288 with 1 Axes>"
            ],
            "image/png": "[encoded data removed]"
          },
          "metadata": {
            "needs_background": "light"
          }
        }
      ],
      "source": [
        "plt.scatter(x6[:,0],x6[:,1])"
      ]
    },
    {
      "cell_type": "markdown",
      "source": [
        "Let's use fancy indexing to select 20 random points, by choosing 20 random indices with no repeats, and use these indices to select a portion of the original array."
      ],
      "metadata": {
        "id": "kbMEP3-njz-6"
      },
      "id": "kbMEP3-njz-6"
    },
    {
      "cell_type": "code",
      "execution_count": 282,
      "id": "f2cdd85f",
      "metadata": {
        "id": "f2cdd85f"
      },
      "outputs": [],
      "source": [
        "col_0 = x6[:,0] # first column\n",
        "col_1 = x6[:,1] # second column"
      ]
    },
    {
      "cell_type": "code",
      "execution_count": 283,
      "id": "d66e25a6",
      "metadata": {
        "colab": {
          "base_uri": "https://localhost:8080/"
        },
        "id": "d66e25a6",
        "outputId": "13bab98e-d3bc-42f9-cf19-d942db7d9dc9"
      },
      "outputs": [
        {
          "output_type": "execute_result",
          "data": {
            "text/plain": [
              "0.8630910859125385"
            ]
          },
          "metadata": {},
          "execution_count": 283
        }
      ],
      "source": [
        "np.std(col_0)"
      ]
    },
    {
      "cell_type": "code",
      "execution_count": 284,
      "id": "96db6b7f",
      "metadata": {
        "colab": {
          "base_uri": "https://localhost:8080/"
        },
        "id": "96db6b7f",
        "outputId": "114212cb-5103-40fa-9891-a019ac750915"
      },
      "outputs": [
        {
          "output_type": "execute_result",
          "data": {
            "text/plain": [
              "array([[ 1.        , -0.85846639],\n",
              "       [-0.85846639,  1.        ]])"
            ]
          },
          "metadata": {},
          "execution_count": 284
        }
      ],
      "source": [
        "np.corrcoef(col_0,col_1) # correlation cofficent"
      ]
    },
    {
      "cell_type": "code",
      "execution_count": 285,
      "id": "e3820934",
      "metadata": {
        "colab": {
          "base_uri": "https://localhost:8080/"
        },
        "id": "e3820934",
        "outputId": "afac6dc0-3486-4335-d459-c696ab7b605c"
      },
      "outputs": [
        {
          "output_type": "execute_result",
          "data": {
            "text/plain": [
              "1.9119700283672594"
            ]
          },
          "metadata": {},
          "execution_count": 285
        }
      ],
      "source": [
        "np.std(col_1)"
      ]
    },
    {
      "cell_type": "code",
      "execution_count": 286,
      "id": "f2a57f2f",
      "metadata": {
        "id": "f2a57f2f"
      },
      "outputs": [],
      "source": [
        "arr = np.arange(20)"
      ]
    },
    {
      "cell_type": "code",
      "execution_count": 287,
      "id": "977f9cce",
      "metadata": {
        "colab": {
          "base_uri": "https://localhost:8080/"
        },
        "id": "977f9cce",
        "outputId": "41d08b2a-3e7e-4d4e-ebc4-77d6f3731cdc"
      },
      "outputs": [
        {
          "output_type": "execute_result",
          "data": {
            "text/plain": [
              "array([17, 15, 10,  3,  7,  1, 13,  0, 11,  1,  7,  9, 14,  3,  7,  8,  3,\n",
              "        1, 19,  9])"
            ]
          },
          "metadata": {},
          "execution_count": 287
        }
      ],
      "source": [
        "np.random.choice(arr,20) # sampling "
      ]
    },
    {
      "cell_type": "code",
      "execution_count": 288,
      "id": "adc13365",
      "metadata": {
        "colab": {
          "base_uri": "https://localhost:8080/"
        },
        "id": "adc13365",
        "outputId": "da7f849f-1446-4e6a-c0df-ed5db4c5a29c"
      },
      "outputs": [
        {
          "output_type": "execute_result",
          "data": {
            "text/plain": [
              "array([13,  3,  1,  7,  8, 18,  6, 15, 14,  9])"
            ]
          },
          "metadata": {},
          "execution_count": 288
        }
      ],
      "source": [
        "np.random.choice(arr,10,replace=False)  # no  duplicate"
      ]
    },
    {
      "cell_type": "code",
      "execution_count": 289,
      "id": "40be0339",
      "metadata": {
        "colab": {
          "base_uri": "https://localhost:8080/"
        },
        "id": "40be0339",
        "outputId": "ed285aa3-c245-47a0-eb06-0cd873c8a7bd"
      },
      "outputs": [
        {
          "output_type": "execute_result",
          "data": {
            "text/plain": [
              "array([[ 1.4881845 ,  4.08597571],\n",
              "       [ 1.98445211,  4.68605157],\n",
              "       [ 2.12672918,  2.44062069],\n",
              "       [ 0.83468216,  6.6439915 ],\n",
              "       [ 2.64136652,  2.03886702],\n",
              "       [ 2.24991506,  1.89254942],\n",
              "       [ 1.04427536,  3.23640378],\n",
              "       [ 3.37843816, -0.93645973],\n",
              "       [ 3.05599119,  0.79075061],\n",
              "       [ 2.29843963,  0.75083649]])"
            ]
          },
          "metadata": {},
          "execution_count": 289
        }
      ],
      "source": [
        "x6[:10]"
      ]
    },
    {
      "cell_type": "code",
      "execution_count": 290,
      "id": "d4f94266",
      "metadata": {
        "id": "d4f94266"
      },
      "outputs": [],
      "source": [
        "indices = np.random.choice(x6.shape[0],10,replace = False)"
      ]
    },
    {
      "cell_type": "code",
      "execution_count": 291,
      "id": "0b81502c",
      "metadata": {
        "colab": {
          "base_uri": "https://localhost:8080/"
        },
        "id": "0b81502c",
        "outputId": "75910e88-d451-41bc-8013-7f76d3bfc92d"
      },
      "outputs": [
        {
          "output_type": "execute_result",
          "data": {
            "text/plain": [
              "array([22, 34, 30, 40, 27, 12, 65,  5, 54, 74])"
            ]
          },
          "metadata": {},
          "execution_count": 291
        }
      ],
      "source": [
        "indices"
      ]
    },
    {
      "cell_type": "code",
      "execution_count": 292,
      "id": "efd8787c",
      "metadata": {
        "colab": {
          "base_uri": "https://localhost:8080/"
        },
        "id": "efd8787c",
        "outputId": "b6e32db7-2088-4dd0-8815-8ebf06af4ca6"
      },
      "outputs": [
        {
          "output_type": "execute_result",
          "data": {
            "text/plain": [
              "array([[ 3.09050375, -0.41186271],\n",
              "       [ 1.41901524,  3.70434871],\n",
              "       [ 2.37165066,  1.90180012],\n",
              "       [ 2.33961143,  2.56664135],\n",
              "       [ 1.40386612,  5.44720485],\n",
              "       [ 2.54539229,  1.80336827],\n",
              "       [ 3.45886412, -0.44779752],\n",
              "       [ 2.24991506,  1.89254942],\n",
              "       [ 1.73356525,  3.56265072],\n",
              "       [ 1.63143998,  4.21123648]])"
            ]
          },
          "metadata": {},
          "execution_count": 292
        }
      ],
      "source": [
        "sample = x6 [indices] # fancy indexing\n",
        "sample"
      ]
    },
    {
      "cell_type": "code",
      "execution_count": 293,
      "id": "df39f73f",
      "metadata": {
        "colab": {
          "base_uri": "https://localhost:8080/"
        },
        "id": "df39f73f",
        "outputId": "b245789d-6c19-416f-8377-902e6432a416"
      },
      "outputs": [
        {
          "output_type": "execute_result",
          "data": {
            "text/plain": [
              "(10, 2)"
            ]
          },
          "metadata": {},
          "execution_count": 293
        }
      ],
      "source": [
        "sample.shape"
      ]
    },
    {
      "cell_type": "markdown",
      "source": [
        "Now let's see which points were selected by over-plotting large circles at the location of selected points."
      ],
      "metadata": {
        "id": "0tWGntYzkDoy"
      },
      "id": "0tWGntYzkDoy"
    },
    {
      "cell_type": "code",
      "execution_count": 294,
      "id": "d0b89733",
      "metadata": {
        "colab": {
          "base_uri": "https://localhost:8080/",
          "height": 265
        },
        "id": "d0b89733",
        "outputId": "37233f35-8445-4538-b3a2-1f7108e6fc28"
      },
      "outputs": [
        {
          "output_type": "display_data",
          "data": {
            "text/plain": [
              "<Figure size 432x288 with 1 Axes>"
            ],
            "image/png": "[encoded data removed]"
          },
          "metadata": {
            "needs_background": "light"
          }
        }
      ],
      "source": [
        "plt.scatter(x6[:,0],x6[:,1],alpha = 0.3)\n",
        "plt.scatter(sample[:,0],sample[:,1]);"
      ]
    },
    {
      "cell_type": "markdown",
      "source": [
        "This technique can be used to quickly partition datasets, such as splitting data into train/test validation datasets."
      ],
      "metadata": {
        "id": "8UXdAVY4-mW0"
      },
      "id": "8UXdAVY4-mW0"
    },
    {
      "cell_type": "code",
      "execution_count": 295,
      "id": "fce74341",
      "metadata": {
        "id": "fce74341"
      },
      "outputs": [],
      "source": [
        "mean = [0,0]\n",
        "cov = [[1,-1],\n",
        "       [-1,1]]\n",
        "x = np.random.multivariate_normal(mean,cov,100)"
      ]
    },
    {
      "cell_type": "code",
      "execution_count": 296,
      "id": "5dba7ff5",
      "metadata": {
        "colab": {
          "base_uri": "https://localhost:8080/"
        },
        "id": "5dba7ff5",
        "outputId": "90b2b919-957f-4d64-f81a-1b4a1bfba9ca"
      },
      "outputs": [
        {
          "output_type": "execute_result",
          "data": {
            "text/plain": [
              "array([[-1.85514026,  1.85514026],\n",
              "       [ 1.43973281, -1.43973281],\n",
              "       [ 0.59167562, -0.59167562],\n",
              "       [-0.43057161,  0.43057161],\n",
              "       [ 0.99938694, -0.99938694],\n",
              "       [-0.1667929 ,  0.1667929 ],\n",
              "       [ 1.90940936, -1.90940936],\n",
              "       [ 0.49122542, -0.49122542],\n",
              "       [-1.0950153 ,  1.0950153 ],\n",
              "       [-0.75280851,  0.75280851]])"
            ]
          },
          "metadata": {},
          "execution_count": 296
        }
      ],
      "source": [
        "x[:10]"
      ]
    },
    {
      "cell_type": "code",
      "execution_count": 297,
      "id": "0be746c1",
      "metadata": {
        "colab": {
          "base_uri": "https://localhost:8080/",
          "height": 265
        },
        "id": "0be746c1",
        "outputId": "173fa558-6c6b-4ba2-98e6-12b39e20859b"
      },
      "outputs": [
        {
          "output_type": "display_data",
          "data": {
            "text/plain": [
              "<Figure size 432x288 with 1 Axes>"
            ],
            "image/png": "[encoded data removed]"
          },
          "metadata": {
            "needs_background": "light"
          }
        }
      ],
      "source": [
        "plt.scatter(x[:,0],x[:,1],alpha = 0.3);"
      ]
    },
    {
      "cell_type": "code",
      "execution_count": 298,
      "id": "0597e6da",
      "metadata": {
        "id": "0597e6da"
      },
      "outputs": [],
      "source": [
        "mean = [0,0]\n",
        "cov = [[1 ,1],\n",
        "      [1,1]]\n",
        "x = np.random.multivariate_normal(mean,cov,100)"
      ]
    },
    {
      "cell_type": "code",
      "execution_count": 299,
      "id": "6f401869",
      "metadata": {
        "colab": {
          "base_uri": "https://localhost:8080/"
        },
        "id": "6f401869",
        "outputId": "4fd4c055-b162-4728-8f48-05af38ca86b7"
      },
      "outputs": [
        {
          "output_type": "execute_result",
          "data": {
            "text/plain": [
              "array([[ 0.37432288,  0.37432288],\n",
              "       [-0.86032408, -0.86032408],\n",
              "       [ 0.95441259,  0.95441259],\n",
              "       [ 1.74687503,  1.74687503],\n",
              "       [ 0.57711625,  0.57711625],\n",
              "       [ 1.48589573,  1.48589573],\n",
              "       [-0.32520231, -0.32520231],\n",
              "       [-0.89534334, -0.89534334],\n",
              "       [-1.3492067 , -1.3492067 ],\n",
              "       [ 0.22809559,  0.22809559]])"
            ]
          },
          "metadata": {},
          "execution_count": 299
        }
      ],
      "source": [
        "x[:10]"
      ]
    },
    {
      "cell_type": "code",
      "execution_count": 300,
      "id": "e1d4e97e",
      "metadata": {
        "colab": {
          "base_uri": "https://localhost:8080/",
          "height": 269
        },
        "id": "e1d4e97e",
        "outputId": "c3ba4009-90a5-4dbe-f2f8-6378372203ff"
      },
      "outputs": [
        {
          "output_type": "display_data",
          "data": {
            "text/plain": [
              "<Figure size 432x288 with 1 Axes>"
            ],
            "image/png": "[encoded data removed]"
          },
          "metadata": {
            "needs_background": "light"
          }
        }
      ],
      "source": [
        "plt.scatter(x[:,0],x[:,1],alpha = 0.5);"
      ]
    },
    {
      "cell_type": "markdown",
      "id": "92606394",
      "metadata": {
        "id": "92606394"
      },
      "source": [
        "#### Modifying Values with Fancy Indexing\n",
        "\n",
        "Fancy indexing can be used to modify parts of an array"
      ]
    },
    {
      "cell_type": "code",
      "execution_count": 301,
      "id": "a93f788c",
      "metadata": {
        "id": "a93f788c"
      },
      "outputs": [],
      "source": [
        "x = np.arange(10)"
      ]
    },
    {
      "cell_type": "code",
      "execution_count": 302,
      "id": "8eb9b310",
      "metadata": {
        "colab": {
          "base_uri": "https://localhost:8080/"
        },
        "id": "8eb9b310",
        "outputId": "abde9fee-f847-4b31-82fb-a023701f243b"
      },
      "outputs": [
        {
          "output_type": "execute_result",
          "data": {
            "text/plain": [
              "array([0, 1, 2, 3, 4, 5, 6, 7, 8, 9])"
            ]
          },
          "metadata": {},
          "execution_count": 302
        }
      ],
      "source": [
        "x"
      ]
    },
    {
      "cell_type": "code",
      "execution_count": 303,
      "id": "c81b027b",
      "metadata": {
        "id": "c81b027b"
      },
      "outputs": [],
      "source": [
        "i = np.array([2,1,8,4])"
      ]
    },
    {
      "cell_type": "code",
      "execution_count": 304,
      "id": "d47f6181",
      "metadata": {
        "colab": {
          "base_uri": "https://localhost:8080/"
        },
        "id": "d47f6181",
        "outputId": "5138619a-b321-4490-ff3c-4edfda2dd0af"
      },
      "outputs": [
        {
          "output_type": "execute_result",
          "data": {
            "text/plain": [
              "array([2, 1, 8, 4])"
            ]
          },
          "metadata": {},
          "execution_count": 304
        }
      ],
      "source": [
        "i"
      ]
    },
    {
      "cell_type": "code",
      "execution_count": 305,
      "id": "3a4a9958",
      "metadata": {
        "id": "3a4a9958"
      },
      "outputs": [],
      "source": [
        "# any assignment operator works\n",
        "x[i] = 999"
      ]
    },
    {
      "cell_type": "code",
      "execution_count": 306,
      "id": "a708f508",
      "metadata": {
        "colab": {
          "base_uri": "https://localhost:8080/"
        },
        "id": "a708f508",
        "outputId": "a509c1b5-eb6f-4c9e-e43a-5e5fc0c1d046"
      },
      "outputs": [
        {
          "output_type": "execute_result",
          "data": {
            "text/plain": [
              "array([  0, 999, 999,   3, 999,   5,   6,   7, 999,   9])"
            ]
          },
          "metadata": {},
          "execution_count": 306
        }
      ],
      "source": [
        "x"
      ]
    },
    {
      "cell_type": "markdown",
      "id": "08aa3853",
      "metadata": {
        "id": "08aa3853"
      },
      "source": [
        "##### Assignmnt Operator"
      ]
    },
    {
      "cell_type": "code",
      "execution_count": 307,
      "id": "5a556cb0",
      "metadata": {
        "colab": {
          "base_uri": "https://localhost:8080/"
        },
        "id": "5a556cb0",
        "outputId": "ab8f5f29-910c-40f7-f8ca-7cba4da8d43a"
      },
      "outputs": [
        {
          "output_type": "execute_result",
          "data": {
            "text/plain": [
              "array([  0, 999, 999,   3, 999,   5,   6,   7, 999,   9])"
            ]
          },
          "metadata": {},
          "execution_count": 307
        }
      ],
      "source": [
        "x"
      ]
    },
    {
      "cell_type": "code",
      "execution_count": 308,
      "id": "c31a3841",
      "metadata": {
        "colab": {
          "base_uri": "https://localhost:8080/"
        },
        "id": "c31a3841",
        "outputId": "b1ed5fb3-92be-4100-8bc9-7fea2bcffc35"
      },
      "outputs": [
        {
          "output_type": "execute_result",
          "data": {
            "text/plain": [
              "array([2, 1, 8, 4])"
            ]
          },
          "metadata": {},
          "execution_count": 308
        }
      ],
      "source": [
        "i"
      ]
    },
    {
      "cell_type": "code",
      "execution_count": 309,
      "id": "1a16a698",
      "metadata": {
        "id": "1a16a698"
      },
      "outputs": [],
      "source": [
        "x[i] += 1"
      ]
    },
    {
      "cell_type": "code",
      "execution_count": 310,
      "id": "ed00c837",
      "metadata": {
        "colab": {
          "base_uri": "https://localhost:8080/"
        },
        "id": "ed00c837",
        "outputId": "b62cf3e3-0fc2-475c-b99c-bc99121d40a9"
      },
      "outputs": [
        {
          "output_type": "execute_result",
          "data": {
            "text/plain": [
              "array([   0, 1000, 1000,    3, 1000,    5,    6,    7, 1000,    9])"
            ]
          },
          "metadata": {},
          "execution_count": 310
        }
      ],
      "source": [
        "x"
      ]
    },
    {
      "cell_type": "markdown",
      "id": "cda6dad8",
      "metadata": {
        "id": "cda6dad8"
      },
      "source": [
        "##### Sorting Arrays "
      ]
    },
    {
      "cell_type": "markdown",
      "source": [
        "Numpy has sorting functions which are much faster than built-in sorting functions.\n",
        "\n",
        "In order to return the sorted version of the array without modifying the input, we can use np.sort function."
      ],
      "metadata": {
        "id": "_geRq3oq-7p9"
      },
      "id": "_geRq3oq-7p9"
    },
    {
      "cell_type": "code",
      "execution_count": 311,
      "id": "b60b4dec",
      "metadata": {
        "colab": {
          "base_uri": "https://localhost:8080/"
        },
        "id": "b60b4dec",
        "outputId": "bb1df301-55b1-4b58-ebf3-27226b25a5b1"
      },
      "outputs": [
        {
          "output_type": "execute_result",
          "data": {
            "text/plain": [
              "array([-3,  0,  3,  4,  8])"
            ]
          },
          "metadata": {},
          "execution_count": 311
        }
      ],
      "source": [
        "x = np.array([3,4,-3,0,8])\n",
        "np.sort(x) # returns a new sorted array"
      ]
    },
    {
      "cell_type": "code",
      "execution_count": 312,
      "id": "642473fb",
      "metadata": {
        "id": "642473fb"
      },
      "outputs": [],
      "source": [
        "# in-place sorting\n",
        "x.sort()"
      ]
    },
    {
      "cell_type": "code",
      "execution_count": 313,
      "id": "b9ff5f3a",
      "metadata": {
        "colab": {
          "base_uri": "https://localhost:8080/"
        },
        "id": "b9ff5f3a",
        "outputId": "0d4c00f4-7706-4d6d-b9f2-d0e2abbbb3a6"
      },
      "outputs": [
        {
          "output_type": "execute_result",
          "data": {
            "text/plain": [
              "array([-3,  0,  3,  4,  8])"
            ]
          },
          "metadata": {},
          "execution_count": 313
        }
      ],
      "source": [
        "x # original array unchanged"
      ]
    },
    {
      "cell_type": "raw",
      "id": "8a251986",
      "metadata": {
        "id": "8a251986"
      },
      "source": [
        "argsort => gives sorted index "
      ]
    },
    {
      "cell_type": "code",
      "execution_count": 314,
      "id": "1a7a0b94",
      "metadata": {
        "colab": {
          "base_uri": "https://localhost:8080/"
        },
        "id": "1a7a0b94",
        "outputId": "269fcd79-4d08-4f1c-8174-ee80c912efe6"
      },
      "outputs": [
        {
          "output_type": "execute_result",
          "data": {
            "text/plain": [
              "array([ 3,  4, -3,  0,  8])"
            ]
          },
          "metadata": {},
          "execution_count": 314
        }
      ],
      "source": [
        "x = np.array([3,4,-3,0,8])\n",
        "x"
      ]
    },
    {
      "cell_type": "code",
      "execution_count": 315,
      "id": "4af1962f",
      "metadata": {
        "colab": {
          "base_uri": "https://localhost:8080/"
        },
        "id": "4af1962f",
        "outputId": "4e1ad222-4878-4b3c-c7d0-19dbdd011e7e"
      },
      "outputs": [
        {
          "output_type": "execute_result",
          "data": {
            "text/plain": [
              "array([2, 3, 0, 1, 4])"
            ]
          },
          "metadata": {},
          "execution_count": 315
        }
      ],
      "source": [
        "np.argsort(x) # returns the indices of sorted elements"
      ]
    },
    {
      "cell_type": "markdown",
      "source": [
        "In order to get the elements in sorted order from the indices above, we can use fancy indexing.\n",
        "\n"
      ],
      "metadata": {
        "id": "Ht7EVHdL_QAY"
      },
      "id": "Ht7EVHdL_QAY"
    },
    {
      "cell_type": "code",
      "execution_count": 316,
      "id": "c50cbf51",
      "metadata": {
        "colab": {
          "base_uri": "https://localhost:8080/"
        },
        "id": "c50cbf51",
        "outputId": "b38b3bc8-5e63-4210-f266-659e81c4c99c"
      },
      "outputs": [
        {
          "output_type": "execute_result",
          "data": {
            "text/plain": [
              "array([-3,  0,  3,  4,  8])"
            ]
          },
          "metadata": {},
          "execution_count": 316
        }
      ],
      "source": [
        "x[np.argsort(x)] # use fancy indexing to abtain sorted array using argsort."
      ]
    },
    {
      "cell_type": "markdown",
      "id": "6e7f8a78",
      "metadata": {
        "id": "6e7f8a78"
      },
      "source": [
        "##### Sorting along the rows and column"
      ]
    },
    {
      "cell_type": "markdown",
      "source": [
        "Numpy's sorting algoriths can sort along specific rows or columns of a multi-dimensional array using the `axis` argument."
      ],
      "metadata": {
        "id": "JpjWfYZd_Two"
      },
      "id": "JpjWfYZd_Two"
    },
    {
      "cell_type": "code",
      "execution_count": 317,
      "id": "77223575",
      "metadata": {
        "colab": {
          "base_uri": "https://localhost:8080/"
        },
        "id": "77223575",
        "outputId": "8576b13e-8627-48d9-d564-a77f2e947ed0"
      },
      "outputs": [
        {
          "output_type": "execute_result",
          "data": {
            "text/plain": [
              "array([[9, 6, 3, 6, 6, 8],\n",
              "       [1, 3, 6, 7, 9, 3],\n",
              "       [3, 7, 3, 7, 3, 5],\n",
              "       [2, 3, 3, 6, 7, 7]])"
            ]
          },
          "metadata": {},
          "execution_count": 317
        }
      ],
      "source": [
        "rand = np.random.RandomState(42)\n",
        "x1 = np.random.randint(1,10,(4,6))\n",
        "x1"
      ]
    },
    {
      "cell_type": "code",
      "execution_count": 318,
      "id": "9bbd2e27",
      "metadata": {
        "colab": {
          "base_uri": "https://localhost:8080/"
        },
        "id": "9bbd2e27",
        "outputId": "a71349a2-2f1a-4049-fcd5-a405cd45d71a"
      },
      "outputs": [
        {
          "output_type": "execute_result",
          "data": {
            "text/plain": [
              "array([[3, 6, 6, 6, 8, 9],\n",
              "       [1, 3, 3, 6, 7, 9],\n",
              "       [3, 3, 3, 5, 7, 7],\n",
              "       [2, 3, 3, 6, 7, 7]])"
            ]
          },
          "metadata": {},
          "execution_count": 318
        }
      ],
      "source": [
        "np.sort(x1)  # row-wise accending"
      ]
    },
    {
      "cell_type": "code",
      "execution_count": 319,
      "id": "2756530e",
      "metadata": {
        "colab": {
          "base_uri": "https://localhost:8080/"
        },
        "id": "2756530e",
        "outputId": "1859a73d-3085-460b-a9de-84f05371b2b5"
      },
      "outputs": [
        {
          "output_type": "execute_result",
          "data": {
            "text/plain": [
              "array([[1, 3, 3, 6, 3, 3],\n",
              "       [2, 3, 3, 6, 6, 5],\n",
              "       [3, 6, 3, 7, 7, 7],\n",
              "       [9, 7, 6, 7, 9, 8]])"
            ]
          },
          "metadata": {},
          "execution_count": 319
        }
      ],
      "source": [
        "np.sort(x1, axis = 0) # column-wise sorting"
      ]
    },
    {
      "cell_type": "markdown",
      "source": [
        "Please remember that the above sorts along the row or column treat each row or column as independent arrays, and any relationship between the row or column will be lost."
      ],
      "metadata": {
        "id": "PP6MERcf_arJ"
      },
      "id": "PP6MERcf_arJ"
    },
    {
      "cell_type": "markdown",
      "id": "3e07dbd8",
      "metadata": {
        "id": "3e07dbd8"
      },
      "source": [
        "**Partial sorts: partitioning**\n",
        "\n",
        "Sometimes, we do not want to sort the entire array, rather we want to simply find the K smallest values in the array. In order to do so, NumPy provide the np.partition function."
      ]
    },
    {
      "cell_type": "code",
      "execution_count": 320,
      "id": "b5c35243",
      "metadata": {
        "colab": {
          "base_uri": "https://localhost:8080/"
        },
        "id": "b5c35243",
        "outputId": "615c5e7a-97d4-4f2b-e506-03bda7f6a6ff"
      },
      "outputs": [
        {
          "output_type": "execute_result",
          "data": {
            "text/plain": [
              "array([7, 2, 3, 1, 6, 5, 4])"
            ]
          },
          "metadata": {},
          "execution_count": 320
        }
      ],
      "source": [
        "X = np.array([7,2,3,1,6,5,4])\n",
        "X"
      ]
    },
    {
      "cell_type": "code",
      "execution_count": 321,
      "id": "6448adc4",
      "metadata": {
        "colab": {
          "base_uri": "https://localhost:8080/"
        },
        "id": "6448adc4",
        "outputId": "2c082354-d5f7-4db8-e9f9-fe653bcf0561"
      },
      "outputs": [
        {
          "output_type": "execute_result",
          "data": {
            "text/plain": [
              "array([2, 1, 3, 4, 6, 5, 7])"
            ]
          },
          "metadata": {},
          "execution_count": 321
        }
      ],
      "source": [
        "np.partition(X,3)"
      ]
    },
    {
      "cell_type": "markdown",
      "source": [
        "We can partition along an arbitrary axis of a multidimensional array."
      ],
      "metadata": {
        "id": "Cfiqh2Fw_xse"
      },
      "id": "Cfiqh2Fw_xse"
    },
    {
      "cell_type": "code",
      "execution_count": 322,
      "id": "c96871f3",
      "metadata": {
        "colab": {
          "base_uri": "https://localhost:8080/"
        },
        "id": "c96871f3",
        "outputId": "bc6a94b8-5130-4b81-aeb9-f954c6a58ebf"
      },
      "outputs": [
        {
          "output_type": "execute_result",
          "data": {
            "text/plain": [
              "array([[9, 6, 3, 6, 6, 8],\n",
              "       [1, 3, 6, 7, 9, 3],\n",
              "       [3, 7, 3, 7, 3, 5],\n",
              "       [2, 3, 3, 6, 7, 7]])"
            ]
          },
          "metadata": {},
          "execution_count": 322
        }
      ],
      "source": [
        "x1"
      ]
    },
    {
      "cell_type": "code",
      "execution_count": 323,
      "id": "685e9ef6",
      "metadata": {
        "colab": {
          "base_uri": "https://localhost:8080/"
        },
        "id": "685e9ef6",
        "outputId": "aa5be9db-1854-4a88-c1f3-ec3329c60753"
      },
      "outputs": [
        {
          "output_type": "execute_result",
          "data": {
            "text/plain": [
              "array([[3, 6, 6, 9, 6, 8],\n",
              "       [1, 3, 3, 7, 9, 6],\n",
              "       [3, 3, 3, 7, 7, 5],\n",
              "       [2, 3, 3, 6, 7, 7]])"
            ]
          },
          "metadata": {},
          "execution_count": 323
        }
      ],
      "source": [
        "np.partition(x1,2)"
      ]
    },
    {
      "cell_type": "code",
      "execution_count": 324,
      "id": "ee61dd73",
      "metadata": {
        "colab": {
          "base_uri": "https://localhost:8080/"
        },
        "id": "ee61dd73",
        "outputId": "4f766a31-0fc2-4d5c-e60a-da09ae0bd519"
      },
      "outputs": [
        {
          "output_type": "execute_result",
          "data": {
            "text/plain": [
              "array([[1, 3, 3, 6, 3, 3],\n",
              "       [2, 3, 3, 6, 6, 5],\n",
              "       [3, 6, 3, 7, 7, 7],\n",
              "       [9, 7, 6, 7, 9, 8]])"
            ]
          },
          "metadata": {},
          "execution_count": 324
        }
      ],
      "source": [
        "np.partition(x1,2,axis =0)"
      ]
    },
    {
      "cell_type": "code",
      "execution_count": 325,
      "id": "349a6727",
      "metadata": {
        "colab": {
          "base_uri": "https://localhost:8080/"
        },
        "id": "349a6727",
        "outputId": "4dbd0bed-2ab8-417d-b9e5-a1021072f4bc"
      },
      "outputs": [
        {
          "output_type": "execute_result",
          "data": {
            "text/plain": [
              "array([ 3,  4, -3,  0,  8])"
            ]
          },
          "metadata": {},
          "execution_count": 325
        }
      ],
      "source": [
        "x\n"
      ]
    },
    {
      "cell_type": "code",
      "execution_count": 326,
      "id": "cb76e029",
      "metadata": {
        "colab": {
          "base_uri": "https://localhost:8080/"
        },
        "id": "cb76e029",
        "outputId": "31181e5e-730d-4d84-b98d-cad0736b7f6f"
      },
      "outputs": [
        {
          "output_type": "execute_result",
          "data": {
            "text/plain": [
              "array([ 8,  4,  3,  0, -3])"
            ]
          },
          "metadata": {},
          "execution_count": 326
        }
      ],
      "source": [
        "-np.sort(-x) # sorting in decending order"
      ]
    },
    {
      "cell_type": "markdown",
      "id": "2aab99d4",
      "metadata": {
        "id": "2aab99d4"
      },
      "source": [
        "##### Structured Data: Numpy's Structured Array"
      ]
    },
    {
      "cell_type": "markdown",
      "source": [
        "Let's imagine that we have several categories of data on a number of people."
      ],
      "metadata": {
        "id": "FKO0nrj-_4o9"
      },
      "id": "FKO0nrj-_4o9"
    },
    {
      "cell_type": "code",
      "execution_count": 327,
      "id": "324782d2",
      "metadata": {
        "id": "324782d2"
      },
      "outputs": [],
      "source": [
        "name = [\"Alice\",\"Bob\",\"Cathey\",\"Steve\"]\n",
        "age = [35,42,25,15]\n",
        "weight = [60.3,80.2,75.1,51.0]"
      ]
    },
    {
      "cell_type": "markdown",
      "source": [
        "In the above way, there is nothing that tells us that the 3 data are related.\n",
        "\n",
        "So we need a single structure to store all those data.\n",
        "\n",
        "NumPy can handle this through structured arrays, which are arrays with compound data types."
      ],
      "metadata": {
        "id": "G1sat2JV_7Mr"
      },
      "id": "G1sat2JV_7Mr"
    },
    {
      "cell_type": "code",
      "execution_count": 329,
      "id": "331d47f5",
      "metadata": {
        "colab": {
          "base_uri": "https://localhost:8080/"
        },
        "id": "331d47f5",
        "outputId": "68991617-2168-45f1-eb05-231ece0e4daf"
      },
      "outputs": [
        {
          "output_type": "execute_result",
          "data": {
            "text/plain": [
              "dtype([('name', '<U10'), ('age', '<i4'), ('weight', '<f8')])"
            ]
          },
          "metadata": {},
          "execution_count": 329
        }
      ],
      "source": [
        "import numpy as np\n",
        "# Use a compound data type for structured arrays.\n",
        "data = np.zeros(4, dtype={'names':('name', 'age', 'weight'),\n",
        "                          'formats':('U10', 'i4', 'f8')})\n",
        "data.dtype"
      ]
    },
    {
      "cell_type": "code",
      "source": [
        "data"
      ],
      "metadata": {
        "colab": {
          "base_uri": "https://localhost:8080/"
        },
        "id": "6_evgQG1_-pt",
        "outputId": "5d7e0101-781f-454b-8d82-ef2c33eab72e"
      },
      "id": "6_evgQG1_-pt",
      "execution_count": 330,
      "outputs": [
        {
          "output_type": "execute_result",
          "data": {
            "text/plain": [
              "array([('', 0, 0.), ('', 0, 0.), ('', 0, 0.), ('', 0, 0.)],\n",
              "      dtype=[('name', '<U10'), ('age', '<i4'), ('weight', '<f8')])"
            ]
          },
          "metadata": {},
          "execution_count": 330
        }
      ]
    },
    {
      "cell_type": "markdown",
      "source": [
        "In the above code,\n",
        "\n",
        "* U10: Unicode string of max length 10\n",
        "* i4: 4-byte integer\n",
        "* f8: 8-byte float\n",
        "\n",
        "We just created an empty container array. Now let's fill in the data."
      ],
      "metadata": {
        "id": "LxQ4suzRAIJ4"
      },
      "id": "LxQ4suzRAIJ4"
    },
    {
      "cell_type": "code",
      "source": [
        "# we use the arrays we defined above to fill in the values\n",
        "data['name'] = name\n",
        "data['age'] = age\n",
        "data['weight'] = weight\n",
        "\n",
        "data"
      ],
      "metadata": {
        "colab": {
          "base_uri": "https://localhost:8080/"
        },
        "id": "0iXIdHVpAFk2",
        "outputId": "a3bb2593-c80b-4935-fcab-4c23beac34d2"
      },
      "id": "0iXIdHVpAFk2",
      "execution_count": 331,
      "outputs": [
        {
          "output_type": "execute_result",
          "data": {
            "text/plain": [
              "array([('Alice', 35, 60.3), ('Bob', 42, 80.2), ('Cathey', 25, 75.1),\n",
              "       ('Steve', 15, 51. )],\n",
              "      dtype=[('name', '<U10'), ('age', '<i4'), ('weight', '<f8')])"
            ]
          },
          "metadata": {},
          "execution_count": 331
        }
      ]
    },
    {
      "cell_type": "code",
      "source": [
        "# get all names\n",
        "data['name']"
      ],
      "metadata": {
        "colab": {
          "base_uri": "https://localhost:8080/"
        },
        "id": "Ca2NlX-lAQ4x",
        "outputId": "3be20912-9859-4bd8-cc93-e006628f2f4f"
      },
      "id": "Ca2NlX-lAQ4x",
      "execution_count": 332,
      "outputs": [
        {
          "output_type": "execute_result",
          "data": {
            "text/plain": [
              "array(['Alice', 'Bob', 'Cathey', 'Steve'], dtype='<U10')"
            ]
          },
          "metadata": {},
          "execution_count": 332
        }
      ]
    },
    {
      "cell_type": "code",
      "source": [
        "# get first row of data\n",
        "data[0]"
      ],
      "metadata": {
        "colab": {
          "base_uri": "https://localhost:8080/"
        },
        "id": "vyFIwE7-Azec",
        "outputId": "89a13fa1-fcad-43d4-ee24-4ef1629dd6fc"
      },
      "id": "vyFIwE7-Azec",
      "execution_count": 333,
      "outputs": [
        {
          "output_type": "execute_result",
          "data": {
            "text/plain": [
              "('Alice', 35, 60.3)"
            ]
          },
          "metadata": {},
          "execution_count": 333
        }
      ]
    },
    {
      "cell_type": "code",
      "source": [
        "# get first row of data\n",
        "data[0]"
      ],
      "metadata": {
        "colab": {
          "base_uri": "https://localhost:8080/"
        },
        "id": "hr2S7Jk_A0bS",
        "outputId": "0e66da76-8b23-42b7-d15c-4df7acbdb8aa"
      },
      "id": "hr2S7Jk_A0bS",
      "execution_count": 334,
      "outputs": [
        {
          "output_type": "execute_result",
          "data": {
            "text/plain": [
              "('Alice', 35, 60.3)"
            ]
          },
          "metadata": {},
          "execution_count": 334
        }
      ]
    },
    {
      "cell_type": "markdown",
      "source": [
        "By using boolean masking, we can perform more sophisticated operations, such as filtering on age."
      ],
      "metadata": {
        "id": "kzBn38rJA3qQ"
      },
      "id": "kzBn38rJA3qQ"
    },
    {
      "cell_type": "code",
      "source": [
        "data[data['age'] < 30]['name']"
      ],
      "metadata": {
        "colab": {
          "base_uri": "https://localhost:8080/"
        },
        "id": "Ui3k2YrUA2Rg",
        "outputId": "352e3b2d-dad8-4697-9a83-c068dac5c7aa"
      },
      "id": "Ui3k2YrUA2Rg",
      "execution_count": 335,
      "outputs": [
        {
          "output_type": "execute_result",
          "data": {
            "text/plain": [
              "array(['Cathey', 'Steve'], dtype='<U10')"
            ]
          },
          "metadata": {},
          "execution_count": 335
        }
      ]
    },
    {
      "cell_type": "markdown",
      "source": [
        "**Creating Structured Arrays**\n",
        "\n",
        "Structured array data types can be specified in a number of ways.\n",
        "\n",
        "We saw the dictionary method above."
      ],
      "metadata": {
        "id": "XNy-OL_LA89m"
      },
      "id": "XNy-OL_LA89m"
    },
    {
      "cell_type": "code",
      "source": [
        "np.dtype({'names':('name', 'age', 'weight'),\n",
        "          'formats':('U10', 'i4', 'f8')})"
      ],
      "metadata": {
        "colab": {
          "base_uri": "https://localhost:8080/"
        },
        "id": "AQf_vksJA7WN",
        "outputId": "8ac639b4-1984-44c3-eb4d-54b0b0d442b0"
      },
      "id": "AQf_vksJA7WN",
      "execution_count": 336,
      "outputs": [
        {
          "output_type": "execute_result",
          "data": {
            "text/plain": [
              "dtype([('name', '<U10'), ('age', '<i4'), ('weight', '<f8')])"
            ]
          },
          "metadata": {},
          "execution_count": 336
        }
      ]
    },
    {
      "cell_type": "code",
      "source": [
        "# For clarity, numerical types can be specified with Python types of NumPy dtypes\n",
        "np.dtype({'names':('name', 'age', 'weight'),\n",
        "          'formats':((np.str_, 10), int, np.float32)}) # Python type (int) and NumPy types (np.str_, np.float32)"
      ],
      "metadata": {
        "colab": {
          "base_uri": "https://localhost:8080/"
        },
        "id": "vj_zSaNEBAkh",
        "outputId": "72944cb3-1f65-4c5d-8ab4-a2a8f53fc739"
      },
      "id": "vj_zSaNEBAkh",
      "execution_count": 337,
      "outputs": [
        {
          "output_type": "execute_result",
          "data": {
            "text/plain": [
              "dtype([('name', '<U10'), ('age', '<i8'), ('weight', '<f4')])"
            ]
          },
          "metadata": {},
          "execution_count": 337
        }
      ]
    },
    {
      "cell_type": "code",
      "source": [
        "# compound type can also be specified as a list of tuples\n",
        "np.dtype([('name','S10'),('age','i4'), ('weight','f8')])"
      ],
      "metadata": {
        "colab": {
          "base_uri": "https://localhost:8080/"
        },
        "id": "cy0DPub2BCOr",
        "outputId": "39da743c-511d-4cb5-c47f-26da9aaf3b3f"
      },
      "id": "cy0DPub2BCOr",
      "execution_count": 338,
      "outputs": [
        {
          "output_type": "execute_result",
          "data": {
            "text/plain": [
              "dtype([('name', 'S10'), ('age', '<i4'), ('weight', '<f8')])"
            ]
          },
          "metadata": {},
          "execution_count": 338
        }
      ]
    },
    {
      "cell_type": "code",
      "source": [
        "# if name of the types do not matter, can specify the types only\n",
        "np.dtype('S10, i4, f8')"
      ],
      "metadata": {
        "colab": {
          "base_uri": "https://localhost:8080/"
        },
        "id": "95rlaJoqBD44",
        "outputId": "60068ee6-d712-435e-bb4d-550a19cd7c24"
      },
      "id": "95rlaJoqBD44",
      "execution_count": 339,
      "outputs": [
        {
          "output_type": "execute_result",
          "data": {
            "text/plain": [
              "dtype([('f0', 'S10'), ('f1', '<i4'), ('f2', '<f8')])"
            ]
          },
          "metadata": {},
          "execution_count": 339
        }
      ]
    },
    {
      "cell_type": "markdown",
      "source": [
        "![image.png](data:image/png;base64,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)"
      ],
      "metadata": {
        "id": "vszX4Wy0BJgv"
      },
      "id": "vszX4Wy0BJgv"
    },
    {
      "cell_type": "markdown",
      "source": [
        "**RecordArrays: Structured Arrays with a Twist**\n",
        "\n",
        "NumPy has `np.recarray` class, which is the same as structured arrays seen above, but with one additional feature: fields can be accessed as attributes with the dot notation."
      ],
      "metadata": {
        "id": "SOHEw6dBBLyS"
      },
      "id": "SOHEw6dBBLyS"
    },
    {
      "cell_type": "code",
      "source": [
        "data['age']"
      ],
      "metadata": {
        "colab": {
          "base_uri": "https://localhost:8080/"
        },
        "id": "9fW-oUIkBFjf",
        "outputId": "6318c876-a4ce-4d9c-c2f5-c4a0d5100b14"
      },
      "id": "9fW-oUIkBFjf",
      "execution_count": 340,
      "outputs": [
        {
          "output_type": "execute_result",
          "data": {
            "text/plain": [
              "array([35, 42, 25, 15], dtype=int32)"
            ]
          },
          "metadata": {},
          "execution_count": 340
        }
      ]
    },
    {
      "cell_type": "code",
      "source": [
        "data_rec = data.view(np.recarray) # RecordArray\n",
        "data_rec.age # recordarray makes it possible to access 'age' as an attribute"
      ],
      "metadata": {
        "colab": {
          "base_uri": "https://localhost:8080/"
        },
        "id": "oWD4bxv8BR5d",
        "outputId": "adb06713-5462-4502-b8af-1b75ab723217"
      },
      "id": "oWD4bxv8BR5d",
      "execution_count": 341,
      "outputs": [
        {
          "output_type": "execute_result",
          "data": {
            "text/plain": [
              "array([35, 42, 25, 15], dtype=int32)"
            ]
          },
          "metadata": {},
          "execution_count": 341
        }
      ]
    },
    {
      "cell_type": "markdown",
      "source": [
        "But it is slower."
      ],
      "metadata": {
        "id": "gmvsWJxzBVNr"
      },
      "id": "gmvsWJxzBVNr"
    },
    {
      "cell_type": "code",
      "source": [
        "%timeit data['age']\n",
        "%timeit data_rec['age']\n",
        "%timeit data_rec.age"
      ],
      "metadata": {
        "colab": {
          "base_uri": "https://localhost:8080/"
        },
        "id": "Np-GPUdmBTjl",
        "outputId": "f542ff1b-3b5f-4496-90ce-2de160b7fbff"
      },
      "id": "Np-GPUdmBTjl",
      "execution_count": 342,
      "outputs": [
        {
          "output_type": "stream",
          "name": "stdout",
          "text": [
            "The slowest run took 67.99 times longer than the fastest. This could mean that an intermediate result is being cached.\n",
            "1000000 loops, best of 5: 121 ns per loop\n",
            "The slowest run took 8.86 times longer than the fastest. This could mean that an intermediate result is being cached.\n",
            "100000 loops, best of 5: 2.62 µs per loop\n",
            "The slowest run took 7.11 times longer than the fastest. This could mean that an intermediate result is being cached.\n",
            "100000 loops, best of 5: 3.99 µs per loop\n"
          ]
        }
      ]
    },
    {
      "cell_type": "markdown",
      "source": [
        "As you can see above, accessing data using RecordArray is much slower."
      ],
      "metadata": {
        "id": "n9jafPx5Baal"
      },
      "id": "n9jafPx5Baal"
    },
    {
      "cell_type": "code",
      "source": [
        ""
      ],
      "metadata": {
        "id": "cjCyU9YcBdk-"
      },
      "id": "cjCyU9YcBdk-",
      "execution_count": null,
      "outputs": []
    }
  ],
  "metadata": {
    "colab": {
      "name": "Numpy.ipynb",
      "provenance": []
    },
    "kernelspec": {
      "display_name": "Python 3",
      "language": "python",
      "name": "python3"
    },
    "language_info": {
      "codemirror_mode": {
        "name": "ipython",
        "version": 3
      },
      "file_extension": ".py",
      "mimetype": "text/x-python",
      "name": "python",
      "nbconvert_exporter": "python",
      "pygments_lexer": "ipython3",
      "version": "3.10.2"
    }
  },
  "nbformat": 4,
  "nbformat_minor": 5
}